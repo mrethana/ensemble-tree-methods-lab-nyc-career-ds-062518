{
 "cells": [
  {
   "cell_type": "markdown",
   "metadata": {},
   "source": [
    "# Ensemble methods"
   ]
  },
  {
   "cell_type": "markdown",
   "metadata": {},
   "source": [
    "## 1. Importing the data"
   ]
  },
  {
   "cell_type": "markdown",
   "metadata": {},
   "source": [
    "We'll use the same data set whe used in the last lab. The salary data set was extracted from the census bureau database and contains salary information. The goal is to use this data set and to try to draw conclusions regarding what drives salaries. More specifically, the target variable is categorical (> 50k; <= 50 k). Let's create a classification tree!"
   ]
  },
  {
   "cell_type": "code",
   "execution_count": 1,
   "metadata": {},
   "outputs": [
    {
     "name": "stderr",
     "output_type": "stream",
     "text": [
      "/anaconda3/lib/python3.6/site-packages/sklearn/cross_validation.py:41: DeprecationWarning: This module was deprecated in version 0.18 in favor of the model_selection module into which all the refactored classes and functions are moved. Also note that the interface of the new CV iterators are different from that of this module. This module will be removed in 0.20.\n",
      "  \"This module will be removed in 0.20.\", DeprecationWarning)\n"
     ]
    }
   ],
   "source": [
    "import pandas as pd\n",
    "import numpy as np\n",
    "np.random.seed(0)\n",
    "import statsmodels as sm\n",
    "import matplotlib.pyplot as plt\n",
    "import sklearn as skl\n",
    "import sklearn.preprocessing as preprocessing\n",
    "import sklearn.linear_model as linear_model\n",
    "from sklearn.cross_validation import train_test_split\n",
    "import sklearn.metrics as metrics\n",
    "import sklearn.tree as tree\n",
    "import seaborn as sns\n",
    "import graphviz \n",
    "from sklearn.tree import export_graphviz"
   ]
  },
  {
   "cell_type": "markdown",
   "metadata": {},
   "source": [
    "Our dataset is stored in the file `salaries_final.csv`.  \n",
    "\n",
    "In the cell below, read in the dataset from this file and store it in a DataFrame.  Be sure to set the `index_col` parameter to `0`.  Then, display the head of the DataFrame to ensure that everything loaded correctly."
   ]
  },
  {
   "cell_type": "code",
   "execution_count": 8,
   "metadata": {},
   "outputs": [],
   "source": [
    "salaries = pd.read_csv('salaries_final.csv')"
   ]
  },
  {
   "cell_type": "code",
   "execution_count": 9,
   "metadata": {},
   "outputs": [
    {
     "data": {
      "text/html": [
       "<div>\n",
       "<style scoped>\n",
       "    .dataframe tbody tr th:only-of-type {\n",
       "        vertical-align: middle;\n",
       "    }\n",
       "\n",
       "    .dataframe tbody tr th {\n",
       "        vertical-align: top;\n",
       "    }\n",
       "\n",
       "    .dataframe thead th {\n",
       "        text-align: right;\n",
       "    }\n",
       "</style>\n",
       "<table border=\"1\" class=\"dataframe\">\n",
       "  <thead>\n",
       "    <tr style=\"text-align: right;\">\n",
       "      <th></th>\n",
       "      <th>Unnamed: 0</th>\n",
       "      <th>Age</th>\n",
       "      <th>Education</th>\n",
       "      <th>Occupation</th>\n",
       "      <th>Relationship</th>\n",
       "      <th>Race</th>\n",
       "      <th>Sex</th>\n",
       "      <th>Target</th>\n",
       "    </tr>\n",
       "  </thead>\n",
       "  <tbody>\n",
       "    <tr>\n",
       "      <th>0</th>\n",
       "      <td>0</td>\n",
       "      <td>39</td>\n",
       "      <td>Bachelors</td>\n",
       "      <td>Adm-clerical</td>\n",
       "      <td>Not-in-family</td>\n",
       "      <td>White</td>\n",
       "      <td>Male</td>\n",
       "      <td>&lt;=50K</td>\n",
       "    </tr>\n",
       "    <tr>\n",
       "      <th>1</th>\n",
       "      <td>1</td>\n",
       "      <td>50</td>\n",
       "      <td>Bachelors</td>\n",
       "      <td>Exec-managerial</td>\n",
       "      <td>Husband</td>\n",
       "      <td>White</td>\n",
       "      <td>Male</td>\n",
       "      <td>&lt;=50K</td>\n",
       "    </tr>\n",
       "    <tr>\n",
       "      <th>2</th>\n",
       "      <td>2</td>\n",
       "      <td>38</td>\n",
       "      <td>HS-grad</td>\n",
       "      <td>Handlers-cleaners</td>\n",
       "      <td>Not-in-family</td>\n",
       "      <td>White</td>\n",
       "      <td>Male</td>\n",
       "      <td>&lt;=50K</td>\n",
       "    </tr>\n",
       "    <tr>\n",
       "      <th>3</th>\n",
       "      <td>3</td>\n",
       "      <td>53</td>\n",
       "      <td>11th</td>\n",
       "      <td>Handlers-cleaners</td>\n",
       "      <td>Husband</td>\n",
       "      <td>Black</td>\n",
       "      <td>Male</td>\n",
       "      <td>&lt;=50K</td>\n",
       "    </tr>\n",
       "    <tr>\n",
       "      <th>4</th>\n",
       "      <td>4</td>\n",
       "      <td>28</td>\n",
       "      <td>Bachelors</td>\n",
       "      <td>Prof-specialty</td>\n",
       "      <td>Wife</td>\n",
       "      <td>Black</td>\n",
       "      <td>Female</td>\n",
       "      <td>&lt;=50K</td>\n",
       "    </tr>\n",
       "  </tbody>\n",
       "</table>\n",
       "</div>"
      ],
      "text/plain": [
       "   Unnamed: 0  Age  Education         Occupation   Relationship   Race  \\\n",
       "0           0   39  Bachelors       Adm-clerical  Not-in-family  White   \n",
       "1           1   50  Bachelors    Exec-managerial        Husband  White   \n",
       "2           2   38    HS-grad  Handlers-cleaners  Not-in-family  White   \n",
       "3           3   53       11th  Handlers-cleaners        Husband  Black   \n",
       "4           4   28  Bachelors     Prof-specialty           Wife  Black   \n",
       "\n",
       "      Sex Target  \n",
       "0    Male  <=50K  \n",
       "1    Male  <=50K  \n",
       "2    Male  <=50K  \n",
       "3    Male  <=50K  \n",
       "4  Female  <=50K  "
      ]
     },
     "execution_count": 9,
     "metadata": {},
     "output_type": "execute_result"
    }
   ],
   "source": [
    "salaries.head()"
   ]
  },
  {
   "cell_type": "markdown",
   "metadata": {},
   "source": [
    "In total, there are 6 predictors, and one outcome variable, the target salary <= 50k/ >50k."
   ]
  },
  {
   "cell_type": "markdown",
   "metadata": {},
   "source": [
    "recall that the 6 predictors are:\n",
    "\n",
    "- `Age`: continuous.\n",
    "\n",
    "- `Education`: Categorical. Bachelors, Some-college, 11th, HS-grad, Prof-school, Assoc-acdm, Assoc-voc, 9th, 7th-8th, 12th, \n",
    "Masters, 1st-4th, 10th, Doctorate, 5th-6th, Preschool.\n",
    "\n",
    "- `Occupation`: Tech-support, Craft-repair, Other-service, Sales, Exec-managerial, Prof-specialty, Handlers-cleaners, Machine-op-inspct, Adm-clerical, Farming-fishing, Transport-moving, Priv-house-serv, Protective-serv, Armed-Forces.\n",
    "\n",
    "- `Relationship`: Wife, Own-child, Husband, Not-in-family, Other-relative, Unmarried.\n",
    "\n",
    "- `Race`: White, Asian-Pac-Islander, Amer-Indian-Eskimo, Other, Black.\n",
    "\n",
    "- `Sex`: Female, Male."
   ]
  },
  {
   "cell_type": "markdown",
   "metadata": {},
   "source": [
    "In the last lab, we used the `patsy` library's `dmatrices` module to convert our categorical columns to a one-hot encoded format.  In this lab, we'll pandas to accomplish the same task.  \n",
    "\n",
    "First, we'll need to store our target column in a separate variable and drop it from the dataset.  \n",
    "\n",
    "Do this in the cell below. "
   ]
  },
  {
   "cell_type": "code",
   "execution_count": 10,
   "metadata": {},
   "outputs": [],
   "source": [
    "target = salaries.Target"
   ]
  },
  {
   "cell_type": "code",
   "execution_count": 11,
   "metadata": {},
   "outputs": [],
   "source": [
    "salaries = salaries.drop('Target',axis =1)"
   ]
  },
  {
   "cell_type": "markdown",
   "metadata": {},
   "source": [
    "Next, we'll want to confirm that the Age column is currently encoded in a numeric data type, and not a string. By default, pandas will treat all columns encoded as strings as categorical columns, and create a dummy column for each unique value contained within that column.  We do not want a separate column for each age, so let's double check that the age column is encoded as an integer or a float.  \n",
    "\n",
    "In the cell below, check the `.dtypes` of the DataFrame to examine the data type of each column. "
   ]
  },
  {
   "cell_type": "code",
   "execution_count": 12,
   "metadata": {},
   "outputs": [
    {
     "data": {
      "text/plain": [
       "Unnamed: 0       int64\n",
       "Age              int64\n",
       "Education       object\n",
       "Occupation      object\n",
       "Relationship    object\n",
       "Race            object\n",
       "Sex             object\n",
       "dtype: object"
      ]
     },
     "execution_count": 12,
     "metadata": {},
     "output_type": "execute_result"
    }
   ],
   "source": [
    "salaries.dtypes"
   ]
  },
  {
   "cell_type": "markdown",
   "metadata": {},
   "source": [
    "Great.  Now we're ready to create some dummy columns and deal with our categorical variables.  \n",
    "\n",
    "In the cell below, use pandas to create dummy columns for each of categorical variables.  If you're unsure of how to do this, check out the [documentation](https://pandas.pydata.org/pandas-docs/stable/generated/pandas.get_dummies.html).  "
   ]
  },
  {
   "cell_type": "code",
   "execution_count": null,
   "metadata": {},
   "outputs": [],
   "source": []
  },
  {
   "cell_type": "code",
   "execution_count": 14,
   "metadata": {},
   "outputs": [],
   "source": [
    "data = pd.get_dummies(salaries,prefix = ['Education','Occupation','Relationship','Race','Sex'])"
   ]
  },
  {
   "cell_type": "code",
   "execution_count": 43,
   "metadata": {},
   "outputs": [],
   "source": [
    "data = data.drop('Unnamed: 0',axis = 1)"
   ]
  },
  {
   "cell_type": "markdown",
   "metadata": {},
   "source": [
    "Now, split your data and target into training and testing sets using the appropriate method from sklearn. "
   ]
  },
  {
   "cell_type": "code",
   "execution_count": 45,
   "metadata": {},
   "outputs": [],
   "source": [
    "data_train, data_test, target_train, target_test = train_test_split(data,target)"
   ]
  },
  {
   "cell_type": "markdown",
   "metadata": {},
   "source": [
    "## 2. Let's rebuild a \"regular\" tree as a baseline\n",
    "\n",
    "We'll begin by fitting a regular Decision Tree Classifier, so that we have something to compare our ensemble methods to.  "
   ]
  },
  {
   "cell_type": "markdown",
   "metadata": {},
   "source": [
    "### 2.1 Building the tree\n",
    "\n",
    "In the cell below, create a Decision Tree Classifier.  Set the `criterion` to `'gini'`, and a `max_depth` of `5`.  Then, fit the tree to our training data and labels.  "
   ]
  },
  {
   "cell_type": "code",
   "execution_count": 52,
   "metadata": {},
   "outputs": [
    {
     "data": {
      "image/svg+xml": [
       "<?xml version=\"1.0\" encoding=\"UTF-8\" standalone=\"no\"?>\n",
       "<!DOCTYPE svg PUBLIC \"-//W3C//DTD SVG 1.1//EN\"\n",
       " \"http://www.w3.org/Graphics/SVG/1.1/DTD/svg11.dtd\">\n",
       "<!-- Generated by graphviz version 2.40.1 (20161225.0304)\n",
       " -->\n",
       "<!-- Title: Tree Pages: 1 -->\n",
       "<svg width=\"4346pt\" height=\"642pt\"\n",
       " viewBox=\"0.00 0.00 4346.41 642.00\" xmlns=\"http://www.w3.org/2000/svg\" xmlns:xlink=\"http://www.w3.org/1999/xlink\">\n",
       "<g id=\"graph0\" class=\"graph\" transform=\"scale(1 1) rotate(0) translate(4 638)\">\n",
       "<title>Tree</title>\n",
       "<polygon fill=\"#ffffff\" stroke=\"transparent\" points=\"-4,4 -4,-638 4342.4063,-638 4342.4063,4 -4,4\"/>\n",
       "<!-- 0 -->\n",
       "<g id=\"node1\" class=\"node\">\n",
       "<title>0</title>\n",
       "<path fill=\"none\" stroke=\"#000000\" d=\"M2440.3179,-634C2440.3179,-634 2263.3813,-634 2263.3813,-634 2257.3813,-634 2251.3813,-628 2251.3813,-622 2251.3813,-622 2251.3813,-568 2251.3813,-568 2251.3813,-562 2257.3813,-556 2263.3813,-556 2263.3813,-556 2440.3179,-556 2440.3179,-556 2446.3179,-556 2452.3179,-562 2452.3179,-568 2452.3179,-568 2452.3179,-622 2452.3179,-622 2452.3179,-628 2446.3179,-634 2440.3179,-634\"/>\n",
       "<text text-anchor=\"middle\" x=\"2351.8496\" y=\"-618.8\" font-family=\"Helvetica,sans-Serif\" font-size=\"14.00\" fill=\"#000000\">Relationship_Husband &lt;= 0.5</text>\n",
       "<text text-anchor=\"middle\" x=\"2351.8496\" y=\"-604.8\" font-family=\"Helvetica,sans-Serif\" font-size=\"14.00\" fill=\"#000000\">gini = 0.366</text>\n",
       "<text text-anchor=\"middle\" x=\"2351.8496\" y=\"-590.8\" font-family=\"Helvetica,sans-Serif\" font-size=\"14.00\" fill=\"#000000\">samples = 24420</text>\n",
       "<text text-anchor=\"middle\" x=\"2351.8496\" y=\"-576.8\" font-family=\"Helvetica,sans-Serif\" font-size=\"14.00\" fill=\"#000000\">value = [18540, 5880]</text>\n",
       "<text text-anchor=\"middle\" x=\"2351.8496\" y=\"-562.8\" font-family=\"Helvetica,sans-Serif\" font-size=\"14.00\" fill=\"#000000\">class = &lt;=50K</text>\n",
       "</g>\n",
       "<!-- 1 -->\n",
       "<g id=\"node2\" class=\"node\">\n",
       "<title>1</title>\n",
       "<path fill=\"none\" stroke=\"#000000\" d=\"M1709.2769,-520C1709.2769,-520 1560.4223,-520 1560.4223,-520 1554.4223,-520 1548.4223,-514 1548.4223,-508 1548.4223,-508 1548.4223,-454 1548.4223,-454 1548.4223,-448 1554.4223,-442 1560.4223,-442 1560.4223,-442 1709.2769,-442 1709.2769,-442 1715.2769,-442 1721.2769,-448 1721.2769,-454 1721.2769,-454 1721.2769,-508 1721.2769,-508 1721.2769,-514 1715.2769,-520 1709.2769,-520\"/>\n",
       "<text text-anchor=\"middle\" x=\"1634.8496\" y=\"-504.8\" font-family=\"Helvetica,sans-Serif\" font-size=\"14.00\" fill=\"#000000\">Relationship_Wife &lt;= 0.5</text>\n",
       "<text text-anchor=\"middle\" x=\"1634.8496\" y=\"-490.8\" font-family=\"Helvetica,sans-Serif\" font-size=\"14.00\" fill=\"#000000\">gini = 0.182</text>\n",
       "<text text-anchor=\"middle\" x=\"1634.8496\" y=\"-476.8\" font-family=\"Helvetica,sans-Serif\" font-size=\"14.00\" fill=\"#000000\">samples = 14507</text>\n",
       "<text text-anchor=\"middle\" x=\"1634.8496\" y=\"-462.8\" font-family=\"Helvetica,sans-Serif\" font-size=\"14.00\" fill=\"#000000\">value = [13042, 1465]</text>\n",
       "<text text-anchor=\"middle\" x=\"1634.8496\" y=\"-448.8\" font-family=\"Helvetica,sans-Serif\" font-size=\"14.00\" fill=\"#000000\">class = &lt;=50K</text>\n",
       "</g>\n",
       "<!-- 0&#45;&gt;1 -->\n",
       "<g id=\"edge1\" class=\"edge\">\n",
       "<title>0&#45;&gt;1</title>\n",
       "<path fill=\"none\" stroke=\"#000000\" d=\"M2251.3989,-579.0288C2113.4076,-557.0887 1866.9075,-517.8962 1731.1383,-496.3095\"/>\n",
       "<polygon fill=\"#000000\" stroke=\"#000000\" points=\"1731.5825,-492.8362 1721.1569,-494.7225 1730.4832,-499.7494 1731.5825,-492.8362\"/>\n",
       "<text text-anchor=\"middle\" x=\"1735.8395\" y=\"-510.7567\" font-family=\"Helvetica,sans-Serif\" font-size=\"14.00\" fill=\"#000000\">True</text>\n",
       "</g>\n",
       "<!-- 32 -->\n",
       "<g id=\"node33\" class=\"node\">\n",
       "<title>32</title>\n",
       "<path fill=\"none\" stroke=\"#000000\" d=\"M2775.5968,-520C2775.5968,-520 2556.1024,-520 2556.1024,-520 2550.1024,-520 2544.1024,-514 2544.1024,-508 2544.1024,-508 2544.1024,-454 2544.1024,-454 2544.1024,-448 2550.1024,-442 2556.1024,-442 2556.1024,-442 2775.5968,-442 2775.5968,-442 2781.5968,-442 2787.5968,-448 2787.5968,-454 2787.5968,-454 2787.5968,-508 2787.5968,-508 2787.5968,-514 2781.5968,-520 2775.5968,-520\"/>\n",
       "<text text-anchor=\"middle\" x=\"2665.8496\" y=\"-504.8\" font-family=\"Helvetica,sans-Serif\" font-size=\"14.00\" fill=\"#000000\">Occupation_Exec&#45;managerial &lt;= 0.5</text>\n",
       "<text text-anchor=\"middle\" x=\"2665.8496\" y=\"-490.8\" font-family=\"Helvetica,sans-Serif\" font-size=\"14.00\" fill=\"#000000\">gini = 0.494</text>\n",
       "<text text-anchor=\"middle\" x=\"2665.8496\" y=\"-476.8\" font-family=\"Helvetica,sans-Serif\" font-size=\"14.00\" fill=\"#000000\">samples = 9913</text>\n",
       "<text text-anchor=\"middle\" x=\"2665.8496\" y=\"-462.8\" font-family=\"Helvetica,sans-Serif\" font-size=\"14.00\" fill=\"#000000\">value = [5498, 4415]</text>\n",
       "<text text-anchor=\"middle\" x=\"2665.8496\" y=\"-448.8\" font-family=\"Helvetica,sans-Serif\" font-size=\"14.00\" fill=\"#000000\">class = &lt;=50K</text>\n",
       "</g>\n",
       "<!-- 0&#45;&gt;32 -->\n",
       "<g id=\"edge32\" class=\"edge\">\n",
       "<title>0&#45;&gt;32</title>\n",
       "<path fill=\"none\" stroke=\"#000000\" d=\"M2452.4968,-558.4593C2483.0591,-547.3634 2516.9062,-535.075 2548.4679,-523.6163\"/>\n",
       "<polygon fill=\"#000000\" stroke=\"#000000\" points=\"2549.9781,-526.7916 2558.1833,-520.089 2547.5892,-520.2118 2549.9781,-526.7916\"/>\n",
       "<text text-anchor=\"middle\" x=\"2547.5996\" y=\"-538.5382\" font-family=\"Helvetica,sans-Serif\" font-size=\"14.00\" fill=\"#000000\">False</text>\n",
       "</g>\n",
       "<!-- 2 -->\n",
       "<g id=\"node3\" class=\"node\">\n",
       "<title>2</title>\n",
       "<path fill=\"none\" stroke=\"#000000\" d=\"M894.6214,-406C894.6214,-406 775.0779,-406 775.0779,-406 769.0779,-406 763.0779,-400 763.0779,-394 763.0779,-394 763.0779,-340 763.0779,-340 763.0779,-334 769.0779,-328 775.0779,-328 775.0779,-328 894.6214,-328 894.6214,-328 900.6214,-328 906.6214,-334 906.6214,-340 906.6214,-340 906.6214,-394 906.6214,-394 906.6214,-400 900.6214,-406 894.6214,-406\"/>\n",
       "<text text-anchor=\"middle\" x=\"834.8496\" y=\"-390.8\" font-family=\"Helvetica,sans-Serif\" font-size=\"14.00\" fill=\"#000000\">Age &lt;= 29.5</text>\n",
       "<text text-anchor=\"middle\" x=\"834.8496\" y=\"-376.8\" font-family=\"Helvetica,sans-Serif\" font-size=\"14.00\" fill=\"#000000\">gini = 0.125</text>\n",
       "<text text-anchor=\"middle\" x=\"834.8496\" y=\"-362.8\" font-family=\"Helvetica,sans-Serif\" font-size=\"14.00\" fill=\"#000000\">samples = 13312</text>\n",
       "<text text-anchor=\"middle\" x=\"834.8496\" y=\"-348.8\" font-family=\"Helvetica,sans-Serif\" font-size=\"14.00\" fill=\"#000000\">value = [12417, 895]</text>\n",
       "<text text-anchor=\"middle\" x=\"834.8496\" y=\"-334.8\" font-family=\"Helvetica,sans-Serif\" font-size=\"14.00\" fill=\"#000000\">class = &lt;=50K</text>\n",
       "</g>\n",
       "<!-- 1&#45;&gt;2 -->\n",
       "<g id=\"edge2\" class=\"edge\">\n",
       "<title>1&#45;&gt;2</title>\n",
       "<path fill=\"none\" stroke=\"#000000\" d=\"M1548.4755,-468.6917C1393.1601,-446.5592 1068.7836,-400.3356 916.768,-378.6734\"/>\n",
       "<polygon fill=\"#000000\" stroke=\"#000000\" points=\"916.9604,-375.1655 906.5666,-377.2197 915.9728,-382.0955 916.9604,-375.1655\"/>\n",
       "</g>\n",
       "<!-- 17 -->\n",
       "<g id=\"node18\" class=\"node\">\n",
       "<title>17</title>\n",
       "<path fill=\"none\" stroke=\"#000000\" d=\"M1734.3555,-406C1734.3555,-406 1535.3437,-406 1535.3437,-406 1529.3437,-406 1523.3437,-400 1523.3437,-394 1523.3437,-394 1523.3437,-340 1523.3437,-340 1523.3437,-334 1529.3437,-328 1535.3437,-328 1535.3437,-328 1734.3555,-328 1734.3555,-328 1740.3555,-328 1746.3555,-334 1746.3555,-340 1746.3555,-340 1746.3555,-394 1746.3555,-394 1746.3555,-400 1740.3555,-406 1734.3555,-406\"/>\n",
       "<text text-anchor=\"middle\" x=\"1634.8496\" y=\"-390.8\" font-family=\"Helvetica,sans-Serif\" font-size=\"14.00\" fill=\"#000000\">Occupation_Prof&#45;specialty &lt;= 0.5</text>\n",
       "<text text-anchor=\"middle\" x=\"1634.8496\" y=\"-376.8\" font-family=\"Helvetica,sans-Serif\" font-size=\"14.00\" fill=\"#000000\">gini = 0.499</text>\n",
       "<text text-anchor=\"middle\" x=\"1634.8496\" y=\"-362.8\" font-family=\"Helvetica,sans-Serif\" font-size=\"14.00\" fill=\"#000000\">samples = 1195</text>\n",
       "<text text-anchor=\"middle\" x=\"1634.8496\" y=\"-348.8\" font-family=\"Helvetica,sans-Serif\" font-size=\"14.00\" fill=\"#000000\">value = [625, 570]</text>\n",
       "<text text-anchor=\"middle\" x=\"1634.8496\" y=\"-334.8\" font-family=\"Helvetica,sans-Serif\" font-size=\"14.00\" fill=\"#000000\">class = &lt;=50K</text>\n",
       "</g>\n",
       "<!-- 1&#45;&gt;17 -->\n",
       "<g id=\"edge17\" class=\"edge\">\n",
       "<title>1&#45;&gt;17</title>\n",
       "<path fill=\"none\" stroke=\"#000000\" d=\"M1634.8496,-441.7677C1634.8496,-433.6172 1634.8496,-424.9283 1634.8496,-416.4649\"/>\n",
       "<polygon fill=\"#000000\" stroke=\"#000000\" points=\"1638.3497,-416.3046 1634.8496,-406.3046 1631.3497,-416.3047 1638.3497,-416.3046\"/>\n",
       "</g>\n",
       "<!-- 3 -->\n",
       "<g id=\"node4\" class=\"node\">\n",
       "<title>3</title>\n",
       "<path fill=\"none\" stroke=\"#000000\" d=\"M511.8358,-292C511.8358,-292 399.8634,-292 399.8634,-292 393.8634,-292 387.8634,-286 387.8634,-280 387.8634,-280 387.8634,-226 387.8634,-226 387.8634,-220 393.8634,-214 399.8634,-214 399.8634,-214 511.8358,-214 511.8358,-214 517.8358,-214 523.8358,-220 523.8358,-226 523.8358,-226 523.8358,-280 523.8358,-280 523.8358,-286 517.8358,-292 511.8358,-292\"/>\n",
       "<text text-anchor=\"middle\" x=\"455.8496\" y=\"-276.8\" font-family=\"Helvetica,sans-Serif\" font-size=\"14.00\" fill=\"#000000\">Age &lt;= 26.5</text>\n",
       "<text text-anchor=\"middle\" x=\"455.8496\" y=\"-262.8\" font-family=\"Helvetica,sans-Serif\" font-size=\"14.00\" fill=\"#000000\">gini = 0.033</text>\n",
       "<text text-anchor=\"middle\" x=\"455.8496\" y=\"-248.8\" font-family=\"Helvetica,sans-Serif\" font-size=\"14.00\" fill=\"#000000\">samples = 5929</text>\n",
       "<text text-anchor=\"middle\" x=\"455.8496\" y=\"-234.8\" font-family=\"Helvetica,sans-Serif\" font-size=\"14.00\" fill=\"#000000\">value = [5828, 101]</text>\n",
       "<text text-anchor=\"middle\" x=\"455.8496\" y=\"-220.8\" font-family=\"Helvetica,sans-Serif\" font-size=\"14.00\" fill=\"#000000\">class = &lt;=50K</text>\n",
       "</g>\n",
       "<!-- 2&#45;&gt;3 -->\n",
       "<g id=\"edge3\" class=\"edge\">\n",
       "<title>2&#45;&gt;3</title>\n",
       "<path fill=\"none\" stroke=\"#000000\" d=\"M763.117,-345.4234C697.5613,-325.7048 600.8525,-296.6156 533.5006,-276.3568\"/>\n",
       "<polygon fill=\"#000000\" stroke=\"#000000\" points=\"534.368,-272.9628 523.7836,-273.434 532.3516,-279.6661 534.368,-272.9628\"/>\n",
       "</g>\n",
       "<!-- 10 -->\n",
       "<g id=\"node11\" class=\"node\">\n",
       "<title>10</title>\n",
       "<path fill=\"none\" stroke=\"#000000\" d=\"M923.3042,-292C923.3042,-292 746.395,-292 746.395,-292 740.395,-292 734.395,-286 734.395,-280 734.395,-280 734.395,-226 734.395,-226 734.395,-220 740.395,-214 746.395,-214 746.395,-214 923.3042,-214 923.3042,-214 929.3042,-214 935.3042,-220 935.3042,-226 935.3042,-226 935.3042,-280 935.3042,-280 935.3042,-286 929.3042,-292 923.3042,-292\"/>\n",
       "<text text-anchor=\"middle\" x=\"834.8496\" y=\"-276.8\" font-family=\"Helvetica,sans-Serif\" font-size=\"14.00\" fill=\"#000000\">Education_Prof&#45;school &lt;= 0.5</text>\n",
       "<text text-anchor=\"middle\" x=\"834.8496\" y=\"-262.8\" font-family=\"Helvetica,sans-Serif\" font-size=\"14.00\" fill=\"#000000\">gini = 0.192</text>\n",
       "<text text-anchor=\"middle\" x=\"834.8496\" y=\"-248.8\" font-family=\"Helvetica,sans-Serif\" font-size=\"14.00\" fill=\"#000000\">samples = 7383</text>\n",
       "<text text-anchor=\"middle\" x=\"834.8496\" y=\"-234.8\" font-family=\"Helvetica,sans-Serif\" font-size=\"14.00\" fill=\"#000000\">value = [6589, 794]</text>\n",
       "<text text-anchor=\"middle\" x=\"834.8496\" y=\"-220.8\" font-family=\"Helvetica,sans-Serif\" font-size=\"14.00\" fill=\"#000000\">class = &lt;=50K</text>\n",
       "</g>\n",
       "<!-- 2&#45;&gt;10 -->\n",
       "<g id=\"edge10\" class=\"edge\">\n",
       "<title>2&#45;&gt;10</title>\n",
       "<path fill=\"none\" stroke=\"#000000\" d=\"M834.8496,-327.7677C834.8496,-319.6172 834.8496,-310.9283 834.8496,-302.4649\"/>\n",
       "<polygon fill=\"#000000\" stroke=\"#000000\" points=\"838.3497,-302.3046 834.8496,-292.3046 831.3497,-302.3047 838.3497,-302.3046\"/>\n",
       "</g>\n",
       "<!-- 4 -->\n",
       "<g id=\"node5\" class=\"node\">\n",
       "<title>4</title>\n",
       "<path fill=\"none\" stroke=\"#000000\" d=\"M289.752,-178C289.752,-178 121.9472,-178 121.9472,-178 115.9472,-178 109.9472,-172 109.9472,-166 109.9472,-166 109.9472,-112 109.9472,-112 109.9472,-106 115.9472,-100 121.9472,-100 121.9472,-100 289.752,-100 289.752,-100 295.752,-100 301.752,-106 301.752,-112 301.752,-112 301.752,-166 301.752,-166 301.752,-172 295.752,-178 289.752,-178\"/>\n",
       "<text text-anchor=\"middle\" x=\"205.8496\" y=\"-162.8\" font-family=\"Helvetica,sans-Serif\" font-size=\"14.00\" fill=\"#000000\">Education_Bachelors &lt;= 0.5</text>\n",
       "<text text-anchor=\"middle\" x=\"205.8496\" y=\"-148.8\" font-family=\"Helvetica,sans-Serif\" font-size=\"14.00\" fill=\"#000000\">gini = 0.019</text>\n",
       "<text text-anchor=\"middle\" x=\"205.8496\" y=\"-134.8\" font-family=\"Helvetica,sans-Serif\" font-size=\"14.00\" fill=\"#000000\">samples = 4726</text>\n",
       "<text text-anchor=\"middle\" x=\"205.8496\" y=\"-120.8\" font-family=\"Helvetica,sans-Serif\" font-size=\"14.00\" fill=\"#000000\">value = [4681, 45]</text>\n",
       "<text text-anchor=\"middle\" x=\"205.8496\" y=\"-106.8\" font-family=\"Helvetica,sans-Serif\" font-size=\"14.00\" fill=\"#000000\">class = &lt;=50K</text>\n",
       "</g>\n",
       "<!-- 3&#45;&gt;4 -->\n",
       "<g id=\"edge4\" class=\"edge\">\n",
       "<title>3&#45;&gt;4</title>\n",
       "<path fill=\"none\" stroke=\"#000000\" d=\"M387.8662,-221.9996C361.12,-209.8033 329.9413,-195.5858 301.0242,-182.3996\"/>\n",
       "<polygon fill=\"#000000\" stroke=\"#000000\" points=\"302.2743,-179.123 291.7235,-178.1585 299.37,-185.4921 302.2743,-179.123\"/>\n",
       "</g>\n",
       "<!-- 7 -->\n",
       "<g id=\"node8\" class=\"node\">\n",
       "<title>7</title>\n",
       "<path fill=\"none\" stroke=\"#000000\" d=\"M555.3555,-178C555.3555,-178 356.3437,-178 356.3437,-178 350.3437,-178 344.3437,-172 344.3437,-166 344.3437,-166 344.3437,-112 344.3437,-112 344.3437,-106 350.3437,-100 356.3437,-100 356.3437,-100 555.3555,-100 555.3555,-100 561.3555,-100 567.3555,-106 567.3555,-112 567.3555,-112 567.3555,-166 567.3555,-166 567.3555,-172 561.3555,-178 555.3555,-178\"/>\n",
       "<text text-anchor=\"middle\" x=\"455.8496\" y=\"-162.8\" font-family=\"Helvetica,sans-Serif\" font-size=\"14.00\" fill=\"#000000\">Occupation_Prof&#45;specialty &lt;= 0.5</text>\n",
       "<text text-anchor=\"middle\" x=\"455.8496\" y=\"-148.8\" font-family=\"Helvetica,sans-Serif\" font-size=\"14.00\" fill=\"#000000\">gini = 0.089</text>\n",
       "<text text-anchor=\"middle\" x=\"455.8496\" y=\"-134.8\" font-family=\"Helvetica,sans-Serif\" font-size=\"14.00\" fill=\"#000000\">samples = 1203</text>\n",
       "<text text-anchor=\"middle\" x=\"455.8496\" y=\"-120.8\" font-family=\"Helvetica,sans-Serif\" font-size=\"14.00\" fill=\"#000000\">value = [1147, 56]</text>\n",
       "<text text-anchor=\"middle\" x=\"455.8496\" y=\"-106.8\" font-family=\"Helvetica,sans-Serif\" font-size=\"14.00\" fill=\"#000000\">class = &lt;=50K</text>\n",
       "</g>\n",
       "<!-- 3&#45;&gt;7 -->\n",
       "<g id=\"edge7\" class=\"edge\">\n",
       "<title>3&#45;&gt;7</title>\n",
       "<path fill=\"none\" stroke=\"#000000\" d=\"M455.8496,-213.7677C455.8496,-205.6172 455.8496,-196.9283 455.8496,-188.4649\"/>\n",
       "<polygon fill=\"#000000\" stroke=\"#000000\" points=\"459.3497,-188.3046 455.8496,-178.3046 452.3497,-188.3047 459.3497,-188.3046\"/>\n",
       "</g>\n",
       "<!-- 5 -->\n",
       "<g id=\"node6\" class=\"node\">\n",
       "<title>5</title>\n",
       "<path fill=\"none\" stroke=\"#000000\" d=\"M115.5492,-64C115.5492,-64 12.15,-64 12.15,-64 6.15,-64 .15,-58 .15,-52 .15,-52 .15,-12 .15,-12 .15,-6 6.15,0 12.15,0 12.15,0 115.5492,0 115.5492,0 121.5492,0 127.5492,-6 127.5492,-12 127.5492,-12 127.5492,-52 127.5492,-52 127.5492,-58 121.5492,-64 115.5492,-64\"/>\n",
       "<text text-anchor=\"middle\" x=\"63.8496\" y=\"-48.8\" font-family=\"Helvetica,sans-Serif\" font-size=\"14.00\" fill=\"#000000\">gini = 0.013</text>\n",
       "<text text-anchor=\"middle\" x=\"63.8496\" y=\"-34.8\" font-family=\"Helvetica,sans-Serif\" font-size=\"14.00\" fill=\"#000000\">samples = 4169</text>\n",
       "<text text-anchor=\"middle\" x=\"63.8496\" y=\"-20.8\" font-family=\"Helvetica,sans-Serif\" font-size=\"14.00\" fill=\"#000000\">value = [4141, 28]</text>\n",
       "<text text-anchor=\"middle\" x=\"63.8496\" y=\"-6.8\" font-family=\"Helvetica,sans-Serif\" font-size=\"14.00\" fill=\"#000000\">class = &lt;=50K</text>\n",
       "</g>\n",
       "<!-- 4&#45;&gt;5 -->\n",
       "<g id=\"edge5\" class=\"edge\">\n",
       "<title>4&#45;&gt;5</title>\n",
       "<path fill=\"none\" stroke=\"#000000\" d=\"M153.7804,-99.7647C141.0539,-90.1751 127.4521,-79.9258 114.7796,-70.3768\"/>\n",
       "<polygon fill=\"#000000\" stroke=\"#000000\" points=\"116.6975,-67.4396 106.6047,-64.2169 112.4849,-73.0302 116.6975,-67.4396\"/>\n",
       "</g>\n",
       "<!-- 6 -->\n",
       "<g id=\"node7\" class=\"node\">\n",
       "<title>6</title>\n",
       "<path fill=\"none\" stroke=\"#000000\" d=\"M253.7627,-64C253.7627,-64 157.9365,-64 157.9365,-64 151.9365,-64 145.9365,-58 145.9365,-52 145.9365,-52 145.9365,-12 145.9365,-12 145.9365,-6 151.9365,0 157.9365,0 157.9365,0 253.7627,0 253.7627,0 259.7627,0 265.7627,-6 265.7627,-12 265.7627,-12 265.7627,-52 265.7627,-52 265.7627,-58 259.7627,-64 253.7627,-64\"/>\n",
       "<text text-anchor=\"middle\" x=\"205.8496\" y=\"-48.8\" font-family=\"Helvetica,sans-Serif\" font-size=\"14.00\" fill=\"#000000\">gini = 0.059</text>\n",
       "<text text-anchor=\"middle\" x=\"205.8496\" y=\"-34.8\" font-family=\"Helvetica,sans-Serif\" font-size=\"14.00\" fill=\"#000000\">samples = 557</text>\n",
       "<text text-anchor=\"middle\" x=\"205.8496\" y=\"-20.8\" font-family=\"Helvetica,sans-Serif\" font-size=\"14.00\" fill=\"#000000\">value = [540, 17]</text>\n",
       "<text text-anchor=\"middle\" x=\"205.8496\" y=\"-6.8\" font-family=\"Helvetica,sans-Serif\" font-size=\"14.00\" fill=\"#000000\">class = &lt;=50K</text>\n",
       "</g>\n",
       "<!-- 4&#45;&gt;6 -->\n",
       "<g id=\"edge6\" class=\"edge\">\n",
       "<title>4&#45;&gt;6</title>\n",
       "<path fill=\"none\" stroke=\"#000000\" d=\"M205.8496,-99.7647C205.8496,-91.4537 205.8496,-82.6472 205.8496,-74.2305\"/>\n",
       "<polygon fill=\"#000000\" stroke=\"#000000\" points=\"209.3497,-74.2168 205.8496,-64.2169 202.3497,-74.2169 209.3497,-74.2168\"/>\n",
       "</g>\n",
       "<!-- 8 -->\n",
       "<g id=\"node9\" class=\"node\">\n",
       "<title>8</title>\n",
       "<path fill=\"none\" stroke=\"#000000\" d=\"M391.7627,-64C391.7627,-64 295.9365,-64 295.9365,-64 289.9365,-64 283.9365,-58 283.9365,-52 283.9365,-52 283.9365,-12 283.9365,-12 283.9365,-6 289.9365,0 295.9365,0 295.9365,0 391.7627,0 391.7627,0 397.7627,0 403.7627,-6 403.7627,-12 403.7627,-12 403.7627,-52 403.7627,-52 403.7627,-58 397.7627,-64 391.7627,-64\"/>\n",
       "<text text-anchor=\"middle\" x=\"343.8496\" y=\"-48.8\" font-family=\"Helvetica,sans-Serif\" font-size=\"14.00\" fill=\"#000000\">gini = 0.071</text>\n",
       "<text text-anchor=\"middle\" x=\"343.8496\" y=\"-34.8\" font-family=\"Helvetica,sans-Serif\" font-size=\"14.00\" fill=\"#000000\">samples = 1034</text>\n",
       "<text text-anchor=\"middle\" x=\"343.8496\" y=\"-20.8\" font-family=\"Helvetica,sans-Serif\" font-size=\"14.00\" fill=\"#000000\">value = [996, 38]</text>\n",
       "<text text-anchor=\"middle\" x=\"343.8496\" y=\"-6.8\" font-family=\"Helvetica,sans-Serif\" font-size=\"14.00\" fill=\"#000000\">class = &lt;=50K</text>\n",
       "</g>\n",
       "<!-- 7&#45;&gt;8 -->\n",
       "<g id=\"edge8\" class=\"edge\">\n",
       "<title>7&#45;&gt;8</title>\n",
       "<path fill=\"none\" stroke=\"#000000\" d=\"M414.7809,-99.7647C405.0299,-90.4491 394.6274,-80.5109 384.8782,-71.197\"/>\n",
       "<polygon fill=\"#000000\" stroke=\"#000000\" points=\"387.2203,-68.594 377.5719,-64.2169 382.3848,-73.6555 387.2203,-68.594\"/>\n",
       "</g>\n",
       "<!-- 9 -->\n",
       "<g id=\"node10\" class=\"node\">\n",
       "<title>9</title>\n",
       "<path fill=\"none\" stroke=\"#000000\" d=\"M529.7627,-64C529.7627,-64 433.9365,-64 433.9365,-64 427.9365,-64 421.9365,-58 421.9365,-52 421.9365,-52 421.9365,-12 421.9365,-12 421.9365,-6 427.9365,0 433.9365,0 433.9365,0 529.7627,0 529.7627,0 535.7627,0 541.7627,-6 541.7627,-12 541.7627,-12 541.7627,-52 541.7627,-52 541.7627,-58 535.7627,-64 529.7627,-64\"/>\n",
       "<text text-anchor=\"middle\" x=\"481.8496\" y=\"-48.8\" font-family=\"Helvetica,sans-Serif\" font-size=\"14.00\" fill=\"#000000\">gini = 0.19</text>\n",
       "<text text-anchor=\"middle\" x=\"481.8496\" y=\"-34.8\" font-family=\"Helvetica,sans-Serif\" font-size=\"14.00\" fill=\"#000000\">samples = 169</text>\n",
       "<text text-anchor=\"middle\" x=\"481.8496\" y=\"-20.8\" font-family=\"Helvetica,sans-Serif\" font-size=\"14.00\" fill=\"#000000\">value = [151, 18]</text>\n",
       "<text text-anchor=\"middle\" x=\"481.8496\" y=\"-6.8\" font-family=\"Helvetica,sans-Serif\" font-size=\"14.00\" fill=\"#000000\">class = &lt;=50K</text>\n",
       "</g>\n",
       "<!-- 7&#45;&gt;9 -->\n",
       "<g id=\"edge9\" class=\"edge\">\n",
       "<title>7&#45;&gt;9</title>\n",
       "<path fill=\"none\" stroke=\"#000000\" d=\"M465.3834,-99.7647C467.4251,-91.3624 469.5899,-82.4536 471.6554,-73.9532\"/>\n",
       "<polygon fill=\"#000000\" stroke=\"#000000\" points=\"475.061,-74.7606 474.0212,-64.2169 468.2589,-73.1077 475.061,-74.7606\"/>\n",
       "</g>\n",
       "<!-- 11 -->\n",
       "<g id=\"node12\" class=\"node\">\n",
       "<title>11</title>\n",
       "<path fill=\"none\" stroke=\"#000000\" d=\"M827.1937,-178C827.1937,-178 660.5055,-178 660.5055,-178 654.5055,-178 648.5055,-172 648.5055,-166 648.5055,-166 648.5055,-112 648.5055,-112 648.5055,-106 654.5055,-100 660.5055,-100 660.5055,-100 827.1937,-100 827.1937,-100 833.1937,-100 839.1937,-106 839.1937,-112 839.1937,-112 839.1937,-166 839.1937,-166 839.1937,-172 833.1937,-178 827.1937,-178\"/>\n",
       "<text text-anchor=\"middle\" x=\"743.8496\" y=\"-162.8\" font-family=\"Helvetica,sans-Serif\" font-size=\"14.00\" fill=\"#000000\">Education_Doctorate &lt;= 0.5</text>\n",
       "<text text-anchor=\"middle\" x=\"743.8496\" y=\"-148.8\" font-family=\"Helvetica,sans-Serif\" font-size=\"14.00\" fill=\"#000000\">gini = 0.182</text>\n",
       "<text text-anchor=\"middle\" x=\"743.8496\" y=\"-134.8\" font-family=\"Helvetica,sans-Serif\" font-size=\"14.00\" fill=\"#000000\">samples = 7274</text>\n",
       "<text text-anchor=\"middle\" x=\"743.8496\" y=\"-120.8\" font-family=\"Helvetica,sans-Serif\" font-size=\"14.00\" fill=\"#000000\">value = [6539, 735]</text>\n",
       "<text text-anchor=\"middle\" x=\"743.8496\" y=\"-106.8\" font-family=\"Helvetica,sans-Serif\" font-size=\"14.00\" fill=\"#000000\">class = &lt;=50K</text>\n",
       "</g>\n",
       "<!-- 10&#45;&gt;11 -->\n",
       "<g id=\"edge11\" class=\"edge\">\n",
       "<title>10&#45;&gt;11</title>\n",
       "<path fill=\"none\" stroke=\"#000000\" d=\"M803.5326,-213.7677C796.4546,-204.9007 788.8678,-195.3964 781.5576,-186.2385\"/>\n",
       "<polygon fill=\"#000000\" stroke=\"#000000\" points=\"784.1984,-183.9365 775.2244,-178.3046 778.7276,-188.3036 784.1984,-183.9365\"/>\n",
       "</g>\n",
       "<!-- 14 -->\n",
       "<g id=\"node15\" class=\"node\">\n",
       "<title>14</title>\n",
       "<path fill=\"none\" stroke=\"#000000\" d=\"M983.0353,-178C983.0353,-178 868.6639,-178 868.6639,-178 862.6639,-178 856.6639,-172 856.6639,-166 856.6639,-166 856.6639,-112 856.6639,-112 856.6639,-106 862.6639,-100 868.6639,-100 868.6639,-100 983.0353,-100 983.0353,-100 989.0353,-100 995.0353,-106 995.0353,-112 995.0353,-112 995.0353,-166 995.0353,-166 995.0353,-172 989.0353,-178 983.0353,-178\"/>\n",
       "<text text-anchor=\"middle\" x=\"925.8496\" y=\"-162.8\" font-family=\"Helvetica,sans-Serif\" font-size=\"14.00\" fill=\"#000000\">Sex_Female &lt;= 0.5</text>\n",
       "<text text-anchor=\"middle\" x=\"925.8496\" y=\"-148.8\" font-family=\"Helvetica,sans-Serif\" font-size=\"14.00\" fill=\"#000000\">gini = 0.497</text>\n",
       "<text text-anchor=\"middle\" x=\"925.8496\" y=\"-134.8\" font-family=\"Helvetica,sans-Serif\" font-size=\"14.00\" fill=\"#000000\">samples = 109</text>\n",
       "<text text-anchor=\"middle\" x=\"925.8496\" y=\"-120.8\" font-family=\"Helvetica,sans-Serif\" font-size=\"14.00\" fill=\"#000000\">value = [50, 59]</text>\n",
       "<text text-anchor=\"middle\" x=\"925.8496\" y=\"-106.8\" font-family=\"Helvetica,sans-Serif\" font-size=\"14.00\" fill=\"#000000\">class = &lt;=50K</text>\n",
       "</g>\n",
       "<!-- 10&#45;&gt;14 -->\n",
       "<g id=\"edge14\" class=\"edge\">\n",
       "<title>10&#45;&gt;14</title>\n",
       "<path fill=\"none\" stroke=\"#000000\" d=\"M866.1666,-213.7677C873.2447,-204.9007 880.8315,-195.3964 888.1417,-186.2385\"/>\n",
       "<polygon fill=\"#000000\" stroke=\"#000000\" points=\"890.9716,-188.3036 894.4748,-178.3046 885.5008,-183.9365 890.9716,-188.3036\"/>\n",
       "</g>\n",
       "<!-- 12 -->\n",
       "<g id=\"node13\" class=\"node\">\n",
       "<title>12</title>\n",
       "<path fill=\"none\" stroke=\"#000000\" d=\"M683.8358,-64C683.8358,-64 571.8634,-64 571.8634,-64 565.8634,-64 559.8634,-58 559.8634,-52 559.8634,-52 559.8634,-12 559.8634,-12 559.8634,-6 565.8634,0 571.8634,0 571.8634,0 683.8358,0 683.8358,0 689.8358,0 695.8358,-6 695.8358,-12 695.8358,-12 695.8358,-52 695.8358,-52 695.8358,-58 689.8358,-64 683.8358,-64\"/>\n",
       "<text text-anchor=\"middle\" x=\"627.8496\" y=\"-48.8\" font-family=\"Helvetica,sans-Serif\" font-size=\"14.00\" fill=\"#000000\">gini = 0.172</text>\n",
       "<text text-anchor=\"middle\" x=\"627.8496\" y=\"-34.8\" font-family=\"Helvetica,sans-Serif\" font-size=\"14.00\" fill=\"#000000\">samples = 7182</text>\n",
       "<text text-anchor=\"middle\" x=\"627.8496\" y=\"-20.8\" font-family=\"Helvetica,sans-Serif\" font-size=\"14.00\" fill=\"#000000\">value = [6498, 684]</text>\n",
       "<text text-anchor=\"middle\" x=\"627.8496\" y=\"-6.8\" font-family=\"Helvetica,sans-Serif\" font-size=\"14.00\" fill=\"#000000\">class = &lt;=50K</text>\n",
       "</g>\n",
       "<!-- 11&#45;&gt;12 -->\n",
       "<g id=\"edge12\" class=\"edge\">\n",
       "<title>11&#45;&gt;12</title>\n",
       "<path fill=\"none\" stroke=\"#000000\" d=\"M701.3142,-99.7647C691.215,-90.4491 680.4409,-80.5109 670.3435,-71.197\"/>\n",
       "<polygon fill=\"#000000\" stroke=\"#000000\" points=\"672.4999,-68.4244 662.7763,-64.2169 667.7537,-73.5697 672.4999,-68.4244\"/>\n",
       "</g>\n",
       "<!-- 13 -->\n",
       "<g id=\"node14\" class=\"node\">\n",
       "<title>13</title>\n",
       "<path fill=\"none\" stroke=\"#000000\" d=\"M813.9766,-64C813.9766,-64 725.7226,-64 725.7226,-64 719.7226,-64 713.7226,-58 713.7226,-52 713.7226,-52 713.7226,-12 713.7226,-12 713.7226,-6 719.7226,0 725.7226,0 725.7226,0 813.9766,0 813.9766,0 819.9766,0 825.9766,-6 825.9766,-12 825.9766,-12 825.9766,-52 825.9766,-52 825.9766,-58 819.9766,-64 813.9766,-64\"/>\n",
       "<text text-anchor=\"middle\" x=\"769.8496\" y=\"-48.8\" font-family=\"Helvetica,sans-Serif\" font-size=\"14.00\" fill=\"#000000\">gini = 0.494</text>\n",
       "<text text-anchor=\"middle\" x=\"769.8496\" y=\"-34.8\" font-family=\"Helvetica,sans-Serif\" font-size=\"14.00\" fill=\"#000000\">samples = 92</text>\n",
       "<text text-anchor=\"middle\" x=\"769.8496\" y=\"-20.8\" font-family=\"Helvetica,sans-Serif\" font-size=\"14.00\" fill=\"#000000\">value = [41, 51]</text>\n",
       "<text text-anchor=\"middle\" x=\"769.8496\" y=\"-6.8\" font-family=\"Helvetica,sans-Serif\" font-size=\"14.00\" fill=\"#000000\">class = &lt;=50K</text>\n",
       "</g>\n",
       "<!-- 11&#45;&gt;13 -->\n",
       "<g id=\"edge13\" class=\"edge\">\n",
       "<title>11&#45;&gt;13</title>\n",
       "<path fill=\"none\" stroke=\"#000000\" d=\"M753.3834,-99.7647C755.4251,-91.3624 757.5899,-82.4536 759.6554,-73.9532\"/>\n",
       "<polygon fill=\"#000000\" stroke=\"#000000\" points=\"763.061,-74.7606 762.0212,-64.2169 756.2589,-73.1077 763.061,-74.7606\"/>\n",
       "</g>\n",
       "<!-- 15 -->\n",
       "<g id=\"node16\" class=\"node\">\n",
       "<title>15</title>\n",
       "<path fill=\"none\" stroke=\"#000000\" d=\"M943.9766,-64C943.9766,-64 855.7226,-64 855.7226,-64 849.7226,-64 843.7226,-58 843.7226,-52 843.7226,-52 843.7226,-12 843.7226,-12 843.7226,-6 849.7226,0 855.7226,0 855.7226,0 943.9766,0 943.9766,0 949.9766,0 955.9766,-6 955.9766,-12 955.9766,-12 955.9766,-52 955.9766,-52 955.9766,-58 949.9766,-64 943.9766,-64\"/>\n",
       "<text text-anchor=\"middle\" x=\"899.8496\" y=\"-48.8\" font-family=\"Helvetica,sans-Serif\" font-size=\"14.00\" fill=\"#000000\">gini = 0.434</text>\n",
       "<text text-anchor=\"middle\" x=\"899.8496\" y=\"-34.8\" font-family=\"Helvetica,sans-Serif\" font-size=\"14.00\" fill=\"#000000\">samples = 66</text>\n",
       "<text text-anchor=\"middle\" x=\"899.8496\" y=\"-20.8\" font-family=\"Helvetica,sans-Serif\" font-size=\"14.00\" fill=\"#000000\">value = [21, 45]</text>\n",
       "<text text-anchor=\"middle\" x=\"899.8496\" y=\"-6.8\" font-family=\"Helvetica,sans-Serif\" font-size=\"14.00\" fill=\"#000000\">class = &lt;=50K</text>\n",
       "</g>\n",
       "<!-- 14&#45;&gt;15 -->\n",
       "<g id=\"edge15\" class=\"edge\">\n",
       "<title>14&#45;&gt;15</title>\n",
       "<path fill=\"none\" stroke=\"#000000\" d=\"M916.3158,-99.7647C914.2741,-91.3624 912.1094,-82.4536 910.0438,-73.9532\"/>\n",
       "<polygon fill=\"#000000\" stroke=\"#000000\" points=\"913.4403,-73.1077 907.678,-64.2169 906.6382,-74.7606 913.4403,-73.1077\"/>\n",
       "</g>\n",
       "<!-- 16 -->\n",
       "<g id=\"node17\" class=\"node\">\n",
       "<title>16</title>\n",
       "<path fill=\"none\" stroke=\"#000000\" d=\"M1073.9766,-64C1073.9766,-64 985.7226,-64 985.7226,-64 979.7226,-64 973.7226,-58 973.7226,-52 973.7226,-52 973.7226,-12 973.7226,-12 973.7226,-6 979.7226,0 985.7226,0 985.7226,0 1073.9766,0 1073.9766,0 1079.9766,0 1085.9766,-6 1085.9766,-12 1085.9766,-12 1085.9766,-52 1085.9766,-52 1085.9766,-58 1079.9766,-64 1073.9766,-64\"/>\n",
       "<text text-anchor=\"middle\" x=\"1029.8496\" y=\"-48.8\" font-family=\"Helvetica,sans-Serif\" font-size=\"14.00\" fill=\"#000000\">gini = 0.439</text>\n",
       "<text text-anchor=\"middle\" x=\"1029.8496\" y=\"-34.8\" font-family=\"Helvetica,sans-Serif\" font-size=\"14.00\" fill=\"#000000\">samples = 43</text>\n",
       "<text text-anchor=\"middle\" x=\"1029.8496\" y=\"-20.8\" font-family=\"Helvetica,sans-Serif\" font-size=\"14.00\" fill=\"#000000\">value = [29, 14]</text>\n",
       "<text text-anchor=\"middle\" x=\"1029.8496\" y=\"-6.8\" font-family=\"Helvetica,sans-Serif\" font-size=\"14.00\" fill=\"#000000\">class = &lt;=50K</text>\n",
       "</g>\n",
       "<!-- 14&#45;&gt;16 -->\n",
       "<g id=\"edge16\" class=\"edge\">\n",
       "<title>14&#45;&gt;16</title>\n",
       "<path fill=\"none\" stroke=\"#000000\" d=\"M963.9848,-99.7647C972.9505,-90.5404 982.5095,-80.7057 991.4852,-71.4711\"/>\n",
       "<polygon fill=\"#000000\" stroke=\"#000000\" points=\"994.076,-73.8272 998.536,-64.2169 989.0563,-68.9483 994.076,-73.8272\"/>\n",
       "</g>\n",
       "<!-- 18 -->\n",
       "<g id=\"node19\" class=\"node\">\n",
       "<title>18</title>\n",
       "<path fill=\"none\" stroke=\"#000000\" d=\"M1604.5968,-292C1604.5968,-292 1385.1024,-292 1385.1024,-292 1379.1024,-292 1373.1024,-286 1373.1024,-280 1373.1024,-280 1373.1024,-226 1373.1024,-226 1373.1024,-220 1379.1024,-214 1385.1024,-214 1385.1024,-214 1604.5968,-214 1604.5968,-214 1610.5968,-214 1616.5968,-220 1616.5968,-226 1616.5968,-226 1616.5968,-280 1616.5968,-280 1616.5968,-286 1610.5968,-292 1604.5968,-292\"/>\n",
       "<text text-anchor=\"middle\" x=\"1494.8496\" y=\"-276.8\" font-family=\"Helvetica,sans-Serif\" font-size=\"14.00\" fill=\"#000000\">Occupation_Exec&#45;managerial &lt;= 0.5</text>\n",
       "<text text-anchor=\"middle\" x=\"1494.8496\" y=\"-262.8\" font-family=\"Helvetica,sans-Serif\" font-size=\"14.00\" fill=\"#000000\">gini = 0.484</text>\n",
       "<text text-anchor=\"middle\" x=\"1494.8496\" y=\"-248.8\" font-family=\"Helvetica,sans-Serif\" font-size=\"14.00\" fill=\"#000000\">samples = 973</text>\n",
       "<text text-anchor=\"middle\" x=\"1494.8496\" y=\"-234.8\" font-family=\"Helvetica,sans-Serif\" font-size=\"14.00\" fill=\"#000000\">value = [573, 400]</text>\n",
       "<text text-anchor=\"middle\" x=\"1494.8496\" y=\"-220.8\" font-family=\"Helvetica,sans-Serif\" font-size=\"14.00\" fill=\"#000000\">class = &lt;=50K</text>\n",
       "</g>\n",
       "<!-- 17&#45;&gt;18 -->\n",
       "<g id=\"edge18\" class=\"edge\">\n",
       "<title>17&#45;&gt;18</title>\n",
       "<path fill=\"none\" stroke=\"#000000\" d=\"M1586.6696,-327.7677C1575.2303,-318.4529 1562.9273,-308.4347 1551.1612,-298.8538\"/>\n",
       "<polygon fill=\"#000000\" stroke=\"#000000\" points=\"1553.0829,-295.9049 1543.1185,-292.3046 1548.6629,-301.333 1553.0829,-295.9049\"/>\n",
       "</g>\n",
       "<!-- 25 -->\n",
       "<g id=\"node26\" class=\"node\">\n",
       "<title>25</title>\n",
       "<path fill=\"none\" stroke=\"#000000\" d=\"M1829.6281,-292C1829.6281,-292 1672.0712,-292 1672.0712,-292 1666.0712,-292 1660.0712,-286 1660.0712,-280 1660.0712,-280 1660.0712,-226 1660.0712,-226 1660.0712,-220 1666.0712,-214 1672.0712,-214 1672.0712,-214 1829.6281,-214 1829.6281,-214 1835.6281,-214 1841.6281,-220 1841.6281,-226 1841.6281,-226 1841.6281,-280 1841.6281,-280 1841.6281,-286 1835.6281,-292 1829.6281,-292\"/>\n",
       "<text text-anchor=\"middle\" x=\"1750.8496\" y=\"-276.8\" font-family=\"Helvetica,sans-Serif\" font-size=\"14.00\" fill=\"#000000\">Education_HS&#45;grad &lt;= 0.5</text>\n",
       "<text text-anchor=\"middle\" x=\"1750.8496\" y=\"-262.8\" font-family=\"Helvetica,sans-Serif\" font-size=\"14.00\" fill=\"#000000\">gini = 0.359</text>\n",
       "<text text-anchor=\"middle\" x=\"1750.8496\" y=\"-248.8\" font-family=\"Helvetica,sans-Serif\" font-size=\"14.00\" fill=\"#000000\">samples = 222</text>\n",
       "<text text-anchor=\"middle\" x=\"1750.8496\" y=\"-234.8\" font-family=\"Helvetica,sans-Serif\" font-size=\"14.00\" fill=\"#000000\">value = [52, 170]</text>\n",
       "<text text-anchor=\"middle\" x=\"1750.8496\" y=\"-220.8\" font-family=\"Helvetica,sans-Serif\" font-size=\"14.00\" fill=\"#000000\">class = &lt;=50K</text>\n",
       "</g>\n",
       "<!-- 17&#45;&gt;25 -->\n",
       "<g id=\"edge25\" class=\"edge\">\n",
       "<title>17&#45;&gt;25</title>\n",
       "<path fill=\"none\" stroke=\"#000000\" d=\"M1674.7702,-327.7677C1684.0662,-318.632 1694.0506,-308.8198 1703.6285,-299.407\"/>\n",
       "<polygon fill=\"#000000\" stroke=\"#000000\" points=\"1706.1764,-301.8103 1710.8554,-292.3046 1701.2698,-296.8177 1706.1764,-301.8103\"/>\n",
       "</g>\n",
       "<!-- 19 -->\n",
       "<g id=\"node20\" class=\"node\">\n",
       "<title>19</title>\n",
       "<path fill=\"none\" stroke=\"#000000\" d=\"M1357.5492,-178C1357.5492,-178 1254.15,-178 1254.15,-178 1248.15,-178 1242.15,-172 1242.15,-166 1242.15,-166 1242.15,-112 1242.15,-112 1242.15,-106 1248.15,-100 1254.15,-100 1254.15,-100 1357.5492,-100 1357.5492,-100 1363.5492,-100 1369.5492,-106 1369.5492,-112 1369.5492,-112 1369.5492,-166 1369.5492,-166 1369.5492,-172 1363.5492,-178 1357.5492,-178\"/>\n",
       "<text text-anchor=\"middle\" x=\"1305.8496\" y=\"-162.8\" font-family=\"Helvetica,sans-Serif\" font-size=\"14.00\" fill=\"#000000\">Age &lt;= 34.5</text>\n",
       "<text text-anchor=\"middle\" x=\"1305.8496\" y=\"-148.8\" font-family=\"Helvetica,sans-Serif\" font-size=\"14.00\" fill=\"#000000\">gini = 0.458</text>\n",
       "<text text-anchor=\"middle\" x=\"1305.8496\" y=\"-134.8\" font-family=\"Helvetica,sans-Serif\" font-size=\"14.00\" fill=\"#000000\">samples = 793</text>\n",
       "<text text-anchor=\"middle\" x=\"1305.8496\" y=\"-120.8\" font-family=\"Helvetica,sans-Serif\" font-size=\"14.00\" fill=\"#000000\">value = [512, 281]</text>\n",
       "<text text-anchor=\"middle\" x=\"1305.8496\" y=\"-106.8\" font-family=\"Helvetica,sans-Serif\" font-size=\"14.00\" fill=\"#000000\">class = &lt;=50K</text>\n",
       "</g>\n",
       "<!-- 18&#45;&gt;19 -->\n",
       "<g id=\"edge19\" class=\"edge\">\n",
       "<title>18&#45;&gt;19</title>\n",
       "<path fill=\"none\" stroke=\"#000000\" d=\"M1430.071,-213.9272C1413.4185,-203.8828 1395.3952,-193.0116 1378.3782,-182.7474\"/>\n",
       "<polygon fill=\"#000000\" stroke=\"#000000\" points=\"1379.9544,-179.6107 1369.5837,-177.4428 1376.3389,-185.6048 1379.9544,-179.6107\"/>\n",
       "</g>\n",
       "<!-- 22 -->\n",
       "<g id=\"node23\" class=\"node\">\n",
       "<title>22</title>\n",
       "<path fill=\"none\" stroke=\"#000000\" d=\"M1542.2305,-178C1542.2305,-178 1447.4687,-178 1447.4687,-178 1441.4687,-178 1435.4687,-172 1435.4687,-166 1435.4687,-166 1435.4687,-112 1435.4687,-112 1435.4687,-106 1441.4687,-100 1447.4687,-100 1447.4687,-100 1542.2305,-100 1542.2305,-100 1548.2305,-100 1554.2305,-106 1554.2305,-112 1554.2305,-112 1554.2305,-166 1554.2305,-166 1554.2305,-172 1548.2305,-178 1542.2305,-178\"/>\n",
       "<text text-anchor=\"middle\" x=\"1494.8496\" y=\"-162.8\" font-family=\"Helvetica,sans-Serif\" font-size=\"14.00\" fill=\"#000000\">Age &lt;= 26.5</text>\n",
       "<text text-anchor=\"middle\" x=\"1494.8496\" y=\"-148.8\" font-family=\"Helvetica,sans-Serif\" font-size=\"14.00\" fill=\"#000000\">gini = 0.448</text>\n",
       "<text text-anchor=\"middle\" x=\"1494.8496\" y=\"-134.8\" font-family=\"Helvetica,sans-Serif\" font-size=\"14.00\" fill=\"#000000\">samples = 180</text>\n",
       "<text text-anchor=\"middle\" x=\"1494.8496\" y=\"-120.8\" font-family=\"Helvetica,sans-Serif\" font-size=\"14.00\" fill=\"#000000\">value = [61, 119]</text>\n",
       "<text text-anchor=\"middle\" x=\"1494.8496\" y=\"-106.8\" font-family=\"Helvetica,sans-Serif\" font-size=\"14.00\" fill=\"#000000\">class = &lt;=50K</text>\n",
       "</g>\n",
       "<!-- 18&#45;&gt;22 -->\n",
       "<g id=\"edge22\" class=\"edge\">\n",
       "<title>18&#45;&gt;22</title>\n",
       "<path fill=\"none\" stroke=\"#000000\" d=\"M1494.8496,-213.7677C1494.8496,-205.6172 1494.8496,-196.9283 1494.8496,-188.4649\"/>\n",
       "<polygon fill=\"#000000\" stroke=\"#000000\" points=\"1498.3497,-188.3046 1494.8496,-178.3046 1491.3497,-188.3047 1498.3497,-188.3046\"/>\n",
       "</g>\n",
       "<!-- 20 -->\n",
       "<g id=\"node21\" class=\"node\">\n",
       "<title>20</title>\n",
       "<path fill=\"none\" stroke=\"#000000\" d=\"M1211.7627,-64C1211.7627,-64 1115.9365,-64 1115.9365,-64 1109.9365,-64 1103.9365,-58 1103.9365,-52 1103.9365,-52 1103.9365,-12 1103.9365,-12 1103.9365,-6 1109.9365,0 1115.9365,0 1115.9365,0 1211.7627,0 1211.7627,0 1217.7627,0 1223.7627,-6 1223.7627,-12 1223.7627,-12 1223.7627,-52 1223.7627,-52 1223.7627,-58 1217.7627,-64 1211.7627,-64\"/>\n",
       "<text text-anchor=\"middle\" x=\"1163.8496\" y=\"-48.8\" font-family=\"Helvetica,sans-Serif\" font-size=\"14.00\" fill=\"#000000\">gini = 0.373</text>\n",
       "<text text-anchor=\"middle\" x=\"1163.8496\" y=\"-34.8\" font-family=\"Helvetica,sans-Serif\" font-size=\"14.00\" fill=\"#000000\">samples = 310</text>\n",
       "<text text-anchor=\"middle\" x=\"1163.8496\" y=\"-20.8\" font-family=\"Helvetica,sans-Serif\" font-size=\"14.00\" fill=\"#000000\">value = [233, 77]</text>\n",
       "<text text-anchor=\"middle\" x=\"1163.8496\" y=\"-6.8\" font-family=\"Helvetica,sans-Serif\" font-size=\"14.00\" fill=\"#000000\">class = &lt;=50K</text>\n",
       "</g>\n",
       "<!-- 19&#45;&gt;20 -->\n",
       "<g id=\"edge20\" class=\"edge\">\n",
       "<title>19&#45;&gt;20</title>\n",
       "<path fill=\"none\" stroke=\"#000000\" d=\"M1253.7804,-99.7647C1241.0539,-90.1751 1227.4521,-79.9258 1214.7796,-70.3768\"/>\n",
       "<polygon fill=\"#000000\" stroke=\"#000000\" points=\"1216.6975,-67.4396 1206.6047,-64.2169 1212.4849,-73.0302 1216.6975,-67.4396\"/>\n",
       "</g>\n",
       "<!-- 21 -->\n",
       "<g id=\"node22\" class=\"node\">\n",
       "<title>21</title>\n",
       "<path fill=\"none\" stroke=\"#000000\" d=\"M1357.5492,-64C1357.5492,-64 1254.15,-64 1254.15,-64 1248.15,-64 1242.15,-58 1242.15,-52 1242.15,-52 1242.15,-12 1242.15,-12 1242.15,-6 1248.15,0 1254.15,0 1254.15,0 1357.5492,0 1357.5492,0 1363.5492,0 1369.5492,-6 1369.5492,-12 1369.5492,-12 1369.5492,-52 1369.5492,-52 1369.5492,-58 1363.5492,-64 1357.5492,-64\"/>\n",
       "<text text-anchor=\"middle\" x=\"1305.8496\" y=\"-48.8\" font-family=\"Helvetica,sans-Serif\" font-size=\"14.00\" fill=\"#000000\">gini = 0.488</text>\n",
       "<text text-anchor=\"middle\" x=\"1305.8496\" y=\"-34.8\" font-family=\"Helvetica,sans-Serif\" font-size=\"14.00\" fill=\"#000000\">samples = 483</text>\n",
       "<text text-anchor=\"middle\" x=\"1305.8496\" y=\"-20.8\" font-family=\"Helvetica,sans-Serif\" font-size=\"14.00\" fill=\"#000000\">value = [279, 204]</text>\n",
       "<text text-anchor=\"middle\" x=\"1305.8496\" y=\"-6.8\" font-family=\"Helvetica,sans-Serif\" font-size=\"14.00\" fill=\"#000000\">class = &lt;=50K</text>\n",
       "</g>\n",
       "<!-- 19&#45;&gt;21 -->\n",
       "<g id=\"edge21\" class=\"edge\">\n",
       "<title>19&#45;&gt;21</title>\n",
       "<path fill=\"none\" stroke=\"#000000\" d=\"M1305.8496,-99.7647C1305.8496,-91.4537 1305.8496,-82.6472 1305.8496,-74.2305\"/>\n",
       "<polygon fill=\"#000000\" stroke=\"#000000\" points=\"1309.3497,-74.2168 1305.8496,-64.2169 1302.3497,-74.2169 1309.3497,-74.2168\"/>\n",
       "</g>\n",
       "<!-- 23 -->\n",
       "<g id=\"node24\" class=\"node\">\n",
       "<title>23</title>\n",
       "<path fill=\"none\" stroke=\"#000000\" d=\"M1480.463,-64C1480.463,-64 1399.2363,-64 1399.2363,-64 1393.2363,-64 1387.2363,-58 1387.2363,-52 1387.2363,-52 1387.2363,-12 1387.2363,-12 1387.2363,-6 1393.2363,0 1399.2363,0 1399.2363,0 1480.463,0 1480.463,0 1486.463,0 1492.463,-6 1492.463,-12 1492.463,-12 1492.463,-52 1492.463,-52 1492.463,-58 1486.463,-64 1480.463,-64\"/>\n",
       "<text text-anchor=\"middle\" x=\"1439.8496\" y=\"-48.8\" font-family=\"Helvetica,sans-Serif\" font-size=\"14.00\" fill=\"#000000\">gini = 0.32</text>\n",
       "<text text-anchor=\"middle\" x=\"1439.8496\" y=\"-34.8\" font-family=\"Helvetica,sans-Serif\" font-size=\"14.00\" fill=\"#000000\">samples = 15</text>\n",
       "<text text-anchor=\"middle\" x=\"1439.8496\" y=\"-20.8\" font-family=\"Helvetica,sans-Serif\" font-size=\"14.00\" fill=\"#000000\">value = [12, 3]</text>\n",
       "<text text-anchor=\"middle\" x=\"1439.8496\" y=\"-6.8\" font-family=\"Helvetica,sans-Serif\" font-size=\"14.00\" fill=\"#000000\">class = &lt;=50K</text>\n",
       "</g>\n",
       "<!-- 22&#45;&gt;23 -->\n",
       "<g id=\"edge23\" class=\"edge\">\n",
       "<title>22&#45;&gt;23</title>\n",
       "<path fill=\"none\" stroke=\"#000000\" d=\"M1474.6819,-99.7647C1470.2221,-91.0884 1465.4848,-81.8721 1460.9876,-73.123\"/>\n",
       "<polygon fill=\"#000000\" stroke=\"#000000\" points=\"1464.0942,-71.5107 1456.4097,-64.2169 1457.8685,-74.7108 1464.0942,-71.5107\"/>\n",
       "</g>\n",
       "<!-- 24 -->\n",
       "<g id=\"node25\" class=\"node\">\n",
       "<title>24</title>\n",
       "<path fill=\"none\" stroke=\"#000000\" d=\"M1617.2305,-64C1617.2305,-64 1522.4687,-64 1522.4687,-64 1516.4687,-64 1510.4687,-58 1510.4687,-52 1510.4687,-52 1510.4687,-12 1510.4687,-12 1510.4687,-6 1516.4687,0 1522.4687,0 1522.4687,0 1617.2305,0 1617.2305,0 1623.2305,0 1629.2305,-6 1629.2305,-12 1629.2305,-12 1629.2305,-52 1629.2305,-52 1629.2305,-58 1623.2305,-64 1617.2305,-64\"/>\n",
       "<text text-anchor=\"middle\" x=\"1569.8496\" y=\"-48.8\" font-family=\"Helvetica,sans-Serif\" font-size=\"14.00\" fill=\"#000000\">gini = 0.418</text>\n",
       "<text text-anchor=\"middle\" x=\"1569.8496\" y=\"-34.8\" font-family=\"Helvetica,sans-Serif\" font-size=\"14.00\" fill=\"#000000\">samples = 165</text>\n",
       "<text text-anchor=\"middle\" x=\"1569.8496\" y=\"-20.8\" font-family=\"Helvetica,sans-Serif\" font-size=\"14.00\" fill=\"#000000\">value = [49, 116]</text>\n",
       "<text text-anchor=\"middle\" x=\"1569.8496\" y=\"-6.8\" font-family=\"Helvetica,sans-Serif\" font-size=\"14.00\" fill=\"#000000\">class = &lt;=50K</text>\n",
       "</g>\n",
       "<!-- 22&#45;&gt;24 -->\n",
       "<g id=\"edge24\" class=\"edge\">\n",
       "<title>22&#45;&gt;24</title>\n",
       "<path fill=\"none\" stroke=\"#000000\" d=\"M1522.351,-99.7647C1528.5606,-90.9057 1535.1647,-81.4838 1541.412,-72.571\"/>\n",
       "<polygon fill=\"#000000\" stroke=\"#000000\" points=\"1544.3939,-74.4145 1547.2677,-64.2169 1538.6618,-70.3967 1544.3939,-74.4145\"/>\n",
       "</g>\n",
       "<!-- 26 -->\n",
       "<g id=\"node27\" class=\"node\">\n",
       "<title>26</title>\n",
       "<path fill=\"none\" stroke=\"#000000\" d=\"M1798.7627,-178C1798.7627,-178 1702.9365,-178 1702.9365,-178 1696.9365,-178 1690.9365,-172 1690.9365,-166 1690.9365,-166 1690.9365,-112 1690.9365,-112 1690.9365,-106 1696.9365,-100 1702.9365,-100 1702.9365,-100 1798.7627,-100 1798.7627,-100 1804.7627,-100 1810.7627,-106 1810.7627,-112 1810.7627,-112 1810.7627,-166 1810.7627,-166 1810.7627,-172 1804.7627,-178 1798.7627,-178\"/>\n",
       "<text text-anchor=\"middle\" x=\"1750.8496\" y=\"-162.8\" font-family=\"Helvetica,sans-Serif\" font-size=\"14.00\" fill=\"#000000\">Age &lt;= 24.5</text>\n",
       "<text text-anchor=\"middle\" x=\"1750.8496\" y=\"-148.8\" font-family=\"Helvetica,sans-Serif\" font-size=\"14.00\" fill=\"#000000\">gini = 0.323</text>\n",
       "<text text-anchor=\"middle\" x=\"1750.8496\" y=\"-134.8\" font-family=\"Helvetica,sans-Serif\" font-size=\"14.00\" fill=\"#000000\">samples = 207</text>\n",
       "<text text-anchor=\"middle\" x=\"1750.8496\" y=\"-120.8\" font-family=\"Helvetica,sans-Serif\" font-size=\"14.00\" fill=\"#000000\">value = [42, 165]</text>\n",
       "<text text-anchor=\"middle\" x=\"1750.8496\" y=\"-106.8\" font-family=\"Helvetica,sans-Serif\" font-size=\"14.00\" fill=\"#000000\">class = &lt;=50K</text>\n",
       "</g>\n",
       "<!-- 25&#45;&gt;26 -->\n",
       "<g id=\"edge26\" class=\"edge\">\n",
       "<title>25&#45;&gt;26</title>\n",
       "<path fill=\"none\" stroke=\"#000000\" d=\"M1750.8496,-213.7677C1750.8496,-205.6172 1750.8496,-196.9283 1750.8496,-188.4649\"/>\n",
       "<polygon fill=\"#000000\" stroke=\"#000000\" points=\"1754.3497,-188.3046 1750.8496,-178.3046 1747.3497,-188.3047 1754.3497,-188.3046\"/>\n",
       "</g>\n",
       "<!-- 29 -->\n",
       "<g id=\"node30\" class=\"node\">\n",
       "<title>29</title>\n",
       "<path fill=\"none\" stroke=\"#000000\" d=\"M2059.1868,-178C2059.1868,-178 1864.5124,-178 1864.5124,-178 1858.5124,-178 1852.5124,-172 1852.5124,-166 1852.5124,-166 1852.5124,-112 1852.5124,-112 1852.5124,-106 1858.5124,-100 1864.5124,-100 1864.5124,-100 2059.1868,-100 2059.1868,-100 2065.1868,-100 2071.1868,-106 2071.1868,-112 2071.1868,-112 2071.1868,-166 2071.1868,-166 2071.1868,-172 2065.1868,-178 2059.1868,-178\"/>\n",
       "<text text-anchor=\"middle\" x=\"1961.8496\" y=\"-162.8\" font-family=\"Helvetica,sans-Serif\" font-size=\"14.00\" fill=\"#000000\">Race_Asian&#45;Pac&#45;Islander &lt;= 0.5</text>\n",
       "<text text-anchor=\"middle\" x=\"1961.8496\" y=\"-148.8\" font-family=\"Helvetica,sans-Serif\" font-size=\"14.00\" fill=\"#000000\">gini = 0.444</text>\n",
       "<text text-anchor=\"middle\" x=\"1961.8496\" y=\"-134.8\" font-family=\"Helvetica,sans-Serif\" font-size=\"14.00\" fill=\"#000000\">samples = 15</text>\n",
       "<text text-anchor=\"middle\" x=\"1961.8496\" y=\"-120.8\" font-family=\"Helvetica,sans-Serif\" font-size=\"14.00\" fill=\"#000000\">value = [10, 5]</text>\n",
       "<text text-anchor=\"middle\" x=\"1961.8496\" y=\"-106.8\" font-family=\"Helvetica,sans-Serif\" font-size=\"14.00\" fill=\"#000000\">class = &lt;=50K</text>\n",
       "</g>\n",
       "<!-- 25&#45;&gt;29 -->\n",
       "<g id=\"edge29\" class=\"edge\">\n",
       "<title>25&#45;&gt;29</title>\n",
       "<path fill=\"none\" stroke=\"#000000\" d=\"M1823.1686,-213.9272C1841.7063,-203.9115 1861.7657,-193.0738 1880.7157,-182.8354\"/>\n",
       "<polygon fill=\"#000000\" stroke=\"#000000\" points=\"1882.4908,-185.8546 1889.6251,-178.0218 1879.1633,-179.696 1882.4908,-185.8546\"/>\n",
       "</g>\n",
       "<!-- 27 -->\n",
       "<g id=\"node28\" class=\"node\">\n",
       "<title>27</title>\n",
       "<path fill=\"none\" stroke=\"#000000\" d=\"M1740.463,-64C1740.463,-64 1659.2363,-64 1659.2363,-64 1653.2363,-64 1647.2363,-58 1647.2363,-52 1647.2363,-52 1647.2363,-12 1647.2363,-12 1647.2363,-6 1653.2363,0 1659.2363,0 1659.2363,0 1740.463,0 1740.463,0 1746.463,0 1752.463,-6 1752.463,-12 1752.463,-12 1752.463,-52 1752.463,-52 1752.463,-58 1746.463,-64 1740.463,-64\"/>\n",
       "<text text-anchor=\"middle\" x=\"1699.8496\" y=\"-48.8\" font-family=\"Helvetica,sans-Serif\" font-size=\"14.00\" fill=\"#000000\">gini = 0.444</text>\n",
       "<text text-anchor=\"middle\" x=\"1699.8496\" y=\"-34.8\" font-family=\"Helvetica,sans-Serif\" font-size=\"14.00\" fill=\"#000000\">samples = 6</text>\n",
       "<text text-anchor=\"middle\" x=\"1699.8496\" y=\"-20.8\" font-family=\"Helvetica,sans-Serif\" font-size=\"14.00\" fill=\"#000000\">value = [4, 2]</text>\n",
       "<text text-anchor=\"middle\" x=\"1699.8496\" y=\"-6.8\" font-family=\"Helvetica,sans-Serif\" font-size=\"14.00\" fill=\"#000000\">class = &lt;=50K</text>\n",
       "</g>\n",
       "<!-- 26&#45;&gt;27 -->\n",
       "<g id=\"edge27\" class=\"edge\">\n",
       "<title>26&#45;&gt;27</title>\n",
       "<path fill=\"none\" stroke=\"#000000\" d=\"M1732.1487,-99.7647C1728.0568,-91.1797 1723.7129,-82.066 1719.582,-73.3994\"/>\n",
       "<polygon fill=\"#000000\" stroke=\"#000000\" points=\"1722.6675,-71.738 1715.2053,-64.2169 1716.3485,-74.7499 1722.6675,-71.738\"/>\n",
       "</g>\n",
       "<!-- 28 -->\n",
       "<g id=\"node29\" class=\"node\">\n",
       "<title>28</title>\n",
       "<path fill=\"none\" stroke=\"#000000\" d=\"M1878.7627,-64C1878.7627,-64 1782.9365,-64 1782.9365,-64 1776.9365,-64 1770.9365,-58 1770.9365,-52 1770.9365,-52 1770.9365,-12 1770.9365,-12 1770.9365,-6 1776.9365,0 1782.9365,0 1782.9365,0 1878.7627,0 1878.7627,0 1884.7627,0 1890.7627,-6 1890.7627,-12 1890.7627,-12 1890.7627,-52 1890.7627,-52 1890.7627,-58 1884.7627,-64 1878.7627,-64\"/>\n",
       "<text text-anchor=\"middle\" x=\"1830.8496\" y=\"-48.8\" font-family=\"Helvetica,sans-Serif\" font-size=\"14.00\" fill=\"#000000\">gini = 0.307</text>\n",
       "<text text-anchor=\"middle\" x=\"1830.8496\" y=\"-34.8\" font-family=\"Helvetica,sans-Serif\" font-size=\"14.00\" fill=\"#000000\">samples = 201</text>\n",
       "<text text-anchor=\"middle\" x=\"1830.8496\" y=\"-20.8\" font-family=\"Helvetica,sans-Serif\" font-size=\"14.00\" fill=\"#000000\">value = [38, 163]</text>\n",
       "<text text-anchor=\"middle\" x=\"1830.8496\" y=\"-6.8\" font-family=\"Helvetica,sans-Serif\" font-size=\"14.00\" fill=\"#000000\">class = &lt;=50K</text>\n",
       "</g>\n",
       "<!-- 26&#45;&gt;28 -->\n",
       "<g id=\"edge28\" class=\"edge\">\n",
       "<title>26&#45;&gt;28</title>\n",
       "<path fill=\"none\" stroke=\"#000000\" d=\"M1780.1844,-99.7647C1786.8762,-90.8144 1793.9977,-81.2894 1800.7221,-72.2955\"/>\n",
       "<polygon fill=\"#000000\" stroke=\"#000000\" points=\"1803.5773,-74.3217 1806.7622,-64.2169 1797.971,-70.13 1803.5773,-74.3217\"/>\n",
       "</g>\n",
       "<!-- 30 -->\n",
       "<g id=\"node31\" class=\"node\">\n",
       "<title>30</title>\n",
       "<path fill=\"none\" stroke=\"#000000\" d=\"M2002.463,-64C2002.463,-64 1921.2363,-64 1921.2363,-64 1915.2363,-64 1909.2363,-58 1909.2363,-52 1909.2363,-52 1909.2363,-12 1909.2363,-12 1909.2363,-6 1915.2363,0 1921.2363,0 1921.2363,0 2002.463,0 2002.463,0 2008.463,0 2014.463,-6 2014.463,-12 2014.463,-12 2014.463,-52 2014.463,-52 2014.463,-58 2008.463,-64 2002.463,-64\"/>\n",
       "<text text-anchor=\"middle\" x=\"1961.8496\" y=\"-48.8\" font-family=\"Helvetica,sans-Serif\" font-size=\"14.00\" fill=\"#000000\">gini = 0.408</text>\n",
       "<text text-anchor=\"middle\" x=\"1961.8496\" y=\"-34.8\" font-family=\"Helvetica,sans-Serif\" font-size=\"14.00\" fill=\"#000000\">samples = 14</text>\n",
       "<text text-anchor=\"middle\" x=\"1961.8496\" y=\"-20.8\" font-family=\"Helvetica,sans-Serif\" font-size=\"14.00\" fill=\"#000000\">value = [10, 4]</text>\n",
       "<text text-anchor=\"middle\" x=\"1961.8496\" y=\"-6.8\" font-family=\"Helvetica,sans-Serif\" font-size=\"14.00\" fill=\"#000000\">class = &lt;=50K</text>\n",
       "</g>\n",
       "<!-- 29&#45;&gt;30 -->\n",
       "<g id=\"edge30\" class=\"edge\">\n",
       "<title>29&#45;&gt;30</title>\n",
       "<path fill=\"none\" stroke=\"#000000\" d=\"M1961.8496,-99.7647C1961.8496,-91.4537 1961.8496,-82.6472 1961.8496,-74.2305\"/>\n",
       "<polygon fill=\"#000000\" stroke=\"#000000\" points=\"1965.3497,-74.2168 1961.8496,-64.2169 1958.3497,-74.2169 1965.3497,-74.2168\"/>\n",
       "</g>\n",
       "<!-- 31 -->\n",
       "<g id=\"node32\" class=\"node\">\n",
       "<title>31</title>\n",
       "<path fill=\"none\" stroke=\"#000000\" d=\"M2125.463,-64C2125.463,-64 2044.2363,-64 2044.2363,-64 2038.2363,-64 2032.2363,-58 2032.2363,-52 2032.2363,-52 2032.2363,-12 2032.2363,-12 2032.2363,-6 2038.2363,0 2044.2363,0 2044.2363,0 2125.463,0 2125.463,0 2131.463,0 2137.463,-6 2137.463,-12 2137.463,-12 2137.463,-52 2137.463,-52 2137.463,-58 2131.463,-64 2125.463,-64\"/>\n",
       "<text text-anchor=\"middle\" x=\"2084.8496\" y=\"-48.8\" font-family=\"Helvetica,sans-Serif\" font-size=\"14.00\" fill=\"#000000\">gini = 0.0</text>\n",
       "<text text-anchor=\"middle\" x=\"2084.8496\" y=\"-34.8\" font-family=\"Helvetica,sans-Serif\" font-size=\"14.00\" fill=\"#000000\">samples = 1</text>\n",
       "<text text-anchor=\"middle\" x=\"2084.8496\" y=\"-20.8\" font-family=\"Helvetica,sans-Serif\" font-size=\"14.00\" fill=\"#000000\">value = [0, 1]</text>\n",
       "<text text-anchor=\"middle\" x=\"2084.8496\" y=\"-6.8\" font-family=\"Helvetica,sans-Serif\" font-size=\"14.00\" fill=\"#000000\">class = &lt;=50K</text>\n",
       "</g>\n",
       "<!-- 29&#45;&gt;31 -->\n",
       "<g id=\"edge31\" class=\"edge\">\n",
       "<title>29&#45;&gt;31</title>\n",
       "<path fill=\"none\" stroke=\"#000000\" d=\"M2006.9518,-99.7647C2017.7655,-90.3577 2029.3088,-80.316 2040.1061,-70.9232\"/>\n",
       "<polygon fill=\"#000000\" stroke=\"#000000\" points=\"2042.5677,-73.4209 2047.8153,-64.2169 2037.9733,-68.1395 2042.5677,-73.4209\"/>\n",
       "</g>\n",
       "<!-- 33 -->\n",
       "<g id=\"node34\" class=\"node\">\n",
       "<title>33</title>\n",
       "<path fill=\"none\" stroke=\"#000000\" d=\"M2765.3555,-406C2765.3555,-406 2566.3437,-406 2566.3437,-406 2560.3437,-406 2554.3437,-400 2554.3437,-394 2554.3437,-394 2554.3437,-340 2554.3437,-340 2554.3437,-334 2560.3437,-328 2566.3437,-328 2566.3437,-328 2765.3555,-328 2765.3555,-328 2771.3555,-328 2777.3555,-334 2777.3555,-340 2777.3555,-340 2777.3555,-394 2777.3555,-394 2777.3555,-400 2771.3555,-406 2765.3555,-406\"/>\n",
       "<text text-anchor=\"middle\" x=\"2665.8496\" y=\"-390.8\" font-family=\"Helvetica,sans-Serif\" font-size=\"14.00\" fill=\"#000000\">Occupation_Prof&#45;specialty &lt;= 0.5</text>\n",
       "<text text-anchor=\"middle\" x=\"2665.8496\" y=\"-376.8\" font-family=\"Helvetica,sans-Serif\" font-size=\"14.00\" fill=\"#000000\">gini = 0.479</text>\n",
       "<text text-anchor=\"middle\" x=\"2665.8496\" y=\"-362.8\" font-family=\"Helvetica,sans-Serif\" font-size=\"14.00\" fill=\"#000000\">samples = 8256</text>\n",
       "<text text-anchor=\"middle\" x=\"2665.8496\" y=\"-348.8\" font-family=\"Helvetica,sans-Serif\" font-size=\"14.00\" fill=\"#000000\">value = [4982, 3274]</text>\n",
       "<text text-anchor=\"middle\" x=\"2665.8496\" y=\"-334.8\" font-family=\"Helvetica,sans-Serif\" font-size=\"14.00\" fill=\"#000000\">class = &lt;=50K</text>\n",
       "</g>\n",
       "<!-- 32&#45;&gt;33 -->\n",
       "<g id=\"edge33\" class=\"edge\">\n",
       "<title>32&#45;&gt;33</title>\n",
       "<path fill=\"none\" stroke=\"#000000\" d=\"M2665.8496,-441.7677C2665.8496,-433.6172 2665.8496,-424.9283 2665.8496,-416.4649\"/>\n",
       "<polygon fill=\"#000000\" stroke=\"#000000\" points=\"2669.3497,-416.3046 2665.8496,-406.3046 2662.3497,-416.3047 2669.3497,-416.3046\"/>\n",
       "</g>\n",
       "<!-- 48 -->\n",
       "<g id=\"node49\" class=\"node\">\n",
       "<title>48</title>\n",
       "<path fill=\"none\" stroke=\"#000000\" d=\"M3610.6281,-406C3610.6281,-406 3453.0712,-406 3453.0712,-406 3447.0712,-406 3441.0712,-400 3441.0712,-394 3441.0712,-394 3441.0712,-340 3441.0712,-340 3441.0712,-334 3447.0712,-328 3453.0712,-328 3453.0712,-328 3610.6281,-328 3610.6281,-328 3616.6281,-328 3622.6281,-334 3622.6281,-340 3622.6281,-340 3622.6281,-394 3622.6281,-394 3622.6281,-400 3616.6281,-406 3610.6281,-406\"/>\n",
       "<text text-anchor=\"middle\" x=\"3531.8496\" y=\"-390.8\" font-family=\"Helvetica,sans-Serif\" font-size=\"14.00\" fill=\"#000000\">Education_HS&#45;grad &lt;= 0.5</text>\n",
       "<text text-anchor=\"middle\" x=\"3531.8496\" y=\"-376.8\" font-family=\"Helvetica,sans-Serif\" font-size=\"14.00\" fill=\"#000000\">gini = 0.429</text>\n",
       "<text text-anchor=\"middle\" x=\"3531.8496\" y=\"-362.8\" font-family=\"Helvetica,sans-Serif\" font-size=\"14.00\" fill=\"#000000\">samples = 1657</text>\n",
       "<text text-anchor=\"middle\" x=\"3531.8496\" y=\"-348.8\" font-family=\"Helvetica,sans-Serif\" font-size=\"14.00\" fill=\"#000000\">value = [516, 1141]</text>\n",
       "<text text-anchor=\"middle\" x=\"3531.8496\" y=\"-334.8\" font-family=\"Helvetica,sans-Serif\" font-size=\"14.00\" fill=\"#000000\">class = &lt;=50K</text>\n",
       "</g>\n",
       "<!-- 32&#45;&gt;48 -->\n",
       "<g id=\"edge48\" class=\"edge\">\n",
       "<title>32&#45;&gt;48</title>\n",
       "<path fill=\"none\" stroke=\"#000000\" d=\"M2787.632,-464.9686C2959.6052,-442.3301 3270.4579,-401.4095 3430.5344,-380.3371\"/>\n",
       "<polygon fill=\"#000000\" stroke=\"#000000\" points=\"3431.3996,-383.7535 3440.8572,-378.9782 3430.4859,-376.8134 3431.3996,-383.7535\"/>\n",
       "</g>\n",
       "<!-- 34 -->\n",
       "<g id=\"node35\" class=\"node\">\n",
       "<title>34</title>\n",
       "<path fill=\"none\" stroke=\"#000000\" d=\"M2685.752,-292C2685.752,-292 2517.9472,-292 2517.9472,-292 2511.9472,-292 2505.9472,-286 2505.9472,-280 2505.9472,-280 2505.9472,-226 2505.9472,-226 2505.9472,-220 2511.9472,-214 2517.9472,-214 2517.9472,-214 2685.752,-214 2685.752,-214 2691.752,-214 2697.752,-220 2697.752,-226 2697.752,-226 2697.752,-280 2697.752,-280 2697.752,-286 2691.752,-292 2685.752,-292\"/>\n",
       "<text text-anchor=\"middle\" x=\"2601.8496\" y=\"-276.8\" font-family=\"Helvetica,sans-Serif\" font-size=\"14.00\" fill=\"#000000\">Education_Bachelors &lt;= 0.5</text>\n",
       "<text text-anchor=\"middle\" x=\"2601.8496\" y=\"-262.8\" font-family=\"Helvetica,sans-Serif\" font-size=\"14.00\" fill=\"#000000\">gini = 0.445</text>\n",
       "<text text-anchor=\"middle\" x=\"2601.8496\" y=\"-248.8\" font-family=\"Helvetica,sans-Serif\" font-size=\"14.00\" fill=\"#000000\">samples = 6883</text>\n",
       "<text text-anchor=\"middle\" x=\"2601.8496\" y=\"-234.8\" font-family=\"Helvetica,sans-Serif\" font-size=\"14.00\" fill=\"#000000\">value = [4578, 2305]</text>\n",
       "<text text-anchor=\"middle\" x=\"2601.8496\" y=\"-220.8\" font-family=\"Helvetica,sans-Serif\" font-size=\"14.00\" fill=\"#000000\">class = &lt;=50K</text>\n",
       "</g>\n",
       "<!-- 33&#45;&gt;34 -->\n",
       "<g id=\"edge34\" class=\"edge\">\n",
       "<title>33&#45;&gt;34</title>\n",
       "<path fill=\"none\" stroke=\"#000000\" d=\"M2643.8244,-327.7677C2638.9973,-319.1694 2633.8338,-309.9718 2628.8374,-301.072\"/>\n",
       "<polygon fill=\"#000000\" stroke=\"#000000\" points=\"2631.8627,-299.3111 2623.9154,-292.3046 2625.7588,-302.7379 2631.8627,-299.3111\"/>\n",
       "</g>\n",
       "<!-- 41 -->\n",
       "<g id=\"node42\" class=\"node\">\n",
       "<title>41</title>\n",
       "<path fill=\"none\" stroke=\"#000000\" d=\"M2891.5492,-292C2891.5492,-292 2788.15,-292 2788.15,-292 2782.15,-292 2776.15,-286 2776.15,-280 2776.15,-280 2776.15,-226 2776.15,-226 2776.15,-220 2782.15,-214 2788.15,-214 2788.15,-214 2891.5492,-214 2891.5492,-214 2897.5492,-214 2903.5492,-220 2903.5492,-226 2903.5492,-226 2903.5492,-280 2903.5492,-280 2903.5492,-286 2897.5492,-292 2891.5492,-292\"/>\n",
       "<text text-anchor=\"middle\" x=\"2839.8496\" y=\"-276.8\" font-family=\"Helvetica,sans-Serif\" font-size=\"14.00\" fill=\"#000000\">Age &lt;= 32.5</text>\n",
       "<text text-anchor=\"middle\" x=\"2839.8496\" y=\"-262.8\" font-family=\"Helvetica,sans-Serif\" font-size=\"14.00\" fill=\"#000000\">gini = 0.415</text>\n",
       "<text text-anchor=\"middle\" x=\"2839.8496\" y=\"-248.8\" font-family=\"Helvetica,sans-Serif\" font-size=\"14.00\" fill=\"#000000\">samples = 1373</text>\n",
       "<text text-anchor=\"middle\" x=\"2839.8496\" y=\"-234.8\" font-family=\"Helvetica,sans-Serif\" font-size=\"14.00\" fill=\"#000000\">value = [404, 969]</text>\n",
       "<text text-anchor=\"middle\" x=\"2839.8496\" y=\"-220.8\" font-family=\"Helvetica,sans-Serif\" font-size=\"14.00\" fill=\"#000000\">class = &lt;=50K</text>\n",
       "</g>\n",
       "<!-- 33&#45;&gt;41 -->\n",
       "<g id=\"edge41\" class=\"edge\">\n",
       "<title>33&#45;&gt;41</title>\n",
       "<path fill=\"none\" stroke=\"#000000\" d=\"M2725.7305,-327.7677C2740.4401,-318.1303 2756.299,-307.7401 2771.3789,-297.8601\"/>\n",
       "<polygon fill=\"#000000\" stroke=\"#000000\" points=\"2773.7067,-300.5194 2780.1532,-292.1115 2769.8704,-294.6641 2773.7067,-300.5194\"/>\n",
       "</g>\n",
       "<!-- 35 -->\n",
       "<g id=\"node36\" class=\"node\">\n",
       "<title>35</title>\n",
       "<path fill=\"none\" stroke=\"#000000\" d=\"M2439.6214,-178C2439.6214,-178 2320.0779,-178 2320.0779,-178 2314.0779,-178 2308.0779,-172 2308.0779,-166 2308.0779,-166 2308.0779,-112 2308.0779,-112 2308.0779,-106 2314.0779,-100 2320.0779,-100 2320.0779,-100 2439.6214,-100 2439.6214,-100 2445.6214,-100 2451.6214,-106 2451.6214,-112 2451.6214,-112 2451.6214,-166 2451.6214,-166 2451.6214,-172 2445.6214,-178 2439.6214,-178\"/>\n",
       "<text text-anchor=\"middle\" x=\"2379.8496\" y=\"-162.8\" font-family=\"Helvetica,sans-Serif\" font-size=\"14.00\" fill=\"#000000\">Age &lt;= 35.5</text>\n",
       "<text text-anchor=\"middle\" x=\"2379.8496\" y=\"-148.8\" font-family=\"Helvetica,sans-Serif\" font-size=\"14.00\" fill=\"#000000\">gini = 0.423</text>\n",
       "<text text-anchor=\"middle\" x=\"2379.8496\" y=\"-134.8\" font-family=\"Helvetica,sans-Serif\" font-size=\"14.00\" fill=\"#000000\">samples = 6106</text>\n",
       "<text text-anchor=\"middle\" x=\"2379.8496\" y=\"-120.8\" font-family=\"Helvetica,sans-Serif\" font-size=\"14.00\" fill=\"#000000\">value = [4253, 1853]</text>\n",
       "<text text-anchor=\"middle\" x=\"2379.8496\" y=\"-106.8\" font-family=\"Helvetica,sans-Serif\" font-size=\"14.00\" fill=\"#000000\">class = &lt;=50K</text>\n",
       "</g>\n",
       "<!-- 34&#45;&gt;35 -->\n",
       "<g id=\"edge35\" class=\"edge\">\n",
       "<title>34&#45;&gt;35</title>\n",
       "<path fill=\"none\" stroke=\"#000000\" d=\"M2525.7604,-213.9272C2504.7834,-203.1552 2481.9545,-191.4322 2460.7176,-180.5268\"/>\n",
       "<polygon fill=\"#000000\" stroke=\"#000000\" points=\"2462.2181,-177.3629 2451.7236,-175.9083 2459.0205,-183.5899 2462.2181,-177.3629\"/>\n",
       "</g>\n",
       "<!-- 38 -->\n",
       "<g id=\"node39\" class=\"node\">\n",
       "<title>38</title>\n",
       "<path fill=\"none\" stroke=\"#000000\" d=\"M2653.5492,-178C2653.5492,-178 2550.15,-178 2550.15,-178 2544.15,-178 2538.15,-172 2538.15,-166 2538.15,-166 2538.15,-112 2538.15,-112 2538.15,-106 2544.15,-100 2550.15,-100 2550.15,-100 2653.5492,-100 2653.5492,-100 2659.5492,-100 2665.5492,-106 2665.5492,-112 2665.5492,-112 2665.5492,-166 2665.5492,-166 2665.5492,-172 2659.5492,-178 2653.5492,-178\"/>\n",
       "<text text-anchor=\"middle\" x=\"2601.8496\" y=\"-162.8\" font-family=\"Helvetica,sans-Serif\" font-size=\"14.00\" fill=\"#000000\">Age &lt;= 61.5</text>\n",
       "<text text-anchor=\"middle\" x=\"2601.8496\" y=\"-148.8\" font-family=\"Helvetica,sans-Serif\" font-size=\"14.00\" fill=\"#000000\">gini = 0.487</text>\n",
       "<text text-anchor=\"middle\" x=\"2601.8496\" y=\"-134.8\" font-family=\"Helvetica,sans-Serif\" font-size=\"14.00\" fill=\"#000000\">samples = 777</text>\n",
       "<text text-anchor=\"middle\" x=\"2601.8496\" y=\"-120.8\" font-family=\"Helvetica,sans-Serif\" font-size=\"14.00\" fill=\"#000000\">value = [325, 452]</text>\n",
       "<text text-anchor=\"middle\" x=\"2601.8496\" y=\"-106.8\" font-family=\"Helvetica,sans-Serif\" font-size=\"14.00\" fill=\"#000000\">class = &lt;=50K</text>\n",
       "</g>\n",
       "<!-- 34&#45;&gt;38 -->\n",
       "<g id=\"edge38\" class=\"edge\">\n",
       "<title>34&#45;&gt;38</title>\n",
       "<path fill=\"none\" stroke=\"#000000\" d=\"M2601.8496,-213.7677C2601.8496,-205.6172 2601.8496,-196.9283 2601.8496,-188.4649\"/>\n",
       "<polygon fill=\"#000000\" stroke=\"#000000\" points=\"2605.3497,-188.3046 2601.8496,-178.3046 2598.3497,-188.3047 2605.3497,-188.3046\"/>\n",
       "</g>\n",
       "<!-- 36 -->\n",
       "<g id=\"node37\" class=\"node\">\n",
       "<title>36</title>\n",
       "<path fill=\"none\" stroke=\"#000000\" d=\"M2278.8358,-64C2278.8358,-64 2166.8634,-64 2166.8634,-64 2160.8634,-64 2154.8634,-58 2154.8634,-52 2154.8634,-52 2154.8634,-12 2154.8634,-12 2154.8634,-6 2160.8634,0 2166.8634,0 2166.8634,0 2278.8358,0 2278.8358,0 2284.8358,0 2290.8358,-6 2290.8358,-12 2290.8358,-12 2290.8358,-52 2290.8358,-52 2290.8358,-58 2284.8358,-64 2278.8358,-64\"/>\n",
       "<text text-anchor=\"middle\" x=\"2222.8496\" y=\"-48.8\" font-family=\"Helvetica,sans-Serif\" font-size=\"14.00\" fill=\"#000000\">gini = 0.306</text>\n",
       "<text text-anchor=\"middle\" x=\"2222.8496\" y=\"-34.8\" font-family=\"Helvetica,sans-Serif\" font-size=\"14.00\" fill=\"#000000\">samples = 1859</text>\n",
       "<text text-anchor=\"middle\" x=\"2222.8496\" y=\"-20.8\" font-family=\"Helvetica,sans-Serif\" font-size=\"14.00\" fill=\"#000000\">value = [1508, 351]</text>\n",
       "<text text-anchor=\"middle\" x=\"2222.8496\" y=\"-6.8\" font-family=\"Helvetica,sans-Serif\" font-size=\"14.00\" fill=\"#000000\">class = &lt;=50K</text>\n",
       "</g>\n",
       "<!-- 35&#45;&gt;36 -->\n",
       "<g id=\"edge36\" class=\"edge\">\n",
       "<title>35&#45;&gt;36</title>\n",
       "<path fill=\"none\" stroke=\"#000000\" d=\"M2322.2801,-99.7647C2307.8681,-89.9426 2292.4408,-79.4284 2278.1422,-69.6835\"/>\n",
       "<polygon fill=\"#000000\" stroke=\"#000000\" points=\"2280.1046,-66.7853 2269.87,-64.0458 2276.1623,-72.5697 2280.1046,-66.7853\"/>\n",
       "</g>\n",
       "<!-- 37 -->\n",
       "<g id=\"node38\" class=\"node\">\n",
       "<title>37</title>\n",
       "<path fill=\"none\" stroke=\"#000000\" d=\"M2439.6214,-64C2439.6214,-64 2320.0779,-64 2320.0779,-64 2314.0779,-64 2308.0779,-58 2308.0779,-52 2308.0779,-52 2308.0779,-12 2308.0779,-12 2308.0779,-6 2314.0779,0 2320.0779,0 2320.0779,0 2439.6214,0 2439.6214,0 2445.6214,0 2451.6214,-6 2451.6214,-12 2451.6214,-12 2451.6214,-52 2451.6214,-52 2451.6214,-58 2445.6214,-64 2439.6214,-64\"/>\n",
       "<text text-anchor=\"middle\" x=\"2379.8496\" y=\"-48.8\" font-family=\"Helvetica,sans-Serif\" font-size=\"14.00\" fill=\"#000000\">gini = 0.457</text>\n",
       "<text text-anchor=\"middle\" x=\"2379.8496\" y=\"-34.8\" font-family=\"Helvetica,sans-Serif\" font-size=\"14.00\" fill=\"#000000\">samples = 4247</text>\n",
       "<text text-anchor=\"middle\" x=\"2379.8496\" y=\"-20.8\" font-family=\"Helvetica,sans-Serif\" font-size=\"14.00\" fill=\"#000000\">value = [2745, 1502]</text>\n",
       "<text text-anchor=\"middle\" x=\"2379.8496\" y=\"-6.8\" font-family=\"Helvetica,sans-Serif\" font-size=\"14.00\" fill=\"#000000\">class = &lt;=50K</text>\n",
       "</g>\n",
       "<!-- 35&#45;&gt;37 -->\n",
       "<g id=\"edge37\" class=\"edge\">\n",
       "<title>35&#45;&gt;37</title>\n",
       "<path fill=\"none\" stroke=\"#000000\" d=\"M2379.8496,-99.7647C2379.8496,-91.4537 2379.8496,-82.6472 2379.8496,-74.2305\"/>\n",
       "<polygon fill=\"#000000\" stroke=\"#000000\" points=\"2383.3497,-74.2168 2379.8496,-64.2169 2376.3497,-74.2169 2383.3497,-74.2168\"/>\n",
       "</g>\n",
       "<!-- 39 -->\n",
       "<g id=\"node40\" class=\"node\">\n",
       "<title>39</title>\n",
       "<path fill=\"none\" stroke=\"#000000\" d=\"M2584.5492,-64C2584.5492,-64 2481.15,-64 2481.15,-64 2475.15,-64 2469.15,-58 2469.15,-52 2469.15,-52 2469.15,-12 2469.15,-12 2469.15,-6 2475.15,0 2481.15,0 2481.15,0 2584.5492,0 2584.5492,0 2590.5492,0 2596.5492,-6 2596.5492,-12 2596.5492,-12 2596.5492,-52 2596.5492,-52 2596.5492,-58 2590.5492,-64 2584.5492,-64\"/>\n",
       "<text text-anchor=\"middle\" x=\"2532.8496\" y=\"-48.8\" font-family=\"Helvetica,sans-Serif\" font-size=\"14.00\" fill=\"#000000\">gini = 0.477</text>\n",
       "<text text-anchor=\"middle\" x=\"2532.8496\" y=\"-34.8\" font-family=\"Helvetica,sans-Serif\" font-size=\"14.00\" fill=\"#000000\">samples = 701</text>\n",
       "<text text-anchor=\"middle\" x=\"2532.8496\" y=\"-20.8\" font-family=\"Helvetica,sans-Serif\" font-size=\"14.00\" fill=\"#000000\">value = [276, 425]</text>\n",
       "<text text-anchor=\"middle\" x=\"2532.8496\" y=\"-6.8\" font-family=\"Helvetica,sans-Serif\" font-size=\"14.00\" fill=\"#000000\">class = &lt;=50K</text>\n",
       "</g>\n",
       "<!-- 38&#45;&gt;39 -->\n",
       "<g id=\"edge39\" class=\"edge\">\n",
       "<title>38&#45;&gt;39</title>\n",
       "<path fill=\"none\" stroke=\"#000000\" d=\"M2576.5484,-99.7647C2570.8944,-90.9971 2564.8849,-81.678 2559.1901,-72.8469\"/>\n",
       "<polygon fill=\"#000000\" stroke=\"#000000\" points=\"2561.9859,-70.7242 2553.625,-64.2169 2556.1031,-74.5178 2561.9859,-70.7242\"/>\n",
       "</g>\n",
       "<!-- 40 -->\n",
       "<g id=\"node41\" class=\"node\">\n",
       "<title>40</title>\n",
       "<path fill=\"none\" stroke=\"#000000\" d=\"M2714.9766,-64C2714.9766,-64 2626.7226,-64 2626.7226,-64 2620.7226,-64 2614.7226,-58 2614.7226,-52 2614.7226,-52 2614.7226,-12 2614.7226,-12 2614.7226,-6 2620.7226,0 2626.7226,0 2626.7226,0 2714.9766,0 2714.9766,0 2720.9766,0 2726.9766,-6 2726.9766,-12 2726.9766,-12 2726.9766,-52 2726.9766,-52 2726.9766,-58 2720.9766,-64 2714.9766,-64\"/>\n",
       "<text text-anchor=\"middle\" x=\"2670.8496\" y=\"-48.8\" font-family=\"Helvetica,sans-Serif\" font-size=\"14.00\" fill=\"#000000\">gini = 0.458</text>\n",
       "<text text-anchor=\"middle\" x=\"2670.8496\" y=\"-34.8\" font-family=\"Helvetica,sans-Serif\" font-size=\"14.00\" fill=\"#000000\">samples = 76</text>\n",
       "<text text-anchor=\"middle\" x=\"2670.8496\" y=\"-20.8\" font-family=\"Helvetica,sans-Serif\" font-size=\"14.00\" fill=\"#000000\">value = [49, 27]</text>\n",
       "<text text-anchor=\"middle\" x=\"2670.8496\" y=\"-6.8\" font-family=\"Helvetica,sans-Serif\" font-size=\"14.00\" fill=\"#000000\">class = &lt;=50K</text>\n",
       "</g>\n",
       "<!-- 38&#45;&gt;40 -->\n",
       "<g id=\"edge40\" class=\"edge\">\n",
       "<title>38&#45;&gt;40</title>\n",
       "<path fill=\"none\" stroke=\"#000000\" d=\"M2627.1509,-99.7647C2632.8048,-90.9971 2638.8143,-81.678 2644.5091,-72.8469\"/>\n",
       "<polygon fill=\"#000000\" stroke=\"#000000\" points=\"2647.5962,-74.5178 2650.0742,-64.2169 2641.7133,-70.7242 2647.5962,-74.5178\"/>\n",
       "</g>\n",
       "<!-- 42 -->\n",
       "<g id=\"node43\" class=\"node\">\n",
       "<title>42</title>\n",
       "<path fill=\"none\" stroke=\"#000000\" d=\"M2891.5492,-178C2891.5492,-178 2788.15,-178 2788.15,-178 2782.15,-178 2776.15,-172 2776.15,-166 2776.15,-166 2776.15,-112 2776.15,-112 2776.15,-106 2782.15,-100 2788.15,-100 2788.15,-100 2891.5492,-100 2891.5492,-100 2897.5492,-100 2903.5492,-106 2903.5492,-112 2903.5492,-112 2903.5492,-166 2903.5492,-166 2903.5492,-172 2897.5492,-178 2891.5492,-178\"/>\n",
       "<text text-anchor=\"middle\" x=\"2839.8496\" y=\"-162.8\" font-family=\"Helvetica,sans-Serif\" font-size=\"14.00\" fill=\"#000000\">Age &lt;= 26.5</text>\n",
       "<text text-anchor=\"middle\" x=\"2839.8496\" y=\"-148.8\" font-family=\"Helvetica,sans-Serif\" font-size=\"14.00\" fill=\"#000000\">gini = 0.5</text>\n",
       "<text text-anchor=\"middle\" x=\"2839.8496\" y=\"-134.8\" font-family=\"Helvetica,sans-Serif\" font-size=\"14.00\" fill=\"#000000\">samples = 205</text>\n",
       "<text text-anchor=\"middle\" x=\"2839.8496\" y=\"-120.8\" font-family=\"Helvetica,sans-Serif\" font-size=\"14.00\" fill=\"#000000\">value = [104, 101]</text>\n",
       "<text text-anchor=\"middle\" x=\"2839.8496\" y=\"-106.8\" font-family=\"Helvetica,sans-Serif\" font-size=\"14.00\" fill=\"#000000\">class = &lt;=50K</text>\n",
       "</g>\n",
       "<!-- 41&#45;&gt;42 -->\n",
       "<g id=\"edge42\" class=\"edge\">\n",
       "<title>41&#45;&gt;42</title>\n",
       "<path fill=\"none\" stroke=\"#000000\" d=\"M2839.8496,-213.7677C2839.8496,-205.6172 2839.8496,-196.9283 2839.8496,-188.4649\"/>\n",
       "<polygon fill=\"#000000\" stroke=\"#000000\" points=\"2843.3497,-188.3046 2839.8496,-178.3046 2836.3497,-188.3047 2843.3497,-188.3046\"/>\n",
       "</g>\n",
       "<!-- 45 -->\n",
       "<g id=\"node46\" class=\"node\">\n",
       "<title>45</title>\n",
       "<path fill=\"none\" stroke=\"#000000\" d=\"M3151.3042,-178C3151.3042,-178 2974.395,-178 2974.395,-178 2968.395,-178 2962.395,-172 2962.395,-166 2962.395,-166 2962.395,-112 2962.395,-112 2962.395,-106 2968.395,-100 2974.395,-100 2974.395,-100 3151.3042,-100 3151.3042,-100 3157.3042,-100 3163.3042,-106 3163.3042,-112 3163.3042,-112 3163.3042,-166 3163.3042,-166 3163.3042,-172 3157.3042,-178 3151.3042,-178\"/>\n",
       "<text text-anchor=\"middle\" x=\"3062.8496\" y=\"-162.8\" font-family=\"Helvetica,sans-Serif\" font-size=\"14.00\" fill=\"#000000\">Education_Prof&#45;school &lt;= 0.5</text>\n",
       "<text text-anchor=\"middle\" x=\"3062.8496\" y=\"-148.8\" font-family=\"Helvetica,sans-Serif\" font-size=\"14.00\" fill=\"#000000\">gini = 0.382</text>\n",
       "<text text-anchor=\"middle\" x=\"3062.8496\" y=\"-134.8\" font-family=\"Helvetica,sans-Serif\" font-size=\"14.00\" fill=\"#000000\">samples = 1168</text>\n",
       "<text text-anchor=\"middle\" x=\"3062.8496\" y=\"-120.8\" font-family=\"Helvetica,sans-Serif\" font-size=\"14.00\" fill=\"#000000\">value = [300, 868]</text>\n",
       "<text text-anchor=\"middle\" x=\"3062.8496\" y=\"-106.8\" font-family=\"Helvetica,sans-Serif\" font-size=\"14.00\" fill=\"#000000\">class = &lt;=50K</text>\n",
       "</g>\n",
       "<!-- 41&#45;&gt;45 -->\n",
       "<g id=\"edge45\" class=\"edge\">\n",
       "<title>41&#45;&gt;45</title>\n",
       "<path fill=\"none\" stroke=\"#000000\" d=\"M2903.7525,-220.3322C2926.6777,-208.6125 2952.9079,-195.2034 2977.3686,-182.6988\"/>\n",
       "<polygon fill=\"#000000\" stroke=\"#000000\" points=\"2978.9801,-185.8059 2986.2909,-178.1376 2975.7938,-179.5731 2978.9801,-185.8059\"/>\n",
       "</g>\n",
       "<!-- 43 -->\n",
       "<g id=\"node44\" class=\"node\">\n",
       "<title>43</title>\n",
       "<path fill=\"none\" stroke=\"#000000\" d=\"M2838.463,-64C2838.463,-64 2757.2363,-64 2757.2363,-64 2751.2363,-64 2745.2363,-58 2745.2363,-52 2745.2363,-52 2745.2363,-12 2745.2363,-12 2745.2363,-6 2751.2363,0 2757.2363,0 2757.2363,0 2838.463,0 2838.463,0 2844.463,0 2850.463,-6 2850.463,-12 2850.463,-12 2850.463,-52 2850.463,-52 2850.463,-58 2844.463,-64 2838.463,-64\"/>\n",
       "<text text-anchor=\"middle\" x=\"2797.8496\" y=\"-48.8\" font-family=\"Helvetica,sans-Serif\" font-size=\"14.00\" fill=\"#000000\">gini = 0.382</text>\n",
       "<text text-anchor=\"middle\" x=\"2797.8496\" y=\"-34.8\" font-family=\"Helvetica,sans-Serif\" font-size=\"14.00\" fill=\"#000000\">samples = 35</text>\n",
       "<text text-anchor=\"middle\" x=\"2797.8496\" y=\"-20.8\" font-family=\"Helvetica,sans-Serif\" font-size=\"14.00\" fill=\"#000000\">value = [26, 9]</text>\n",
       "<text text-anchor=\"middle\" x=\"2797.8496\" y=\"-6.8\" font-family=\"Helvetica,sans-Serif\" font-size=\"14.00\" fill=\"#000000\">class = &lt;=50K</text>\n",
       "</g>\n",
       "<!-- 42&#45;&gt;43 -->\n",
       "<g id=\"edge43\" class=\"edge\">\n",
       "<title>42&#45;&gt;43</title>\n",
       "<path fill=\"none\" stroke=\"#000000\" d=\"M2824.4488,-99.7647C2821.1149,-91.271 2817.5778,-82.2599 2814.2085,-73.6762\"/>\n",
       "<polygon fill=\"#000000\" stroke=\"#000000\" points=\"2817.4074,-72.2466 2810.4955,-64.2169 2810.8914,-74.8043 2817.4074,-72.2466\"/>\n",
       "</g>\n",
       "<!-- 44 -->\n",
       "<g id=\"node45\" class=\"node\">\n",
       "<title>44</title>\n",
       "<path fill=\"none\" stroke=\"#000000\" d=\"M2968.9766,-64C2968.9766,-64 2880.7226,-64 2880.7226,-64 2874.7226,-64 2868.7226,-58 2868.7226,-52 2868.7226,-52 2868.7226,-12 2868.7226,-12 2868.7226,-6 2874.7226,0 2880.7226,0 2880.7226,0 2968.9766,0 2968.9766,0 2974.9766,0 2980.9766,-6 2980.9766,-12 2980.9766,-12 2980.9766,-52 2980.9766,-52 2980.9766,-58 2974.9766,-64 2968.9766,-64\"/>\n",
       "<text text-anchor=\"middle\" x=\"2924.8496\" y=\"-48.8\" font-family=\"Helvetica,sans-Serif\" font-size=\"14.00\" fill=\"#000000\">gini = 0.497</text>\n",
       "<text text-anchor=\"middle\" x=\"2924.8496\" y=\"-34.8\" font-family=\"Helvetica,sans-Serif\" font-size=\"14.00\" fill=\"#000000\">samples = 170</text>\n",
       "<text text-anchor=\"middle\" x=\"2924.8496\" y=\"-20.8\" font-family=\"Helvetica,sans-Serif\" font-size=\"14.00\" fill=\"#000000\">value = [78, 92]</text>\n",
       "<text text-anchor=\"middle\" x=\"2924.8496\" y=\"-6.8\" font-family=\"Helvetica,sans-Serif\" font-size=\"14.00\" fill=\"#000000\">class = &lt;=50K</text>\n",
       "</g>\n",
       "<!-- 42&#45;&gt;44 -->\n",
       "<g id=\"edge44\" class=\"edge\">\n",
       "<title>42&#45;&gt;44</title>\n",
       "<path fill=\"none\" stroke=\"#000000\" d=\"M2871.0178,-99.7647C2878.1279,-90.8144 2885.6944,-81.2894 2892.8391,-72.2955\"/>\n",
       "<polygon fill=\"#000000\" stroke=\"#000000\" points=\"2895.7771,-74.224 2899.2568,-64.2169 2890.2961,-69.8699 2895.7771,-74.224\"/>\n",
       "</g>\n",
       "<!-- 46 -->\n",
       "<g id=\"node47\" class=\"node\">\n",
       "<title>46</title>\n",
       "<path fill=\"none\" stroke=\"#000000\" d=\"M3114.5492,-64C3114.5492,-64 3011.15,-64 3011.15,-64 3005.15,-64 2999.15,-58 2999.15,-52 2999.15,-52 2999.15,-12 2999.15,-12 2999.15,-6 3005.15,0 3011.15,0 3011.15,0 3114.5492,0 3114.5492,0 3120.5492,0 3126.5492,-6 3126.5492,-12 3126.5492,-12 3126.5492,-52 3126.5492,-52 3126.5492,-58 3120.5492,-64 3114.5492,-64\"/>\n",
       "<text text-anchor=\"middle\" x=\"3062.8496\" y=\"-48.8\" font-family=\"Helvetica,sans-Serif\" font-size=\"14.00\" fill=\"#000000\">gini = 0.414</text>\n",
       "<text text-anchor=\"middle\" x=\"3062.8496\" y=\"-34.8\" font-family=\"Helvetica,sans-Serif\" font-size=\"14.00\" fill=\"#000000\">samples = 964</text>\n",
       "<text text-anchor=\"middle\" x=\"3062.8496\" y=\"-20.8\" font-family=\"Helvetica,sans-Serif\" font-size=\"14.00\" fill=\"#000000\">value = [282, 682]</text>\n",
       "<text text-anchor=\"middle\" x=\"3062.8496\" y=\"-6.8\" font-family=\"Helvetica,sans-Serif\" font-size=\"14.00\" fill=\"#000000\">class = &lt;=50K</text>\n",
       "</g>\n",
       "<!-- 45&#45;&gt;46 -->\n",
       "<g id=\"edge46\" class=\"edge\">\n",
       "<title>45&#45;&gt;46</title>\n",
       "<path fill=\"none\" stroke=\"#000000\" d=\"M3062.8496,-99.7647C3062.8496,-91.4537 3062.8496,-82.6472 3062.8496,-74.2305\"/>\n",
       "<polygon fill=\"#000000\" stroke=\"#000000\" points=\"3066.3497,-74.2168 3062.8496,-64.2169 3059.3497,-74.2169 3066.3497,-74.2168\"/>\n",
       "</g>\n",
       "<!-- 47 -->\n",
       "<g id=\"node48\" class=\"node\">\n",
       "<title>47</title>\n",
       "<path fill=\"none\" stroke=\"#000000\" d=\"M3252.7627,-64C3252.7627,-64 3156.9365,-64 3156.9365,-64 3150.9365,-64 3144.9365,-58 3144.9365,-52 3144.9365,-52 3144.9365,-12 3144.9365,-12 3144.9365,-6 3150.9365,0 3156.9365,0 3156.9365,0 3252.7627,0 3252.7627,0 3258.7627,0 3264.7627,-6 3264.7627,-12 3264.7627,-12 3264.7627,-52 3264.7627,-52 3264.7627,-58 3258.7627,-64 3252.7627,-64\"/>\n",
       "<text text-anchor=\"middle\" x=\"3204.8496\" y=\"-48.8\" font-family=\"Helvetica,sans-Serif\" font-size=\"14.00\" fill=\"#000000\">gini = 0.161</text>\n",
       "<text text-anchor=\"middle\" x=\"3204.8496\" y=\"-34.8\" font-family=\"Helvetica,sans-Serif\" font-size=\"14.00\" fill=\"#000000\">samples = 204</text>\n",
       "<text text-anchor=\"middle\" x=\"3204.8496\" y=\"-20.8\" font-family=\"Helvetica,sans-Serif\" font-size=\"14.00\" fill=\"#000000\">value = [18, 186]</text>\n",
       "<text text-anchor=\"middle\" x=\"3204.8496\" y=\"-6.8\" font-family=\"Helvetica,sans-Serif\" font-size=\"14.00\" fill=\"#000000\">class = &lt;=50K</text>\n",
       "</g>\n",
       "<!-- 45&#45;&gt;47 -->\n",
       "<g id=\"edge47\" class=\"edge\">\n",
       "<title>45&#45;&gt;47</title>\n",
       "<path fill=\"none\" stroke=\"#000000\" d=\"M3114.9189,-99.7647C3127.6453,-90.1751 3141.2471,-79.9258 3153.9196,-70.3768\"/>\n",
       "<polygon fill=\"#000000\" stroke=\"#000000\" points=\"3156.2143,-73.0302 3162.0945,-64.2169 3152.0017,-67.4396 3156.2143,-73.0302\"/>\n",
       "</g>\n",
       "<!-- 49 -->\n",
       "<g id=\"node50\" class=\"node\">\n",
       "<title>49</title>\n",
       "<path fill=\"none\" stroke=\"#000000\" d=\"M3583.5492,-292C3583.5492,-292 3480.15,-292 3480.15,-292 3474.15,-292 3468.15,-286 3468.15,-280 3468.15,-280 3468.15,-226 3468.15,-226 3468.15,-220 3474.15,-214 3480.15,-214 3480.15,-214 3583.5492,-214 3583.5492,-214 3589.5492,-214 3595.5492,-220 3595.5492,-226 3595.5492,-226 3595.5492,-280 3595.5492,-280 3595.5492,-286 3589.5492,-292 3583.5492,-292\"/>\n",
       "<text text-anchor=\"middle\" x=\"3531.8496\" y=\"-276.8\" font-family=\"Helvetica,sans-Serif\" font-size=\"14.00\" fill=\"#000000\">Age &lt;= 29.5</text>\n",
       "<text text-anchor=\"middle\" x=\"3531.8496\" y=\"-262.8\" font-family=\"Helvetica,sans-Serif\" font-size=\"14.00\" fill=\"#000000\">gini = 0.384</text>\n",
       "<text text-anchor=\"middle\" x=\"3531.8496\" y=\"-248.8\" font-family=\"Helvetica,sans-Serif\" font-size=\"14.00\" fill=\"#000000\">samples = 1344</text>\n",
       "<text text-anchor=\"middle\" x=\"3531.8496\" y=\"-234.8\" font-family=\"Helvetica,sans-Serif\" font-size=\"14.00\" fill=\"#000000\">value = [349, 995]</text>\n",
       "<text text-anchor=\"middle\" x=\"3531.8496\" y=\"-220.8\" font-family=\"Helvetica,sans-Serif\" font-size=\"14.00\" fill=\"#000000\">class = &lt;=50K</text>\n",
       "</g>\n",
       "<!-- 48&#45;&gt;49 -->\n",
       "<g id=\"edge49\" class=\"edge\">\n",
       "<title>48&#45;&gt;49</title>\n",
       "<path fill=\"none\" stroke=\"#000000\" d=\"M3531.8496,-327.7677C3531.8496,-319.6172 3531.8496,-310.9283 3531.8496,-302.4649\"/>\n",
       "<polygon fill=\"#000000\" stroke=\"#000000\" points=\"3535.3497,-302.3046 3531.8496,-292.3046 3528.3497,-302.3047 3535.3497,-302.3046\"/>\n",
       "</g>\n",
       "<!-- 56 -->\n",
       "<g id=\"node57\" class=\"node\">\n",
       "<title>56</title>\n",
       "<path fill=\"none\" stroke=\"#000000\" d=\"M3975.5492,-292C3975.5492,-292 3872.15,-292 3872.15,-292 3866.15,-292 3860.15,-286 3860.15,-280 3860.15,-280 3860.15,-226 3860.15,-226 3860.15,-220 3866.15,-214 3872.15,-214 3872.15,-214 3975.5492,-214 3975.5492,-214 3981.5492,-214 3987.5492,-220 3987.5492,-226 3987.5492,-226 3987.5492,-280 3987.5492,-280 3987.5492,-286 3981.5492,-292 3975.5492,-292\"/>\n",
       "<text text-anchor=\"middle\" x=\"3923.8496\" y=\"-276.8\" font-family=\"Helvetica,sans-Serif\" font-size=\"14.00\" fill=\"#000000\">Age &lt;= 36.5</text>\n",
       "<text text-anchor=\"middle\" x=\"3923.8496\" y=\"-262.8\" font-family=\"Helvetica,sans-Serif\" font-size=\"14.00\" fill=\"#000000\">gini = 0.498</text>\n",
       "<text text-anchor=\"middle\" x=\"3923.8496\" y=\"-248.8\" font-family=\"Helvetica,sans-Serif\" font-size=\"14.00\" fill=\"#000000\">samples = 313</text>\n",
       "<text text-anchor=\"middle\" x=\"3923.8496\" y=\"-234.8\" font-family=\"Helvetica,sans-Serif\" font-size=\"14.00\" fill=\"#000000\">value = [167, 146]</text>\n",
       "<text text-anchor=\"middle\" x=\"3923.8496\" y=\"-220.8\" font-family=\"Helvetica,sans-Serif\" font-size=\"14.00\" fill=\"#000000\">class = &lt;=50K</text>\n",
       "</g>\n",
       "<!-- 48&#45;&gt;56 -->\n",
       "<g id=\"edge56\" class=\"edge\">\n",
       "<title>48&#45;&gt;56</title>\n",
       "<path fill=\"none\" stroke=\"#000000\" d=\"M3622.7676,-340.5596C3691.9318,-320.4455 3785.8818,-293.1233 3850.3371,-274.3786\"/>\n",
       "<polygon fill=\"#000000\" stroke=\"#000000\" points=\"3851.3981,-277.7152 3860.0229,-271.5618 3849.4433,-270.9936 3851.3981,-277.7152\"/>\n",
       "</g>\n",
       "<!-- 50 -->\n",
       "<g id=\"node51\" class=\"node\">\n",
       "<title>50</title>\n",
       "<path fill=\"none\" stroke=\"#000000\" d=\"M3504.752,-178C3504.752,-178 3336.9472,-178 3336.9472,-178 3330.9472,-178 3324.9472,-172 3324.9472,-166 3324.9472,-166 3324.9472,-112 3324.9472,-112 3324.9472,-106 3330.9472,-100 3336.9472,-100 3336.9472,-100 3504.752,-100 3504.752,-100 3510.752,-100 3516.752,-106 3516.752,-112 3516.752,-112 3516.752,-166 3516.752,-166 3516.752,-172 3510.752,-178 3504.752,-178\"/>\n",
       "<text text-anchor=\"middle\" x=\"3420.8496\" y=\"-162.8\" font-family=\"Helvetica,sans-Serif\" font-size=\"14.00\" fill=\"#000000\">Education_Bachelors &lt;= 0.5</text>\n",
       "<text text-anchor=\"middle\" x=\"3420.8496\" y=\"-148.8\" font-family=\"Helvetica,sans-Serif\" font-size=\"14.00\" fill=\"#000000\">gini = 0.466</text>\n",
       "<text text-anchor=\"middle\" x=\"3420.8496\" y=\"-134.8\" font-family=\"Helvetica,sans-Serif\" font-size=\"14.00\" fill=\"#000000\">samples = 73</text>\n",
       "<text text-anchor=\"middle\" x=\"3420.8496\" y=\"-120.8\" font-family=\"Helvetica,sans-Serif\" font-size=\"14.00\" fill=\"#000000\">value = [46, 27]</text>\n",
       "<text text-anchor=\"middle\" x=\"3420.8496\" y=\"-106.8\" font-family=\"Helvetica,sans-Serif\" font-size=\"14.00\" fill=\"#000000\">class = &lt;=50K</text>\n",
       "</g>\n",
       "<!-- 49&#45;&gt;50 -->\n",
       "<g id=\"edge50\" class=\"edge\">\n",
       "<title>49&#45;&gt;50</title>\n",
       "<path fill=\"none\" stroke=\"#000000\" d=\"M3493.6497,-213.7677C3484.8417,-204.7216 3475.3877,-195.0121 3466.305,-185.6839\"/>\n",
       "<polygon fill=\"#000000\" stroke=\"#000000\" points=\"3468.6038,-183.0277 3459.1199,-178.3046 3463.5885,-187.9111 3468.6038,-183.0277\"/>\n",
       "</g>\n",
       "<!-- 53 -->\n",
       "<g id=\"node54\" class=\"node\">\n",
       "<title>53</title>\n",
       "<path fill=\"none\" stroke=\"#000000\" d=\"M3738.5968,-178C3738.5968,-178 3547.1024,-178 3547.1024,-178 3541.1024,-178 3535.1024,-172 3535.1024,-166 3535.1024,-166 3535.1024,-112 3535.1024,-112 3535.1024,-106 3541.1024,-100 3547.1024,-100 3547.1024,-100 3738.5968,-100 3738.5968,-100 3744.5968,-100 3750.5968,-106 3750.5968,-112 3750.5968,-112 3750.5968,-166 3750.5968,-166 3750.5968,-172 3744.5968,-178 3738.5968,-178\"/>\n",
       "<text text-anchor=\"middle\" x=\"3642.8496\" y=\"-162.8\" font-family=\"Helvetica,sans-Serif\" font-size=\"14.00\" fill=\"#000000\">Education_Some&#45;college &lt;= 0.5</text>\n",
       "<text text-anchor=\"middle\" x=\"3642.8496\" y=\"-148.8\" font-family=\"Helvetica,sans-Serif\" font-size=\"14.00\" fill=\"#000000\">gini = 0.363</text>\n",
       "<text text-anchor=\"middle\" x=\"3642.8496\" y=\"-134.8\" font-family=\"Helvetica,sans-Serif\" font-size=\"14.00\" fill=\"#000000\">samples = 1271</text>\n",
       "<text text-anchor=\"middle\" x=\"3642.8496\" y=\"-120.8\" font-family=\"Helvetica,sans-Serif\" font-size=\"14.00\" fill=\"#000000\">value = [303, 968]</text>\n",
       "<text text-anchor=\"middle\" x=\"3642.8496\" y=\"-106.8\" font-family=\"Helvetica,sans-Serif\" font-size=\"14.00\" fill=\"#000000\">class = &lt;=50K</text>\n",
       "</g>\n",
       "<!-- 49&#45;&gt;53 -->\n",
       "<g id=\"edge53\" class=\"edge\">\n",
       "<title>49&#45;&gt;53</title>\n",
       "<path fill=\"none\" stroke=\"#000000\" d=\"M3570.0495,-213.7677C3578.8576,-204.7216 3588.3115,-195.0121 3597.3942,-185.6839\"/>\n",
       "<polygon fill=\"#000000\" stroke=\"#000000\" points=\"3600.1108,-187.9111 3604.5793,-178.3046 3595.0954,-183.0277 3600.1108,-187.9111\"/>\n",
       "</g>\n",
       "<!-- 51 -->\n",
       "<g id=\"node52\" class=\"node\">\n",
       "<title>51</title>\n",
       "<path fill=\"none\" stroke=\"#000000\" d=\"M3376.463,-64C3376.463,-64 3295.2363,-64 3295.2363,-64 3289.2363,-64 3283.2363,-58 3283.2363,-52 3283.2363,-52 3283.2363,-12 3283.2363,-12 3283.2363,-6 3289.2363,0 3295.2363,0 3295.2363,0 3376.463,0 3376.463,0 3382.463,0 3388.463,-6 3388.463,-12 3388.463,-12 3388.463,-52 3388.463,-52 3388.463,-58 3382.463,-64 3376.463,-64\"/>\n",
       "<text text-anchor=\"middle\" x=\"3335.8496\" y=\"-48.8\" font-family=\"Helvetica,sans-Serif\" font-size=\"14.00\" fill=\"#000000\">gini = 0.326</text>\n",
       "<text text-anchor=\"middle\" x=\"3335.8496\" y=\"-34.8\" font-family=\"Helvetica,sans-Serif\" font-size=\"14.00\" fill=\"#000000\">samples = 39</text>\n",
       "<text text-anchor=\"middle\" x=\"3335.8496\" y=\"-20.8\" font-family=\"Helvetica,sans-Serif\" font-size=\"14.00\" fill=\"#000000\">value = [31, 8]</text>\n",
       "<text text-anchor=\"middle\" x=\"3335.8496\" y=\"-6.8\" font-family=\"Helvetica,sans-Serif\" font-size=\"14.00\" fill=\"#000000\">class = &lt;=50K</text>\n",
       "</g>\n",
       "<!-- 50&#45;&gt;51 -->\n",
       "<g id=\"edge51\" class=\"edge\">\n",
       "<title>50&#45;&gt;51</title>\n",
       "<path fill=\"none\" stroke=\"#000000\" d=\"M3389.6814,-99.7647C3382.5713,-90.8144 3375.0048,-81.2894 3367.8601,-72.2955\"/>\n",
       "<polygon fill=\"#000000\" stroke=\"#000000\" points=\"3370.4032,-69.8699 3361.4425,-64.2169 3364.9221,-74.224 3370.4032,-69.8699\"/>\n",
       "</g>\n",
       "<!-- 52 -->\n",
       "<g id=\"node53\" class=\"node\">\n",
       "<title>52</title>\n",
       "<path fill=\"none\" stroke=\"#000000\" d=\"M3506.9766,-64C3506.9766,-64 3418.7226,-64 3418.7226,-64 3412.7226,-64 3406.7226,-58 3406.7226,-52 3406.7226,-52 3406.7226,-12 3406.7226,-12 3406.7226,-6 3412.7226,0 3418.7226,0 3418.7226,0 3506.9766,0 3506.9766,0 3512.9766,0 3518.9766,-6 3518.9766,-12 3518.9766,-12 3518.9766,-52 3518.9766,-52 3518.9766,-58 3512.9766,-64 3506.9766,-64\"/>\n",
       "<text text-anchor=\"middle\" x=\"3462.8496\" y=\"-48.8\" font-family=\"Helvetica,sans-Serif\" font-size=\"14.00\" fill=\"#000000\">gini = 0.493</text>\n",
       "<text text-anchor=\"middle\" x=\"3462.8496\" y=\"-34.8\" font-family=\"Helvetica,sans-Serif\" font-size=\"14.00\" fill=\"#000000\">samples = 34</text>\n",
       "<text text-anchor=\"middle\" x=\"3462.8496\" y=\"-20.8\" font-family=\"Helvetica,sans-Serif\" font-size=\"14.00\" fill=\"#000000\">value = [15, 19]</text>\n",
       "<text text-anchor=\"middle\" x=\"3462.8496\" y=\"-6.8\" font-family=\"Helvetica,sans-Serif\" font-size=\"14.00\" fill=\"#000000\">class = &lt;=50K</text>\n",
       "</g>\n",
       "<!-- 50&#45;&gt;52 -->\n",
       "<g id=\"edge52\" class=\"edge\">\n",
       "<title>50&#45;&gt;52</title>\n",
       "<path fill=\"none\" stroke=\"#000000\" d=\"M3436.2504,-99.7647C3439.5843,-91.271 3443.1214,-82.2599 3446.4907,-73.6762\"/>\n",
       "<polygon fill=\"#000000\" stroke=\"#000000\" points=\"3449.8078,-74.8043 3450.2037,-64.2169 3443.2918,-72.2466 3449.8078,-74.8043\"/>\n",
       "</g>\n",
       "<!-- 54 -->\n",
       "<g id=\"node55\" class=\"node\">\n",
       "<title>54</title>\n",
       "<path fill=\"none\" stroke=\"#000000\" d=\"M3652.5492,-64C3652.5492,-64 3549.15,-64 3549.15,-64 3543.15,-64 3537.15,-58 3537.15,-52 3537.15,-52 3537.15,-12 3537.15,-12 3537.15,-6 3543.15,0 3549.15,0 3549.15,0 3652.5492,0 3652.5492,0 3658.5492,0 3664.5492,-6 3664.5492,-12 3664.5492,-12 3664.5492,-52 3664.5492,-52 3664.5492,-58 3658.5492,-64 3652.5492,-64\"/>\n",
       "<text text-anchor=\"middle\" x=\"3600.8496\" y=\"-48.8\" font-family=\"Helvetica,sans-Serif\" font-size=\"14.00\" fill=\"#000000\">gini = 0.32</text>\n",
       "<text text-anchor=\"middle\" x=\"3600.8496\" y=\"-34.8\" font-family=\"Helvetica,sans-Serif\" font-size=\"14.00\" fill=\"#000000\">samples = 991</text>\n",
       "<text text-anchor=\"middle\" x=\"3600.8496\" y=\"-20.8\" font-family=\"Helvetica,sans-Serif\" font-size=\"14.00\" fill=\"#000000\">value = [198, 793]</text>\n",
       "<text text-anchor=\"middle\" x=\"3600.8496\" y=\"-6.8\" font-family=\"Helvetica,sans-Serif\" font-size=\"14.00\" fill=\"#000000\">class = &lt;=50K</text>\n",
       "</g>\n",
       "<!-- 53&#45;&gt;54 -->\n",
       "<g id=\"edge54\" class=\"edge\">\n",
       "<title>53&#45;&gt;54</title>\n",
       "<path fill=\"none\" stroke=\"#000000\" d=\"M3627.4488,-99.7647C3624.1149,-91.271 3620.5778,-82.2599 3617.2085,-73.6762\"/>\n",
       "<polygon fill=\"#000000\" stroke=\"#000000\" points=\"3620.4074,-72.2466 3613.4955,-64.2169 3613.8914,-74.8043 3620.4074,-72.2466\"/>\n",
       "</g>\n",
       "<!-- 55 -->\n",
       "<g id=\"node56\" class=\"node\">\n",
       "<title>55</title>\n",
       "<path fill=\"none\" stroke=\"#000000\" d=\"M3798.5492,-64C3798.5492,-64 3695.15,-64 3695.15,-64 3689.15,-64 3683.15,-58 3683.15,-52 3683.15,-52 3683.15,-12 3683.15,-12 3683.15,-6 3689.15,0 3695.15,0 3695.15,0 3798.5492,0 3798.5492,0 3804.5492,0 3810.5492,-6 3810.5492,-12 3810.5492,-12 3810.5492,-52 3810.5492,-52 3810.5492,-58 3804.5492,-64 3798.5492,-64\"/>\n",
       "<text text-anchor=\"middle\" x=\"3746.8496\" y=\"-48.8\" font-family=\"Helvetica,sans-Serif\" font-size=\"14.00\" fill=\"#000000\">gini = 0.469</text>\n",
       "<text text-anchor=\"middle\" x=\"3746.8496\" y=\"-34.8\" font-family=\"Helvetica,sans-Serif\" font-size=\"14.00\" fill=\"#000000\">samples = 280</text>\n",
       "<text text-anchor=\"middle\" x=\"3746.8496\" y=\"-20.8\" font-family=\"Helvetica,sans-Serif\" font-size=\"14.00\" fill=\"#000000\">value = [105, 175]</text>\n",
       "<text text-anchor=\"middle\" x=\"3746.8496\" y=\"-6.8\" font-family=\"Helvetica,sans-Serif\" font-size=\"14.00\" fill=\"#000000\">class = &lt;=50K</text>\n",
       "</g>\n",
       "<!-- 53&#45;&gt;55 -->\n",
       "<g id=\"edge55\" class=\"edge\">\n",
       "<title>53&#45;&gt;55</title>\n",
       "<path fill=\"none\" stroke=\"#000000\" d=\"M3680.9848,-99.7647C3689.9505,-90.5404 3699.5095,-80.7057 3708.4852,-71.4711\"/>\n",
       "<polygon fill=\"#000000\" stroke=\"#000000\" points=\"3711.076,-73.8272 3715.536,-64.2169 3706.0563,-68.9483 3711.076,-73.8272\"/>\n",
       "</g>\n",
       "<!-- 57 -->\n",
       "<g id=\"node58\" class=\"node\">\n",
       "<title>57</title>\n",
       "<path fill=\"none\" stroke=\"#000000\" d=\"M3967.9766,-178C3967.9766,-178 3879.7226,-178 3879.7226,-178 3873.7226,-178 3867.7226,-172 3867.7226,-166 3867.7226,-166 3867.7226,-112 3867.7226,-112 3867.7226,-106 3873.7226,-100 3879.7226,-100 3879.7226,-100 3967.9766,-100 3967.9766,-100 3973.9766,-100 3979.9766,-106 3979.9766,-112 3979.9766,-112 3979.9766,-166 3979.9766,-166 3979.9766,-172 3973.9766,-178 3967.9766,-178\"/>\n",
       "<text text-anchor=\"middle\" x=\"3923.8496\" y=\"-162.8\" font-family=\"Helvetica,sans-Serif\" font-size=\"14.00\" fill=\"#000000\">Age &lt;= 33.5</text>\n",
       "<text text-anchor=\"middle\" x=\"3923.8496\" y=\"-148.8\" font-family=\"Helvetica,sans-Serif\" font-size=\"14.00\" fill=\"#000000\">gini = 0.423</text>\n",
       "<text text-anchor=\"middle\" x=\"3923.8496\" y=\"-134.8\" font-family=\"Helvetica,sans-Serif\" font-size=\"14.00\" fill=\"#000000\">samples = 79</text>\n",
       "<text text-anchor=\"middle\" x=\"3923.8496\" y=\"-120.8\" font-family=\"Helvetica,sans-Serif\" font-size=\"14.00\" fill=\"#000000\">value = [55, 24]</text>\n",
       "<text text-anchor=\"middle\" x=\"3923.8496\" y=\"-106.8\" font-family=\"Helvetica,sans-Serif\" font-size=\"14.00\" fill=\"#000000\">class = &lt;=50K</text>\n",
       "</g>\n",
       "<!-- 56&#45;&gt;57 -->\n",
       "<g id=\"edge57\" class=\"edge\">\n",
       "<title>56&#45;&gt;57</title>\n",
       "<path fill=\"none\" stroke=\"#000000\" d=\"M3923.8496,-213.7677C3923.8496,-205.6172 3923.8496,-196.9283 3923.8496,-188.4649\"/>\n",
       "<polygon fill=\"#000000\" stroke=\"#000000\" points=\"3927.3497,-188.3046 3923.8496,-178.3046 3920.3497,-188.3047 3927.3497,-188.3046\"/>\n",
       "</g>\n",
       "<!-- 60 -->\n",
       "<g id=\"node61\" class=\"node\">\n",
       "<title>60</title>\n",
       "<path fill=\"none\" stroke=\"#000000\" d=\"M4253.2246,-178C4253.2246,-178 4050.4746,-178 4050.4746,-178 4044.4746,-178 4038.4746,-172 4038.4746,-166 4038.4746,-166 4038.4746,-112 4038.4746,-112 4038.4746,-106 4044.4746,-100 4050.4746,-100 4050.4746,-100 4253.2246,-100 4253.2246,-100 4259.2246,-100 4265.2246,-106 4265.2246,-112 4265.2246,-112 4265.2246,-166 4265.2246,-166 4265.2246,-172 4259.2246,-178 4253.2246,-178\"/>\n",
       "<text text-anchor=\"middle\" x=\"4151.8496\" y=\"-162.8\" font-family=\"Helvetica,sans-Serif\" font-size=\"14.00\" fill=\"#000000\">Race_Amer&#45;Indian&#45;Eskimo &lt;= 0.5</text>\n",
       "<text text-anchor=\"middle\" x=\"4151.8496\" y=\"-148.8\" font-family=\"Helvetica,sans-Serif\" font-size=\"14.00\" fill=\"#000000\">gini = 0.499</text>\n",
       "<text text-anchor=\"middle\" x=\"4151.8496\" y=\"-134.8\" font-family=\"Helvetica,sans-Serif\" font-size=\"14.00\" fill=\"#000000\">samples = 234</text>\n",
       "<text text-anchor=\"middle\" x=\"4151.8496\" y=\"-120.8\" font-family=\"Helvetica,sans-Serif\" font-size=\"14.00\" fill=\"#000000\">value = [112, 122]</text>\n",
       "<text text-anchor=\"middle\" x=\"4151.8496\" y=\"-106.8\" font-family=\"Helvetica,sans-Serif\" font-size=\"14.00\" fill=\"#000000\">class = &lt;=50K</text>\n",
       "</g>\n",
       "<!-- 56&#45;&gt;60 -->\n",
       "<g id=\"edge60\" class=\"edge\">\n",
       "<title>56&#45;&gt;60</title>\n",
       "<path fill=\"none\" stroke=\"#000000\" d=\"M3987.6635,-221.0931C4011.586,-209.1318 4039.1922,-195.3287 4064.8601,-182.4948\"/>\n",
       "<polygon fill=\"#000000\" stroke=\"#000000\" points=\"4066.47,-185.603 4073.849,-178.0003 4063.3395,-179.342 4066.47,-185.603\"/>\n",
       "</g>\n",
       "<!-- 58 -->\n",
       "<g id=\"node59\" class=\"node\">\n",
       "<title>58</title>\n",
       "<path fill=\"none\" stroke=\"#000000\" d=\"M3928.9766,-64C3928.9766,-64 3840.7226,-64 3840.7226,-64 3834.7226,-64 3828.7226,-58 3828.7226,-52 3828.7226,-52 3828.7226,-12 3828.7226,-12 3828.7226,-6 3834.7226,0 3840.7226,0 3840.7226,0 3928.9766,0 3928.9766,0 3934.9766,0 3940.9766,-6 3940.9766,-12 3940.9766,-12 3940.9766,-52 3940.9766,-52 3940.9766,-58 3934.9766,-64 3928.9766,-64\"/>\n",
       "<text text-anchor=\"middle\" x=\"3884.8496\" y=\"-48.8\" font-family=\"Helvetica,sans-Serif\" font-size=\"14.00\" fill=\"#000000\">gini = 0.38</text>\n",
       "<text text-anchor=\"middle\" x=\"3884.8496\" y=\"-34.8\" font-family=\"Helvetica,sans-Serif\" font-size=\"14.00\" fill=\"#000000\">samples = 47</text>\n",
       "<text text-anchor=\"middle\" x=\"3884.8496\" y=\"-20.8\" font-family=\"Helvetica,sans-Serif\" font-size=\"14.00\" fill=\"#000000\">value = [35, 12]</text>\n",
       "<text text-anchor=\"middle\" x=\"3884.8496\" y=\"-6.8\" font-family=\"Helvetica,sans-Serif\" font-size=\"14.00\" fill=\"#000000\">class = &lt;=50K</text>\n",
       "</g>\n",
       "<!-- 57&#45;&gt;58 -->\n",
       "<g id=\"edge58\" class=\"edge\">\n",
       "<title>57&#45;&gt;58</title>\n",
       "<path fill=\"none\" stroke=\"#000000\" d=\"M3909.5489,-99.7647C3906.4531,-91.271 3903.1686,-82.2599 3900.04,-73.6762\"/>\n",
       "<polygon fill=\"#000000\" stroke=\"#000000\" points=\"3903.3051,-72.4137 3896.5922,-64.2169 3896.7284,-74.8108 3903.3051,-72.4137\"/>\n",
       "</g>\n",
       "<!-- 59 -->\n",
       "<g id=\"node60\" class=\"node\">\n",
       "<title>59</title>\n",
       "<path fill=\"none\" stroke=\"#000000\" d=\"M4058.9766,-64C4058.9766,-64 3970.7226,-64 3970.7226,-64 3964.7226,-64 3958.7226,-58 3958.7226,-52 3958.7226,-52 3958.7226,-12 3958.7226,-12 3958.7226,-6 3964.7226,0 3970.7226,0 3970.7226,0 4058.9766,0 4058.9766,0 4064.9766,0 4070.9766,-6 4070.9766,-12 4070.9766,-12 4070.9766,-52 4070.9766,-52 4070.9766,-58 4064.9766,-64 4058.9766,-64\"/>\n",
       "<text text-anchor=\"middle\" x=\"4014.8496\" y=\"-48.8\" font-family=\"Helvetica,sans-Serif\" font-size=\"14.00\" fill=\"#000000\">gini = 0.469</text>\n",
       "<text text-anchor=\"middle\" x=\"4014.8496\" y=\"-34.8\" font-family=\"Helvetica,sans-Serif\" font-size=\"14.00\" fill=\"#000000\">samples = 32</text>\n",
       "<text text-anchor=\"middle\" x=\"4014.8496\" y=\"-20.8\" font-family=\"Helvetica,sans-Serif\" font-size=\"14.00\" fill=\"#000000\">value = [20, 12]</text>\n",
       "<text text-anchor=\"middle\" x=\"4014.8496\" y=\"-6.8\" font-family=\"Helvetica,sans-Serif\" font-size=\"14.00\" fill=\"#000000\">class = &lt;=50K</text>\n",
       "</g>\n",
       "<!-- 57&#45;&gt;59 -->\n",
       "<g id=\"edge59\" class=\"edge\">\n",
       "<title>57&#45;&gt;59</title>\n",
       "<path fill=\"none\" stroke=\"#000000\" d=\"M3957.2179,-99.7647C3964.9076,-90.7231 3973.0959,-81.095 3980.8136,-72.0204\"/>\n",
       "<polygon fill=\"#000000\" stroke=\"#000000\" points=\"3983.6378,-74.102 3987.4502,-64.2169 3978.3054,-69.567 3983.6378,-74.102\"/>\n",
       "</g>\n",
       "<!-- 61 -->\n",
       "<g id=\"node62\" class=\"node\">\n",
       "<title>61</title>\n",
       "<path fill=\"none\" stroke=\"#000000\" d=\"M4203.017,-64C4203.017,-64 4100.6822,-64 4100.6822,-64 4094.6822,-64 4088.6822,-58 4088.6822,-52 4088.6822,-52 4088.6822,-12 4088.6822,-12 4088.6822,-6 4094.6822,0 4100.6822,0 4100.6822,0 4203.017,0 4203.017,0 4209.017,0 4215.017,-6 4215.017,-12 4215.017,-12 4215.017,-52 4215.017,-52 4215.017,-58 4209.017,-64 4203.017,-64\"/>\n",
       "<text text-anchor=\"middle\" x=\"4151.8496\" y=\"-48.8\" font-family=\"Helvetica,sans-Serif\" font-size=\"14.00\" fill=\"#000000\">gini = 0.499</text>\n",
       "<text text-anchor=\"middle\" x=\"4151.8496\" y=\"-34.8\" font-family=\"Helvetica,sans-Serif\" font-size=\"14.00\" fill=\"#000000\">samples = 232</text>\n",
       "<text text-anchor=\"middle\" x=\"4151.8496\" y=\"-20.8\" font-family=\"Helvetica,sans-Serif\" font-size=\"14.00\" fill=\"#000000\">value = [110, 122]</text>\n",
       "<text text-anchor=\"middle\" x=\"4151.8496\" y=\"-6.8\" font-family=\"Helvetica,sans-Serif\" font-size=\"14.00\" fill=\"#000000\">class = &lt;=50K</text>\n",
       "</g>\n",
       "<!-- 60&#45;&gt;61 -->\n",
       "<g id=\"edge61\" class=\"edge\">\n",
       "<title>60&#45;&gt;61</title>\n",
       "<path fill=\"none\" stroke=\"#000000\" d=\"M4151.8496,-99.7647C4151.8496,-91.4537 4151.8496,-82.6472 4151.8496,-74.2305\"/>\n",
       "<polygon fill=\"#000000\" stroke=\"#000000\" points=\"4155.3497,-74.2168 4151.8496,-64.2169 4148.3497,-74.2169 4155.3497,-74.2168\"/>\n",
       "</g>\n",
       "<!-- 62 -->\n",
       "<g id=\"node63\" class=\"node\">\n",
       "<title>62</title>\n",
       "<path fill=\"none\" stroke=\"#000000\" d=\"M4326.463,-64C4326.463,-64 4245.2363,-64 4245.2363,-64 4239.2363,-64 4233.2363,-58 4233.2363,-52 4233.2363,-52 4233.2363,-12 4233.2363,-12 4233.2363,-6 4239.2363,0 4245.2363,0 4245.2363,0 4326.463,0 4326.463,0 4332.463,0 4338.463,-6 4338.463,-12 4338.463,-12 4338.463,-52 4338.463,-52 4338.463,-58 4332.463,-64 4326.463,-64\"/>\n",
       "<text text-anchor=\"middle\" x=\"4285.8496\" y=\"-48.8\" font-family=\"Helvetica,sans-Serif\" font-size=\"14.00\" fill=\"#000000\">gini = 0.0</text>\n",
       "<text text-anchor=\"middle\" x=\"4285.8496\" y=\"-34.8\" font-family=\"Helvetica,sans-Serif\" font-size=\"14.00\" fill=\"#000000\">samples = 2</text>\n",
       "<text text-anchor=\"middle\" x=\"4285.8496\" y=\"-20.8\" font-family=\"Helvetica,sans-Serif\" font-size=\"14.00\" fill=\"#000000\">value = [2, 0]</text>\n",
       "<text text-anchor=\"middle\" x=\"4285.8496\" y=\"-6.8\" font-family=\"Helvetica,sans-Serif\" font-size=\"14.00\" fill=\"#000000\">class = &lt;=50K</text>\n",
       "</g>\n",
       "<!-- 60&#45;&gt;62 -->\n",
       "<g id=\"edge62\" class=\"edge\">\n",
       "<title>60&#45;&gt;62</title>\n",
       "<path fill=\"none\" stroke=\"#000000\" d=\"M4200.9854,-99.7647C4212.8805,-90.2664 4225.586,-80.121 4237.447,-70.6498\"/>\n",
       "<polygon fill=\"#000000\" stroke=\"#000000\" points=\"4239.8728,-73.1918 4245.5032,-64.2169 4235.5049,-67.7217 4239.8728,-73.1918\"/>\n",
       "</g>\n",
       "</g>\n",
       "</svg>\n"
      ],
      "text/plain": [
       "<graphviz.files.Source at 0x1a2d99fb70>"
      ]
     },
     "execution_count": 52,
     "metadata": {},
     "output_type": "execute_result"
    }
   ],
   "source": [
    "from sklearn.tree import DecisionTreeClassifier\n",
    "tree_clf = DecisionTreeClassifier(criterion=\"gini\",max_depth=5)\n",
    "tree = tree_clf.fit(data_train, target_train)\n",
    "\n",
    "# Optional--uncomment this code to visualize the Decision Tree\n",
    "export_graphviz(tree, out_file=\"mytree.dot\", feature_names=data_train.columns , class_names=list(target_train), rounded=True)\n",
    "with open(\"mytree.dot\") as f:\n",
    "    dot_graph = f.read()\n",
    "graphviz.Source(dot_graph)"
   ]
  },
  {
   "cell_type": "markdown",
   "metadata": {},
   "source": [
    "### 2.1 Feature importance\n",
    "\n",
    "Let's quickly examine how important each feature ended up being in our Decision Tree model.  Check the `feature_importances_` attribute of our trained model to see what it displays. "
   ]
  },
  {
   "cell_type": "code",
   "execution_count": 53,
   "metadata": {},
   "outputs": [
    {
     "data": {
      "text/plain": [
       "array([7.32384576e-02, 0.00000000e+00, 0.00000000e+00, 0.00000000e+00,\n",
       "       0.00000000e+00, 0.00000000e+00, 0.00000000e+00, 0.00000000e+00,\n",
       "       0.00000000e+00, 0.00000000e+00, 3.89373757e-02, 1.33322711e-02,\n",
       "       1.53543772e-02, 0.00000000e+00, 0.00000000e+00, 1.93861520e-02,\n",
       "       4.66632036e-03, 0.00000000e+00, 0.00000000e+00, 0.00000000e+00,\n",
       "       0.00000000e+00, 9.15655689e-02, 0.00000000e+00, 0.00000000e+00,\n",
       "       0.00000000e+00, 0.00000000e+00, 0.00000000e+00, 1.25956091e-01,\n",
       "       0.00000000e+00, 0.00000000e+00, 0.00000000e+00, 0.00000000e+00,\n",
       "       4.86347718e-01, 0.00000000e+00, 0.00000000e+00, 0.00000000e+00,\n",
       "       0.00000000e+00, 1.28201489e-01, 3.81818549e-04, 3.31582738e-04,\n",
       "       0.00000000e+00, 0.00000000e+00, 0.00000000e+00, 2.30077754e-03,\n",
       "       0.00000000e+00])"
      ]
     },
     "execution_count": 53,
     "metadata": {},
     "output_type": "execute_result"
    }
   ],
   "source": [
    "tree.feature_importances_"
   ]
  },
  {
   "cell_type": "markdown",
   "metadata": {},
   "source": [
    "That matrix isn't very helpful, but a visualization of the data it contains could be.  Run the cell below to plot a visualization of the feature importances for this model. "
   ]
  },
  {
   "cell_type": "code",
   "execution_count": 54,
   "metadata": {},
   "outputs": [
    {
     "data": {
      "image/png": "[encoded data removed]",
      "text/plain": [
       "<Figure size 576x576 with 1 Axes>"
      ]
     },
     "metadata": {},
     "output_type": "display_data"
    }
   ],
   "source": [
    "def plot_feature_importances(model):\n",
    "    n_features = data_train.shape[1]\n",
    "    plt.figure(figsize=(8,8))\n",
    "    plt.barh(range(n_features), model.feature_importances_, align='center') \n",
    "    plt.yticks(np.arange(n_features), data_train.columns.values) \n",
    "    plt.xlabel(\"Feature importance\")\n",
    "    plt.ylabel(\"Feature\")\n",
    "\n",
    "plot_feature_importances(tree_clf)"
   ]
  },
  {
   "cell_type": "markdown",
   "metadata": {},
   "source": [
    "### 2.3 Model performance\n",
    "\n",
    "As we did in the last lab, let's see how well our model performed on the data. "
   ]
  },
  {
   "cell_type": "code",
   "execution_count": 55,
   "metadata": {},
   "outputs": [],
   "source": [
    "from sklearn.metrics import accuracy_score"
   ]
  },
  {
   "cell_type": "code",
   "execution_count": 56,
   "metadata": {},
   "outputs": [],
   "source": [
    "# logreg.fit(X_train, y_train).decision_function(X_test)"
   ]
  },
  {
   "cell_type": "code",
   "execution_count": 57,
   "metadata": {},
   "outputs": [
    {
     "name": "stdout",
     "output_type": "stream",
     "text": [
      "[[5770  410]\n",
      " [1018  943]]\n",
      "             precision    recall  f1-score   support\n",
      "\n",
      "      <=50K       0.85      0.93      0.89      6180\n",
      "       >50K       0.70      0.48      0.57      1961\n",
      "\n",
      "avg / total       0.81      0.82      0.81      8141\n",
      "\n"
     ]
    }
   ],
   "source": [
    "pred = tree_clf.predict(data_test)\n",
    "print(metrics.confusion_matrix(target_test, pred))\n",
    "print(metrics.classification_report(target_test, pred))"
   ]
  },
  {
   "cell_type": "code",
   "execution_count": 58,
   "metadata": {},
   "outputs": [
    {
     "name": "stdout",
     "output_type": "stream",
     "text": [
      "Testing Accuracy for Decision Tree Classifier: 82.46%\n"
     ]
    }
   ],
   "source": [
    "print(\"Testing Accuracy for Decision Tree Classifier: {:.4}%\".format(accuracy_score(target_test, pred) * 100))"
   ]
  },
  {
   "cell_type": "markdown",
   "metadata": {},
   "source": [
    "## 3. Bagged trees\n",
    "\n",
    "The first Ensemble approach we'll try is a Bag of Trees.  This will make use of **_Bagging_**, along with a number of Decision Tree Classifier models.  \n",
    "\n",
    "In the cell below, import `BaggingClassifier`, which can be found inside of sklearn's `ensemble` module. "
   ]
  },
  {
   "cell_type": "code",
   "execution_count": 59,
   "metadata": {},
   "outputs": [],
   "source": [
    "from sklearn.ensemble import BaggingClassifier"
   ]
  },
  {
   "cell_type": "markdown",
   "metadata": {},
   "source": [
    "Now, create a `BaggingClassifier`.  In the first parameter spot, create a `DecisionTreeClassifier` and set the same parameters that we did above for `criterion` and `max_depth`.  Also set the `n_estimators` parameter for our Bagging Classifier to `20`. "
   ]
  },
  {
   "cell_type": "code",
   "execution_count": 60,
   "metadata": {},
   "outputs": [],
   "source": [
    "bagged_tree = BaggingClassifier(DecisionTreeClassifier(criterion = 'gini', max_depth = 5), n_estimators=20)"
   ]
  },
  {
   "cell_type": "markdown",
   "metadata": {},
   "source": [
    "Great! Now, fit it to our training data. "
   ]
  },
  {
   "cell_type": "code",
   "execution_count": 61,
   "metadata": {},
   "outputs": [
    {
     "data": {
      "text/plain": [
       "BaggingClassifier(base_estimator=DecisionTreeClassifier(class_weight=None, criterion='gini', max_depth=5,\n",
       "            max_features=None, max_leaf_nodes=None,\n",
       "            min_impurity_decrease=0.0, min_impurity_split=None,\n",
       "            min_samples_leaf=1, min_samples_split=2,\n",
       "            min_weight_fraction_leaf=0.0, presort=False, random_state=None,\n",
       "            splitter='best'),\n",
       "         bootstrap=True, bootstrap_features=False, max_features=1.0,\n",
       "         max_samples=1.0, n_estimators=20, n_jobs=1, oob_score=False,\n",
       "         random_state=None, verbose=0, warm_start=False)"
      ]
     },
     "execution_count": 61,
     "metadata": {},
     "output_type": "execute_result"
    }
   ],
   "source": [
    "bagged_tree.fit(data_train, target_train)"
   ]
  },
  {
   "cell_type": "markdown",
   "metadata": {},
   "source": [
    "Checking the accuracy of a model is such a common task that all (supervised learning) models contain a `score()` method that wraps the `accuracy_score` helper method we've been using.  All we have to do is pass it a dataset and the corresponding labels and it will return the accuracy score for those data/labels.  \n",
    "\n",
    "Let's use it to get the training accuracy of our model. In the cell below, call the `.score()` method on our Bagging model and pass in our training data and training labels as parameters. "
   ]
  },
  {
   "cell_type": "code",
   "execution_count": 62,
   "metadata": {},
   "outputs": [
    {
     "data": {
      "text/plain": [
       "0.8266175266175266"
      ]
     },
     "execution_count": 62,
     "metadata": {},
     "output_type": "execute_result"
    }
   ],
   "source": [
    "bagged_tree.score(data_train, target_train)"
   ]
  },
  {
   "cell_type": "markdown",
   "metadata": {},
   "source": [
    "Now, let's check the accuracy score that really matters--our testing accuracy.  This time, pass in our testing data and labels to see how the model did.  "
   ]
  },
  {
   "cell_type": "code",
   "execution_count": 63,
   "metadata": {},
   "outputs": [
    {
     "data": {
      "text/plain": [
       "0.8247144085493182"
      ]
     },
     "execution_count": 63,
     "metadata": {},
     "output_type": "execute_result"
    }
   ],
   "source": [
    "bagged_tree.score(data_test, target_test)"
   ]
  },
  {
   "cell_type": "markdown",
   "metadata": {},
   "source": [
    "## 4. Random forests\n",
    "\n",
    "Another popular ensemble method is the **_Random Forest_** model.  Let's fit a Random Forest Classifier next and see how it measures up compared to all the others. "
   ]
  },
  {
   "cell_type": "markdown",
   "metadata": {},
   "source": [
    "### 4.1 Fitting a random forests model\n",
    "\n",
    "In the cell below, import the `RandomForestClassifier` from sklearn's `ensemble` module. "
   ]
  },
  {
   "cell_type": "code",
   "execution_count": 64,
   "metadata": {},
   "outputs": [],
   "source": [
    "from sklearn.ensemble import RandomForestClassifier"
   ]
  },
  {
   "cell_type": "markdown",
   "metadata": {},
   "source": [
    "In the cell below, create a `RandomForestClassifier`, and set the number estimators to `100` and the max depth to `5`. Then, fit the model to our training data. "
   ]
  },
  {
   "cell_type": "code",
   "execution_count": 65,
   "metadata": {},
   "outputs": [
    {
     "data": {
      "text/plain": [
       "RandomForestClassifier(bootstrap=True, class_weight=None, criterion='gini',\n",
       "            max_depth=100, max_features='auto', max_leaf_nodes=None,\n",
       "            min_impurity_decrease=0.0, min_impurity_split=None,\n",
       "            min_samples_leaf=1, min_samples_split=2,\n",
       "            min_weight_fraction_leaf=0.0, n_estimators=100, n_jobs=1,\n",
       "            oob_score=False, random_state=None, verbose=0,\n",
       "            warm_start=False)"
      ]
     },
     "execution_count": 65,
     "metadata": {},
     "output_type": "execute_result"
    }
   ],
   "source": [
    "forest = RandomForestClassifier(n_estimators= 100, max_depth=100)\n",
    "forest.fit(data_train, target_train)"
   ]
  },
  {
   "cell_type": "markdown",
   "metadata": {},
   "source": [
    "Now, let's check the training and testing accuracy of the model using its `.score()` method."
   ]
  },
  {
   "cell_type": "code",
   "execution_count": 67,
   "metadata": {},
   "outputs": [
    {
     "data": {
      "text/plain": [
       "0.9047502047502047"
      ]
     },
     "execution_count": 67,
     "metadata": {},
     "output_type": "execute_result"
    }
   ],
   "source": [
    "forest.score(data_train,target_train)"
   ]
  },
  {
   "cell_type": "code",
   "execution_count": 68,
   "metadata": {},
   "outputs": [
    {
     "data": {
      "text/plain": [
       "0.8017442574622282"
      ]
     },
     "execution_count": 68,
     "metadata": {},
     "output_type": "execute_result"
    }
   ],
   "source": [
    "forest.score(data_test,target_test)"
   ]
  },
  {
   "cell_type": "markdown",
   "metadata": {},
   "source": [
    "### 4.2 Look at the feature importances"
   ]
  },
  {
   "cell_type": "code",
   "execution_count": 69,
   "metadata": {},
   "outputs": [
    {
     "data": {
      "image/png": "[encoded data removed]",
      "text/plain": [
       "<Figure size 576x576 with 1 Axes>"
      ]
     },
     "metadata": {},
     "output_type": "display_data"
    }
   ],
   "source": [
    "plot_feature_importances(forest)"
   ]
  },
  {
   "cell_type": "markdown",
   "metadata": {},
   "source": [
    "Note: \"relationship\" represents what this individual is relative to others. For example an\n",
    "individual could be a Husband. Each entry only has one relationship, so it is a bit of a weird attribute.\n",
    "\n",
    "Also note that more features show up. This is a pretty typical result. "
   ]
  },
  {
   "cell_type": "markdown",
   "metadata": {},
   "source": [
    "### 4.3 Look at the trees in your forest"
   ]
  },
  {
   "cell_type": "markdown",
   "metadata": {},
   "source": [
    "Let's create a forest with some small trees. You'll learn how to access trees in your forest!\n",
    "\n",
    "In the cell below, create another `RandomForestClassifier`.  Set the number of estimators to 5, the `max_features` to 10, and the `max_depth` to 2."
   ]
  },
  {
   "cell_type": "code",
   "execution_count": 72,
   "metadata": {},
   "outputs": [
    {
     "data": {
      "text/plain": [
       "RandomForestClassifier(bootstrap=True, class_weight=None, criterion='gini',\n",
       "            max_depth=2, max_features=10, max_leaf_nodes=None,\n",
       "            min_impurity_decrease=0.0, min_impurity_split=None,\n",
       "            min_samples_leaf=1, min_samples_split=2,\n",
       "            min_weight_fraction_leaf=0.0, n_estimators=5, n_jobs=1,\n",
       "            oob_score=False, random_state=None, verbose=0,\n",
       "            warm_start=False)"
      ]
     },
     "execution_count": 72,
     "metadata": {},
     "output_type": "execute_result"
    }
   ],
   "source": [
    "forest_2 = RandomForestClassifier(max_features=10, max_depth=2, n_estimators=5)\n",
    "forest_2.fit(data_train,target_train)"
   ]
  },
  {
   "cell_type": "markdown",
   "metadata": {},
   "source": [
    "Making `max_features` smaller will lead to very different trees in your forest!"
   ]
  },
  {
   "cell_type": "markdown",
   "metadata": {},
   "source": [
    "The trees in your forest are stored in the `.estimators_` attribute.\n",
    "\n",
    "Run the cells below to examine 2 different trees from our new Random Forest Classifier.  "
   ]
  },
  {
   "cell_type": "code",
   "execution_count": 74,
   "metadata": {},
   "outputs": [
    {
     "data": {
      "text/plain": [
       "DecisionTreeClassifier(class_weight=None, criterion='gini', max_depth=2,\n",
       "            max_features=10, max_leaf_nodes=None,\n",
       "            min_impurity_decrease=0.0, min_impurity_split=None,\n",
       "            min_samples_leaf=1, min_samples_split=2,\n",
       "            min_weight_fraction_leaf=0.0, presort=False,\n",
       "            random_state=108409639, splitter='best')"
      ]
     },
     "execution_count": 74,
     "metadata": {},
     "output_type": "execute_result"
    }
   ],
   "source": [
    "forest_2.estimators_[0]"
   ]
  },
  {
   "cell_type": "code",
   "execution_count": 75,
   "metadata": {},
   "outputs": [],
   "source": [
    "tree_1 = forest_2.estimators_[0]"
   ]
  },
  {
   "cell_type": "markdown",
   "metadata": {},
   "source": [
    "As an optional step, uncomment the cells below to visualize the two trees from our Random Forest. "
   ]
  },
  {
   "cell_type": "code",
   "execution_count": 76,
   "metadata": {},
   "outputs": [
    {
     "data": {
      "image/svg+xml": [
       "<?xml version=\"1.0\" encoding=\"UTF-8\" standalone=\"no\"?>\n",
       "<!DOCTYPE svg PUBLIC \"-//W3C//DTD SVG 1.1//EN\"\n",
       " \"http://www.w3.org/Graphics/SVG/1.1/DTD/svg11.dtd\">\n",
       "<!-- Generated by graphviz version 2.40.1 (20161225.0304)\n",
       " -->\n",
       "<!-- Title: Tree Pages: 1 -->\n",
       "<svg width=\"645pt\" height=\"300pt\"\n",
       " viewBox=\"0.00 0.00 645.16 300.00\" xmlns=\"http://www.w3.org/2000/svg\" xmlns:xlink=\"http://www.w3.org/1999/xlink\">\n",
       "<g id=\"graph0\" class=\"graph\" transform=\"scale(1 1) rotate(0) translate(4 296)\">\n",
       "<title>Tree</title>\n",
       "<polygon fill=\"#ffffff\" stroke=\"transparent\" points=\"-4,4 -4,-296 641.1646,-296 641.1646,4 -4,4\"/>\n",
       "<!-- 0 -->\n",
       "<g id=\"node1\" class=\"node\">\n",
       "<title>0</title>\n",
       "<path fill=\"none\" stroke=\"#000000\" d=\"M437.276,-292C437.276,-292 217.7816,-292 217.7816,-292 211.7816,-292 205.7816,-286 205.7816,-280 205.7816,-280 205.7816,-226 205.7816,-226 205.7816,-220 211.7816,-214 217.7816,-214 217.7816,-214 437.276,-214 437.276,-214 443.276,-214 449.276,-220 449.276,-226 449.276,-226 449.276,-280 449.276,-280 449.276,-286 443.276,-292 437.276,-292\"/>\n",
       "<text text-anchor=\"middle\" x=\"327.5288\" y=\"-276.8\" font-family=\"Helvetica,sans-Serif\" font-size=\"14.00\" fill=\"#000000\">Occupation_Exec&#45;managerial &lt;= 0.5</text>\n",
       "<text text-anchor=\"middle\" x=\"327.5288\" y=\"-262.8\" font-family=\"Helvetica,sans-Serif\" font-size=\"14.00\" fill=\"#000000\">gini = 0.364</text>\n",
       "<text text-anchor=\"middle\" x=\"327.5288\" y=\"-248.8\" font-family=\"Helvetica,sans-Serif\" font-size=\"14.00\" fill=\"#000000\">samples = 15483</text>\n",
       "<text text-anchor=\"middle\" x=\"327.5288\" y=\"-234.8\" font-family=\"Helvetica,sans-Serif\" font-size=\"14.00\" fill=\"#000000\">value = [18585, 5835]</text>\n",
       "<text text-anchor=\"middle\" x=\"327.5288\" y=\"-220.8\" font-family=\"Helvetica,sans-Serif\" font-size=\"14.00\" fill=\"#000000\">class = &lt;=50K</text>\n",
       "</g>\n",
       "<!-- 1 -->\n",
       "<g id=\"node2\" class=\"node\">\n",
       "<title>1</title>\n",
       "<path fill=\"none\" stroke=\"#000000\" d=\"M327.0347,-178C327.0347,-178 128.0229,-178 128.0229,-178 122.0229,-178 116.0229,-172 116.0229,-166 116.0229,-166 116.0229,-112 116.0229,-112 116.0229,-106 122.0229,-100 128.0229,-100 128.0229,-100 327.0347,-100 327.0347,-100 333.0347,-100 339.0347,-106 339.0347,-112 339.0347,-112 339.0347,-166 339.0347,-166 339.0347,-172 333.0347,-178 327.0347,-178\"/>\n",
       "<text text-anchor=\"middle\" x=\"227.5288\" y=\"-162.8\" font-family=\"Helvetica,sans-Serif\" font-size=\"14.00\" fill=\"#000000\">Occupation_Prof&#45;specialty &lt;= 0.5</text>\n",
       "<text text-anchor=\"middle\" x=\"227.5288\" y=\"-148.8\" font-family=\"Helvetica,sans-Serif\" font-size=\"14.00\" fill=\"#000000\">gini = 0.324</text>\n",
       "<text text-anchor=\"middle\" x=\"227.5288\" y=\"-134.8\" font-family=\"Helvetica,sans-Serif\" font-size=\"14.00\" fill=\"#000000\">samples = 13530</text>\n",
       "<text text-anchor=\"middle\" x=\"227.5288\" y=\"-120.8\" font-family=\"Helvetica,sans-Serif\" font-size=\"14.00\" fill=\"#000000\">value = [16990, 4340]</text>\n",
       "<text text-anchor=\"middle\" x=\"227.5288\" y=\"-106.8\" font-family=\"Helvetica,sans-Serif\" font-size=\"14.00\" fill=\"#000000\">class = &lt;=50K</text>\n",
       "</g>\n",
       "<!-- 0&#45;&gt;1 -->\n",
       "<g id=\"edge1\" class=\"edge\">\n",
       "<title>0&#45;&gt;1</title>\n",
       "<path fill=\"none\" stroke=\"#000000\" d=\"M293.1145,-213.7677C285.2579,-204.8111 276.8308,-195.2043 268.7228,-185.9611\"/>\n",
       "<polygon fill=\"#000000\" stroke=\"#000000\" points=\"271.2321,-183.5142 262.0066,-178.3046 265.9698,-188.1303 271.2321,-183.5142\"/>\n",
       "<text text-anchor=\"middle\" x=\"260.3745\" y=\"-199.0513\" font-family=\"Helvetica,sans-Serif\" font-size=\"14.00\" fill=\"#000000\">True</text>\n",
       "</g>\n",
       "<!-- 4 -->\n",
       "<g id=\"node5\" class=\"node\">\n",
       "<title>4</title>\n",
       "<path fill=\"none\" stroke=\"#000000\" d=\"M488.3006,-178C488.3006,-178 368.7571,-178 368.7571,-178 362.7571,-178 356.7571,-172 356.7571,-166 356.7571,-166 356.7571,-112 356.7571,-112 356.7571,-106 362.7571,-100 368.7571,-100 368.7571,-100 488.3006,-100 488.3006,-100 494.3006,-100 500.3006,-106 500.3006,-112 500.3006,-112 500.3006,-166 500.3006,-166 500.3006,-172 494.3006,-178 488.3006,-178\"/>\n",
       "<text text-anchor=\"middle\" x=\"428.5288\" y=\"-162.8\" font-family=\"Helvetica,sans-Serif\" font-size=\"14.00\" fill=\"#000000\">Age &lt;= 29.5</text>\n",
       "<text text-anchor=\"middle\" x=\"428.5288\" y=\"-148.8\" font-family=\"Helvetica,sans-Serif\" font-size=\"14.00\" fill=\"#000000\">gini = 0.499</text>\n",
       "<text text-anchor=\"middle\" x=\"428.5288\" y=\"-134.8\" font-family=\"Helvetica,sans-Serif\" font-size=\"14.00\" fill=\"#000000\">samples = 1953</text>\n",
       "<text text-anchor=\"middle\" x=\"428.5288\" y=\"-120.8\" font-family=\"Helvetica,sans-Serif\" font-size=\"14.00\" fill=\"#000000\">value = [1595, 1495]</text>\n",
       "<text text-anchor=\"middle\" x=\"428.5288\" y=\"-106.8\" font-family=\"Helvetica,sans-Serif\" font-size=\"14.00\" fill=\"#000000\">class = &lt;=50K</text>\n",
       "</g>\n",
       "<!-- 0&#45;&gt;4 -->\n",
       "<g id=\"edge4\" class=\"edge\">\n",
       "<title>0&#45;&gt;4</title>\n",
       "<path fill=\"none\" stroke=\"#000000\" d=\"M362.2873,-213.7677C370.2225,-204.8111 378.7338,-195.2043 386.9229,-185.9611\"/>\n",
       "<polygon fill=\"#000000\" stroke=\"#000000\" points=\"389.6946,-188.1106 393.7063,-178.3046 384.4551,-183.4686 389.6946,-188.1106\"/>\n",
       "<text text-anchor=\"middle\" x=\"395.2151\" y=\"-199.0591\" font-family=\"Helvetica,sans-Serif\" font-size=\"14.00\" fill=\"#000000\">False</text>\n",
       "</g>\n",
       "<!-- 2 -->\n",
       "<g id=\"node3\" class=\"node\">\n",
       "<title>2</title>\n",
       "<path fill=\"none\" stroke=\"#000000\" d=\"M139.0864,-64C139.0864,-64 11.9712,-64 11.9712,-64 5.9712,-64 -.0288,-58 -.0288,-52 -.0288,-52 -.0288,-12 -.0288,-12 -.0288,-6 5.9712,0 11.9712,0 11.9712,0 139.0864,0 139.0864,0 145.0864,0 151.0864,-6 151.0864,-12 151.0864,-12 151.0864,-52 151.0864,-52 151.0864,-58 145.0864,-64 139.0864,-64\"/>\n",
       "<text text-anchor=\"middle\" x=\"75.5288\" y=\"-48.8\" font-family=\"Helvetica,sans-Serif\" font-size=\"14.00\" fill=\"#000000\">gini = 0.27</text>\n",
       "<text text-anchor=\"middle\" x=\"75.5288\" y=\"-34.8\" font-family=\"Helvetica,sans-Serif\" font-size=\"14.00\" fill=\"#000000\">samples = 11551</text>\n",
       "<text text-anchor=\"middle\" x=\"75.5288\" y=\"-20.8\" font-family=\"Helvetica,sans-Serif\" font-size=\"14.00\" fill=\"#000000\">value = [15284, 2924]</text>\n",
       "<text text-anchor=\"middle\" x=\"75.5288\" y=\"-6.8\" font-family=\"Helvetica,sans-Serif\" font-size=\"14.00\" fill=\"#000000\">class = &lt;=50K</text>\n",
       "</g>\n",
       "<!-- 1&#45;&gt;2 -->\n",
       "<g id=\"edge2\" class=\"edge\">\n",
       "<title>1&#45;&gt;2</title>\n",
       "<path fill=\"none\" stroke=\"#000000\" d=\"M171.7927,-99.7647C158.0403,-90.0838 143.3329,-79.7305 129.6581,-70.1042\"/>\n",
       "<polygon fill=\"#000000\" stroke=\"#000000\" points=\"131.4867,-67.1112 121.2948,-64.2169 127.4573,-72.8352 131.4867,-67.1112\"/>\n",
       "</g>\n",
       "<!-- 3 -->\n",
       "<g id=\"node4\" class=\"node\">\n",
       "<title>3</title>\n",
       "<path fill=\"none\" stroke=\"#000000\" d=\"M300.3006,-64C300.3006,-64 180.7571,-64 180.7571,-64 174.7571,-64 168.7571,-58 168.7571,-52 168.7571,-52 168.7571,-12 168.7571,-12 168.7571,-6 174.7571,0 180.7571,0 180.7571,0 300.3006,0 300.3006,0 306.3006,0 312.3006,-6 312.3006,-12 312.3006,-12 312.3006,-52 312.3006,-52 312.3006,-58 306.3006,-64 300.3006,-64\"/>\n",
       "<text text-anchor=\"middle\" x=\"240.5288\" y=\"-48.8\" font-family=\"Helvetica,sans-Serif\" font-size=\"14.00\" fill=\"#000000\">gini = 0.496</text>\n",
       "<text text-anchor=\"middle\" x=\"240.5288\" y=\"-34.8\" font-family=\"Helvetica,sans-Serif\" font-size=\"14.00\" fill=\"#000000\">samples = 1979</text>\n",
       "<text text-anchor=\"middle\" x=\"240.5288\" y=\"-20.8\" font-family=\"Helvetica,sans-Serif\" font-size=\"14.00\" fill=\"#000000\">value = [1706, 1416]</text>\n",
       "<text text-anchor=\"middle\" x=\"240.5288\" y=\"-6.8\" font-family=\"Helvetica,sans-Serif\" font-size=\"14.00\" fill=\"#000000\">class = &lt;=50K</text>\n",
       "</g>\n",
       "<!-- 1&#45;&gt;3 -->\n",
       "<g id=\"edge3\" class=\"edge\">\n",
       "<title>1&#45;&gt;3</title>\n",
       "<path fill=\"none\" stroke=\"#000000\" d=\"M232.2957,-99.7647C233.3055,-91.4537 234.3754,-82.6472 235.398,-74.2305\"/>\n",
       "<polygon fill=\"#000000\" stroke=\"#000000\" points=\"238.8829,-74.566 236.6146,-64.2169 231.934,-73.7217 238.8829,-74.566\"/>\n",
       "</g>\n",
       "<!-- 5 -->\n",
       "<g id=\"node6\" class=\"node\">\n",
       "<title>5</title>\n",
       "<path fill=\"none\" stroke=\"#000000\" d=\"M463.4419,-64C463.4419,-64 367.6157,-64 367.6157,-64 361.6157,-64 355.6157,-58 355.6157,-52 355.6157,-52 355.6157,-12 355.6157,-12 355.6157,-6 361.6157,0 367.6157,0 367.6157,0 463.4419,0 463.4419,0 469.4419,0 475.4419,-6 475.4419,-12 475.4419,-12 475.4419,-52 475.4419,-52 475.4419,-58 469.4419,-64 463.4419,-64\"/>\n",
       "<text text-anchor=\"middle\" x=\"415.5288\" y=\"-48.8\" font-family=\"Helvetica,sans-Serif\" font-size=\"14.00\" fill=\"#000000\">gini = 0.223</text>\n",
       "<text text-anchor=\"middle\" x=\"415.5288\" y=\"-34.8\" font-family=\"Helvetica,sans-Serif\" font-size=\"14.00\" fill=\"#000000\">samples = 278</text>\n",
       "<text text-anchor=\"middle\" x=\"415.5288\" y=\"-20.8\" font-family=\"Helvetica,sans-Serif\" font-size=\"14.00\" fill=\"#000000\">value = [382, 56]</text>\n",
       "<text text-anchor=\"middle\" x=\"415.5288\" y=\"-6.8\" font-family=\"Helvetica,sans-Serif\" font-size=\"14.00\" fill=\"#000000\">class = &lt;=50K</text>\n",
       "</g>\n",
       "<!-- 4&#45;&gt;5 -->\n",
       "<g id=\"edge5\" class=\"edge\">\n",
       "<title>4&#45;&gt;5</title>\n",
       "<path fill=\"none\" stroke=\"#000000\" d=\"M423.7619,-99.7647C422.7522,-91.4537 421.6822,-82.6472 420.6596,-74.2305\"/>\n",
       "<polygon fill=\"#000000\" stroke=\"#000000\" points=\"424.1236,-73.7217 419.443,-64.2169 417.1747,-74.566 424.1236,-73.7217\"/>\n",
       "</g>\n",
       "<!-- 6 -->\n",
       "<g id=\"node7\" class=\"node\">\n",
       "<title>6</title>\n",
       "<path fill=\"none\" stroke=\"#000000\" d=\"M625.3006,-64C625.3006,-64 505.7571,-64 505.7571,-64 499.7571,-64 493.7571,-58 493.7571,-52 493.7571,-52 493.7571,-12 493.7571,-12 493.7571,-6 499.7571,0 505.7571,0 505.7571,0 625.3006,0 625.3006,0 631.3006,0 637.3006,-6 637.3006,-12 637.3006,-12 637.3006,-52 637.3006,-52 637.3006,-58 631.3006,-64 625.3006,-64\"/>\n",
       "<text text-anchor=\"middle\" x=\"565.5288\" y=\"-48.8\" font-family=\"Helvetica,sans-Serif\" font-size=\"14.00\" fill=\"#000000\">gini = 0.496</text>\n",
       "<text text-anchor=\"middle\" x=\"565.5288\" y=\"-34.8\" font-family=\"Helvetica,sans-Serif\" font-size=\"14.00\" fill=\"#000000\">samples = 1675</text>\n",
       "<text text-anchor=\"middle\" x=\"565.5288\" y=\"-20.8\" font-family=\"Helvetica,sans-Serif\" font-size=\"14.00\" fill=\"#000000\">value = [1213, 1439]</text>\n",
       "<text text-anchor=\"middle\" x=\"565.5288\" y=\"-6.8\" font-family=\"Helvetica,sans-Serif\" font-size=\"14.00\" fill=\"#000000\">class = &lt;=50K</text>\n",
       "</g>\n",
       "<!-- 4&#45;&gt;6 -->\n",
       "<g id=\"edge6\" class=\"edge\">\n",
       "<title>4&#45;&gt;6</title>\n",
       "<path fill=\"none\" stroke=\"#000000\" d=\"M478.7646,-99.7647C491.043,-90.1751 504.1659,-79.9258 516.3921,-70.3768\"/>\n",
       "<polygon fill=\"#000000\" stroke=\"#000000\" points=\"518.5524,-73.1306 524.2792,-64.2169 514.2437,-67.6138 518.5524,-73.1306\"/>\n",
       "</g>\n",
       "</g>\n",
       "</svg>\n"
      ],
      "text/plain": [
       "<graphviz.files.Source at 0x1127114a8>"
      ]
     },
     "execution_count": 76,
     "metadata": {},
     "output_type": "execute_result"
    }
   ],
   "source": [
    "export_graphviz(tree_1, out_file=\"mytree.dot\", feature_names=data_train.columns , class_names=list(target_train), rounded=True)\n",
    "with open(\"mytree.dot\") as f:\n",
    "    dot_graph = f.read()\n",
    "graphviz.Source(dot_graph)"
   ]
  },
  {
   "cell_type": "code",
   "execution_count": 78,
   "metadata": {},
   "outputs": [
    {
     "data": {
      "image/svg+xml": [
       "<?xml version=\"1.0\" encoding=\"UTF-8\" standalone=\"no\"?>\n",
       "<!DOCTYPE svg PUBLIC \"-//W3C//DTD SVG 1.1//EN\"\n",
       " \"http://www.w3.org/Graphics/SVG/1.1/DTD/svg11.dtd\">\n",
       "<!-- Generated by graphviz version 2.40.1 (20161225.0304)\n",
       " -->\n",
       "<!-- Title: Tree Pages: 1 -->\n",
       "<svg width=\"627pt\" height=\"300pt\"\n",
       " viewBox=\"0.00 0.00 627.49 300.00\" xmlns=\"http://www.w3.org/2000/svg\" xmlns:xlink=\"http://www.w3.org/1999/xlink\">\n",
       "<g id=\"graph0\" class=\"graph\" transform=\"scale(1 1) rotate(0) translate(4 296)\">\n",
       "<title>Tree</title>\n",
       "<polygon fill=\"#ffffff\" stroke=\"transparent\" points=\"-4,4 -4,-296 623.4854,-296 623.4854,4 -4,4\"/>\n",
       "<!-- 0 -->\n",
       "<g id=\"node1\" class=\"node\">\n",
       "<title>0</title>\n",
       "<path fill=\"none\" stroke=\"#000000\" d=\"M414.1279,-292C414.1279,-292 215.1436,-292 215.1436,-292 209.1436,-292 203.1436,-286 203.1436,-280 203.1436,-280 203.1436,-226 203.1436,-226 203.1436,-220 209.1436,-214 215.1436,-214 215.1436,-214 414.1279,-214 414.1279,-214 420.1279,-214 426.1279,-220 426.1279,-226 426.1279,-226 426.1279,-280 426.1279,-280 426.1279,-286 420.1279,-292 414.1279,-292\"/>\n",
       "<text text-anchor=\"middle\" x=\"314.6357\" y=\"-276.8\" font-family=\"Helvetica,sans-Serif\" font-size=\"14.00\" fill=\"#000000\">Relationship_Not&#45;in&#45;family &lt;= 0.5</text>\n",
       "<text text-anchor=\"middle\" x=\"314.6357\" y=\"-262.8\" font-family=\"Helvetica,sans-Serif\" font-size=\"14.00\" fill=\"#000000\">gini = 0.363</text>\n",
       "<text text-anchor=\"middle\" x=\"314.6357\" y=\"-248.8\" font-family=\"Helvetica,sans-Serif\" font-size=\"14.00\" fill=\"#000000\">samples = 15440</text>\n",
       "<text text-anchor=\"middle\" x=\"314.6357\" y=\"-234.8\" font-family=\"Helvetica,sans-Serif\" font-size=\"14.00\" fill=\"#000000\">value = [18592, 5828]</text>\n",
       "<text text-anchor=\"middle\" x=\"314.6357\" y=\"-220.8\" font-family=\"Helvetica,sans-Serif\" font-size=\"14.00\" fill=\"#000000\">class = &lt;=50K</text>\n",
       "</g>\n",
       "<!-- 1 -->\n",
       "<g id=\"node2\" class=\"node\">\n",
       "<title>1</title>\n",
       "<path fill=\"none\" stroke=\"#000000\" d=\"M299.804,-178C299.804,-178 117.4675,-178 117.4675,-178 111.4675,-178 105.4675,-172 105.4675,-166 105.4675,-166 105.4675,-112 105.4675,-112 105.4675,-106 111.4675,-100 117.4675,-100 117.4675,-100 299.804,-100 299.804,-100 305.804,-100 311.804,-106 311.804,-112 311.804,-112 311.804,-166 311.804,-166 311.804,-172 305.804,-178 299.804,-178\"/>\n",
       "<text text-anchor=\"middle\" x=\"208.6357\" y=\"-162.8\" font-family=\"Helvetica,sans-Serif\" font-size=\"14.00\" fill=\"#000000\">Relationship_Own&#45;child &lt;= 0.5</text>\n",
       "<text text-anchor=\"middle\" x=\"208.6357\" y=\"-148.8\" font-family=\"Helvetica,sans-Serif\" font-size=\"14.00\" fill=\"#000000\">gini = 0.408</text>\n",
       "<text text-anchor=\"middle\" x=\"208.6357\" y=\"-134.8\" font-family=\"Helvetica,sans-Serif\" font-size=\"14.00\" fill=\"#000000\">samples = 11572</text>\n",
       "<text text-anchor=\"middle\" x=\"208.6357\" y=\"-120.8\" font-family=\"Helvetica,sans-Serif\" font-size=\"14.00\" fill=\"#000000\">value = [13037, 5215]</text>\n",
       "<text text-anchor=\"middle\" x=\"208.6357\" y=\"-106.8\" font-family=\"Helvetica,sans-Serif\" font-size=\"14.00\" fill=\"#000000\">class = &lt;=50K</text>\n",
       "</g>\n",
       "<!-- 0&#45;&gt;1 -->\n",
       "<g id=\"edge1\" class=\"edge\">\n",
       "<title>0&#45;&gt;1</title>\n",
       "<path fill=\"none\" stroke=\"#000000\" d=\"M278.1566,-213.7677C269.7453,-204.7216 260.7172,-195.0121 252.0436,-185.6839\"/>\n",
       "<polygon fill=\"#000000\" stroke=\"#000000\" points=\"254.5548,-183.2447 245.1822,-178.3046 249.4285,-188.0113 254.5548,-183.2447\"/>\n",
       "<text text-anchor=\"middle\" x=\"244.2737\" y=\"-199.0881\" font-family=\"Helvetica,sans-Serif\" font-size=\"14.00\" fill=\"#000000\">True</text>\n",
       "</g>\n",
       "<!-- 4 -->\n",
       "<g id=\"node5\" class=\"node\">\n",
       "<title>4</title>\n",
       "<path fill=\"none\" stroke=\"#000000\" d=\"M499.4142,-178C499.4142,-178 341.8573,-178 341.8573,-178 335.8573,-178 329.8573,-172 329.8573,-166 329.8573,-166 329.8573,-112 329.8573,-112 329.8573,-106 335.8573,-100 341.8573,-100 341.8573,-100 499.4142,-100 499.4142,-100 505.4142,-100 511.4142,-106 511.4142,-112 511.4142,-112 511.4142,-166 511.4142,-166 511.4142,-172 505.4142,-178 499.4142,-178\"/>\n",
       "<text text-anchor=\"middle\" x=\"420.6357\" y=\"-162.8\" font-family=\"Helvetica,sans-Serif\" font-size=\"14.00\" fill=\"#000000\">Education_HS&#45;grad &lt;= 0.5</text>\n",
       "<text text-anchor=\"middle\" x=\"420.6357\" y=\"-148.8\" font-family=\"Helvetica,sans-Serif\" font-size=\"14.00\" fill=\"#000000\">gini = 0.179</text>\n",
       "<text text-anchor=\"middle\" x=\"420.6357\" y=\"-134.8\" font-family=\"Helvetica,sans-Serif\" font-size=\"14.00\" fill=\"#000000\">samples = 3868</text>\n",
       "<text text-anchor=\"middle\" x=\"420.6357\" y=\"-120.8\" font-family=\"Helvetica,sans-Serif\" font-size=\"14.00\" fill=\"#000000\">value = [5555, 613]</text>\n",
       "<text text-anchor=\"middle\" x=\"420.6357\" y=\"-106.8\" font-family=\"Helvetica,sans-Serif\" font-size=\"14.00\" fill=\"#000000\">class = &lt;=50K</text>\n",
       "</g>\n",
       "<!-- 0&#45;&gt;4 -->\n",
       "<g id=\"edge4\" class=\"edge\">\n",
       "<title>0&#45;&gt;4</title>\n",
       "<path fill=\"none\" stroke=\"#000000\" d=\"M351.1149,-213.7677C359.5262,-204.7216 368.5543,-195.0121 377.2279,-185.6839\"/>\n",
       "<polygon fill=\"#000000\" stroke=\"#000000\" points=\"379.843,-188.0113 384.0893,-178.3046 374.7167,-183.2447 379.843,-188.0113\"/>\n",
       "<text text-anchor=\"middle\" x=\"384.9978\" y=\"-199.0881\" font-family=\"Helvetica,sans-Serif\" font-size=\"14.00\" fill=\"#000000\">False</text>\n",
       "</g>\n",
       "<!-- 2 -->\n",
       "<g id=\"node3\" class=\"node\">\n",
       "<title>2</title>\n",
       "<path fill=\"none\" stroke=\"#000000\" d=\"M131.4075,-64C131.4075,-64 11.864,-64 11.864,-64 5.864,-64 -.136,-58 -.136,-52 -.136,-52 -.136,-12 -.136,-12 -.136,-6 5.864,0 11.864,0 11.864,0 131.4075,0 131.4075,0 137.4075,0 143.4075,-6 143.4075,-12 143.4075,-12 143.4075,-52 143.4075,-52 143.4075,-58 137.4075,-64 131.4075,-64\"/>\n",
       "<text text-anchor=\"middle\" x=\"71.6357\" y=\"-48.8\" font-family=\"Helvetica,sans-Serif\" font-size=\"14.00\" fill=\"#000000\">gini = 0.459</text>\n",
       "<text text-anchor=\"middle\" x=\"71.6357\" y=\"-34.8\" font-family=\"Helvetica,sans-Serif\" font-size=\"14.00\" fill=\"#000000\">samples = 9185</text>\n",
       "<text text-anchor=\"middle\" x=\"71.6357\" y=\"-20.8\" font-family=\"Helvetica,sans-Serif\" font-size=\"14.00\" fill=\"#000000\">value = [9323, 5166]</text>\n",
       "<text text-anchor=\"middle\" x=\"71.6357\" y=\"-6.8\" font-family=\"Helvetica,sans-Serif\" font-size=\"14.00\" fill=\"#000000\">class = &lt;=50K</text>\n",
       "</g>\n",
       "<!-- 1&#45;&gt;2 -->\n",
       "<g id=\"edge2\" class=\"edge\">\n",
       "<title>1&#45;&gt;2</title>\n",
       "<path fill=\"none\" stroke=\"#000000\" d=\"M158.3999,-99.7647C146.1216,-90.1751 132.9987,-79.9258 120.7724,-70.3768\"/>\n",
       "<polygon fill=\"#000000\" stroke=\"#000000\" points=\"122.9209,-67.6138 112.8854,-64.2169 118.6121,-73.1306 122.9209,-67.6138\"/>\n",
       "</g>\n",
       "<!-- 3 -->\n",
       "<g id=\"node4\" class=\"node\">\n",
       "<title>3</title>\n",
       "<path fill=\"none\" stroke=\"#000000\" d=\"M276.3353,-64C276.3353,-64 172.9362,-64 172.9362,-64 166.9362,-64 160.9362,-58 160.9362,-52 160.9362,-52 160.9362,-12 160.9362,-12 160.9362,-6 166.9362,0 172.9362,0 172.9362,0 276.3353,0 276.3353,0 282.3353,0 288.3353,-6 288.3353,-12 288.3353,-12 288.3353,-52 288.3353,-52 288.3353,-58 282.3353,-64 276.3353,-64\"/>\n",
       "<text text-anchor=\"middle\" x=\"224.6357\" y=\"-48.8\" font-family=\"Helvetica,sans-Serif\" font-size=\"14.00\" fill=\"#000000\">gini = 0.026</text>\n",
       "<text text-anchor=\"middle\" x=\"224.6357\" y=\"-34.8\" font-family=\"Helvetica,sans-Serif\" font-size=\"14.00\" fill=\"#000000\">samples = 2387</text>\n",
       "<text text-anchor=\"middle\" x=\"224.6357\" y=\"-20.8\" font-family=\"Helvetica,sans-Serif\" font-size=\"14.00\" fill=\"#000000\">value = [3714, 49]</text>\n",
       "<text text-anchor=\"middle\" x=\"224.6357\" y=\"-6.8\" font-family=\"Helvetica,sans-Serif\" font-size=\"14.00\" fill=\"#000000\">class = &lt;=50K</text>\n",
       "</g>\n",
       "<!-- 1&#45;&gt;3 -->\n",
       "<g id=\"edge3\" class=\"edge\">\n",
       "<title>1&#45;&gt;3</title>\n",
       "<path fill=\"none\" stroke=\"#000000\" d=\"M214.5027,-99.7647C215.7455,-91.4537 217.0623,-82.6472 218.3209,-74.2305\"/>\n",
       "<polygon fill=\"#000000\" stroke=\"#000000\" points=\"221.8008,-74.6246 219.8183,-64.2169 214.8778,-73.5893 221.8008,-74.6246\"/>\n",
       "</g>\n",
       "<!-- 5 -->\n",
       "<g id=\"node6\" class=\"node\">\n",
       "<title>5</title>\n",
       "<path fill=\"none\" stroke=\"#000000\" d=\"M461.622,-64C461.622,-64 349.6495,-64 349.6495,-64 343.6495,-64 337.6495,-58 337.6495,-52 337.6495,-52 337.6495,-12 337.6495,-12 337.6495,-6 343.6495,0 349.6495,0 349.6495,0 461.622,0 461.622,0 467.622,0 473.622,-6 473.622,-12 473.622,-12 473.622,-52 473.622,-52 473.622,-58 467.622,-64 461.622,-64\"/>\n",
       "<text text-anchor=\"middle\" x=\"405.6357\" y=\"-48.8\" font-family=\"Helvetica,sans-Serif\" font-size=\"14.00\" fill=\"#000000\">gini = 0.216</text>\n",
       "<text text-anchor=\"middle\" x=\"405.6357\" y=\"-34.8\" font-family=\"Helvetica,sans-Serif\" font-size=\"14.00\" fill=\"#000000\">samples = 2711</text>\n",
       "<text text-anchor=\"middle\" x=\"405.6357\" y=\"-20.8\" font-family=\"Helvetica,sans-Serif\" font-size=\"14.00\" fill=\"#000000\">value = [3805, 534]</text>\n",
       "<text text-anchor=\"middle\" x=\"405.6357\" y=\"-6.8\" font-family=\"Helvetica,sans-Serif\" font-size=\"14.00\" fill=\"#000000\">class = &lt;=50K</text>\n",
       "</g>\n",
       "<!-- 4&#45;&gt;5 -->\n",
       "<g id=\"edge5\" class=\"edge\">\n",
       "<title>4&#45;&gt;5</title>\n",
       "<path fill=\"none\" stroke=\"#000000\" d=\"M415.1355,-99.7647C413.9704,-91.4537 412.7358,-82.6472 411.5559,-74.2305\"/>\n",
       "<polygon fill=\"#000000\" stroke=\"#000000\" points=\"415.0066,-73.6341 410.1521,-64.2169 408.0744,-74.606 415.0066,-73.6341\"/>\n",
       "</g>\n",
       "<!-- 6 -->\n",
       "<g id=\"node7\" class=\"node\">\n",
       "<title>6</title>\n",
       "<path fill=\"none\" stroke=\"#000000\" d=\"M607.3353,-64C607.3353,-64 503.9362,-64 503.9362,-64 497.9362,-64 491.9362,-58 491.9362,-52 491.9362,-52 491.9362,-12 491.9362,-12 491.9362,-6 497.9362,0 503.9362,0 503.9362,0 607.3353,0 607.3353,0 613.3353,0 619.3353,-6 619.3353,-12 619.3353,-12 619.3353,-52 619.3353,-52 619.3353,-58 613.3353,-64 607.3353,-64\"/>\n",
       "<text text-anchor=\"middle\" x=\"555.6357\" y=\"-48.8\" font-family=\"Helvetica,sans-Serif\" font-size=\"14.00\" fill=\"#000000\">gini = 0.083</text>\n",
       "<text text-anchor=\"middle\" x=\"555.6357\" y=\"-34.8\" font-family=\"Helvetica,sans-Serif\" font-size=\"14.00\" fill=\"#000000\">samples = 1157</text>\n",
       "<text text-anchor=\"middle\" x=\"555.6357\" y=\"-20.8\" font-family=\"Helvetica,sans-Serif\" font-size=\"14.00\" fill=\"#000000\">value = [1750, 79]</text>\n",
       "<text text-anchor=\"middle\" x=\"555.6357\" y=\"-6.8\" font-family=\"Helvetica,sans-Serif\" font-size=\"14.00\" fill=\"#000000\">class = &lt;=50K</text>\n",
       "</g>\n",
       "<!-- 4&#45;&gt;6 -->\n",
       "<g id=\"edge6\" class=\"edge\">\n",
       "<title>4&#45;&gt;6</title>\n",
       "<path fill=\"none\" stroke=\"#000000\" d=\"M470.1382,-99.7647C482.122,-90.2664 494.9224,-80.121 506.8719,-70.6498\"/>\n",
       "<polygon fill=\"#000000\" stroke=\"#000000\" points=\"509.3254,-73.1713 514.9883,-64.2169 504.9773,-67.6855 509.3254,-73.1713\"/>\n",
       "</g>\n",
       "</g>\n",
       "</svg>\n"
      ],
      "text/plain": [
       "<graphviz.files.Source at 0x11297c208>"
      ]
     },
     "execution_count": 78,
     "metadata": {},
     "output_type": "execute_result"
    }
   ],
   "source": [
    "tree_2 = forest_2.estimators_[1] #.fit(data_train, target_train.iloc[:,1])\n",
    "export_graphviz(tree_2, out_file=\"mytree.dot\", feature_names=data_train.columns , class_names=list(target_train), rounded=True)\n",
    "with open(\"mytree.dot\") as f:\n",
    "    dot_graph = f.read()\n",
    "graphviz.Source(dot_graph)"
   ]
  },
  {
   "cell_type": "markdown",
   "metadata": {},
   "source": [
    "## 5. Gradient boosting\n",
    "\n",
    "As a final step, we'll examine Gradient Boosted Trees. "
   ]
  },
  {
   "cell_type": "markdown",
   "metadata": {},
   "source": [
    "### 5.1 GBT "
   ]
  },
  {
   "cell_type": "markdown",
   "metadata": {},
   "source": [
    "#### 5.1.1 Fitting a GBT model\n",
    "\n",
    "In the cell below, import `GradientBoostingClassifier` from sklearn's `ensemble` module."
   ]
  },
  {
   "cell_type": "code",
   "execution_count": 79,
   "metadata": {},
   "outputs": [],
   "source": [
    "from sklearn.ensemble import GradientBoostingClassifier"
   ]
  },
  {
   "cell_type": "markdown",
   "metadata": {},
   "source": [
    "Next, create a `GradientBoostingClassifier` and set the `max_depth` to 5 and the `learning_rate` to `0.01`.  Then, fit the model to our training data."
   ]
  },
  {
   "cell_type": "code",
   "execution_count": 80,
   "metadata": {},
   "outputs": [
    {
     "data": {
      "text/plain": [
       "GradientBoostingClassifier(criterion='friedman_mse', init=None,\n",
       "              learning_rate=0.01, loss='deviance', max_depth=5,\n",
       "              max_features=None, max_leaf_nodes=None,\n",
       "              min_impurity_decrease=0.0, min_impurity_split=None,\n",
       "              min_samples_leaf=1, min_samples_split=2,\n",
       "              min_weight_fraction_leaf=0.0, n_estimators=100,\n",
       "              presort='auto', random_state=None, subsample=1.0, verbose=0,\n",
       "              warm_start=False)"
      ]
     },
     "execution_count": 80,
     "metadata": {},
     "output_type": "execute_result"
    }
   ],
   "source": [
    "gradboost = GradientBoostingClassifier(max_depth=5, learning_rate=.01)\n",
    "gradboost.fit(data_train, target_train)\n"
   ]
  },
  {
   "cell_type": "markdown",
   "metadata": {},
   "source": [
    "Now, check the training and testing accuracy of our Gradient Boosted Model.  "
   ]
  },
  {
   "cell_type": "code",
   "execution_count": 81,
   "metadata": {},
   "outputs": [
    {
     "data": {
      "text/plain": [
       "0.8194103194103194"
      ]
     },
     "execution_count": 81,
     "metadata": {},
     "output_type": "execute_result"
    }
   ],
   "source": [
    "gradboost.score(data_train, target_train)"
   ]
  },
  {
   "cell_type": "code",
   "execution_count": 82,
   "metadata": {},
   "outputs": [
    {
     "data": {
      "text/plain": [
       "0.8159931212381771"
      ]
     },
     "execution_count": 82,
     "metadata": {},
     "output_type": "execute_result"
    }
   ],
   "source": [
    "gradboost.score(data_test, target_test)"
   ]
  },
  {
   "cell_type": "code",
   "execution_count": 83,
   "metadata": {},
   "outputs": [
    {
     "data": {
      "image/png": "[encoded data removed]",
      "text/plain": [
       "<Figure size 576x576 with 1 Axes>"
      ]
     },
     "metadata": {},
     "output_type": "display_data"
    }
   ],
   "source": [
    "plot_feature_importances(gradboost)"
   ]
  },
  {
   "cell_type": "markdown",
   "metadata": {},
   "source": [
    "Finally, plot the feature importance for the model. "
   ]
  },
  {
   "cell_type": "code",
   "execution_count": null,
   "metadata": {},
   "outputs": [],
   "source": []
  },
  {
   "cell_type": "markdown",
   "metadata": {},
   "source": [
    "This isn't really an improvement compared to our Random forests. We told you that gradient boosting methods can generate excellent results, if you set your hyperparameters right! As you know, gradient descent is a delicate process and the learning rate should be set correctly. Let's have a look at what changing the learning rate does to our model."
   ]
  },
  {
   "cell_type": "markdown",
   "metadata": {},
   "source": [
    "#### 5.1.2 Changing the learning rate\n",
    "\n",
    "We'll create another `GradientBoostingClassifier`.  Set the `max_depth` to `5`, and the `learning_rate` to `0.09`.  Then, fit the new model to our training data. "
   ]
  },
  {
   "cell_type": "code",
   "execution_count": 84,
   "metadata": {},
   "outputs": [
    {
     "data": {
      "text/plain": [
       "GradientBoostingClassifier(criterion='friedman_mse', init=None,\n",
       "              learning_rate=0.09, loss='deviance', max_depth=5,\n",
       "              max_features=None, max_leaf_nodes=None,\n",
       "              min_impurity_decrease=0.0, min_impurity_split=None,\n",
       "              min_samples_leaf=1, min_samples_split=2,\n",
       "              min_weight_fraction_leaf=0.0, n_estimators=100,\n",
       "              presort='auto', random_state=None, subsample=1.0, verbose=0,\n",
       "              warm_start=False)"
      ]
     },
     "execution_count": 84,
     "metadata": {},
     "output_type": "execute_result"
    }
   ],
   "source": [
    "gradboost_2 = GradientBoostingClassifier(max_depth=5, learning_rate=.09)\n",
    "gradboost_2.fit(data_train, target_train)\n"
   ]
  },
  {
   "cell_type": "markdown",
   "metadata": {},
   "source": [
    "Now, check the training and testing accuracy of this model. "
   ]
  },
  {
   "cell_type": "code",
   "execution_count": 85,
   "metadata": {},
   "outputs": [
    {
     "data": {
      "text/plain": [
       "0.8438165438165438"
      ]
     },
     "execution_count": 85,
     "metadata": {},
     "output_type": "execute_result"
    }
   ],
   "source": [
    "gradboost_2.score(data_train, target_train)"
   ]
  },
  {
   "cell_type": "code",
   "execution_count": 87,
   "metadata": {},
   "outputs": [
    {
     "data": {
      "text/plain": [
       "0.8357695614789338"
      ]
     },
     "execution_count": 87,
     "metadata": {},
     "output_type": "execute_result"
    }
   ],
   "source": [
    "gradboost_2.score(data_test, target_test)"
   ]
  },
  {
   "cell_type": "code",
   "execution_count": 88,
   "metadata": {},
   "outputs": [
    {
     "data": {
      "image/png": "[encoded data removed]",
      "text/plain": [
       "<Figure size 576x576 with 1 Axes>"
      ]
     },
     "metadata": {},
     "output_type": "display_data"
    }
   ],
   "source": [
    "plot_feature_importances(gradboost_2)"
   ]
  },
  {
   "cell_type": "markdown",
   "metadata": {},
   "source": [
    "Now, plot the feature importance. "
   ]
  },
  {
   "cell_type": "code",
   "execution_count": null,
   "metadata": {},
   "outputs": [],
   "source": []
  },
  {
   "cell_type": "markdown",
   "metadata": {},
   "source": [
    "The feature importances plot has changed drastically! This model is definitely more complex, as mentioned in the lecture."
   ]
  },
  {
   "cell_type": "markdown",
   "metadata": {},
   "source": [
    "### 5.2 AdaBoost\n",
    "\n",
    "We'll end this lab with AdaBoost, a popular variant of Gradient Boosted Trees.  \n",
    "\n",
    "In the cell below, import `AdaBoostClassifier` from sklearn's `ensemble` module. "
   ]
  },
  {
   "cell_type": "code",
   "execution_count": 89,
   "metadata": {},
   "outputs": [],
   "source": [
    "from sklearn.ensemble import AdaBoostClassifier"
   ]
  },
  {
   "cell_type": "markdown",
   "metadata": {},
   "source": [
    "In the cell below, create an AdaBoost classifier. Set the number of estimators to `100`.  Then, fit the model to our training data. "
   ]
  },
  {
   "cell_type": "code",
   "execution_count": 90,
   "metadata": {},
   "outputs": [
    {
     "data": {
      "text/plain": [
       "AdaBoostClassifier(algorithm='SAMME.R', base_estimator=None,\n",
       "          learning_rate=1.0, n_estimators=100, random_state=None)"
      ]
     },
     "execution_count": 90,
     "metadata": {},
     "output_type": "execute_result"
    }
   ],
   "source": [
    "adaboost = AdaBoostClassifier(n_estimators=100)\n",
    "adaboost.fit(data_train, target_train)\n"
   ]
  },
  {
   "cell_type": "markdown",
   "metadata": {},
   "source": [
    "Now, check the training and testing accuracy of the model. "
   ]
  },
  {
   "cell_type": "code",
   "execution_count": 91,
   "metadata": {},
   "outputs": [
    {
     "data": {
      "text/plain": [
       "0.8364864864864865"
      ]
     },
     "execution_count": 91,
     "metadata": {},
     "output_type": "execute_result"
    }
   ],
   "source": [
    "adaboost.score(data_train, target_train)"
   ]
  },
  {
   "cell_type": "code",
   "execution_count": 92,
   "metadata": {},
   "outputs": [
    {
     "data": {
      "text/plain": [
       "0.8340498710232158"
      ]
     },
     "execution_count": 92,
     "metadata": {},
     "output_type": "execute_result"
    }
   ],
   "source": [
    "adaboost.score(data_test,target_test)"
   ]
  },
  {
   "cell_type": "markdown",
   "metadata": {},
   "source": [
    "Finally, plot the feature importances for our AdaBoost model. "
   ]
  },
  {
   "cell_type": "code",
   "execution_count": 93,
   "metadata": {},
   "outputs": [
    {
     "data": {
      "image/png": "[encoded data removed]",
      "text/plain": [
       "<Figure size 576x576 with 1 Axes>"
      ]
     },
     "metadata": {},
     "output_type": "display_data"
    }
   ],
   "source": [
    "plot_feature_importances(adaboost)"
   ]
  },
  {
   "cell_type": "markdown",
   "metadata": {},
   "source": [
    "Seems to be performing similarly to gradient boosting, even more focus on Age."
   ]
  },
  {
   "cell_type": "markdown",
   "metadata": {},
   "source": [
    "# Sources\n",
    "https://www.svds.com/machine-learning-vs-statistics/ \n",
    "\n",
    "https://github.com/xbno/Projects/blob/master/Models_Scratch/Decision%20Trees%20from%20scratch.ipynb\n",
    "\n",
    "http://scikit-learn.org/stable/modules/generated/sklearn.ensemble.RandomForestClassifier.html\n",
    "\n",
    "http://scikit-learn.org/stable/modules/ensemble.html\n",
    "\n",
    "\n",
    "Raschka and Mirjalili\n",
    "\n",
    "Muller and Guido\n"
   ]
  },
  {
   "cell_type": "markdown",
   "metadata": {},
   "source": [
    "https://machinelearningmastery.com/ensemble-machine-learning-algorithms-python-scikit-learn/"
   ]
  }
 ],
 "metadata": {
  "kernelspec": {
   "display_name": "Python 3",
   "language": "python",
   "name": "python3"
  },
  "language_info": {
   "codemirror_mode": {
    "name": "ipython",
    "version": 3
   },
   "file_extension": ".py",
   "mimetype": "text/x-python",
   "name": "python",
   "nbconvert_exporter": "python",
   "pygments_lexer": "ipython3",
   "version": "3.6.5"
  }
 },
 "nbformat": 4,
 "nbformat_minor": 2
}
